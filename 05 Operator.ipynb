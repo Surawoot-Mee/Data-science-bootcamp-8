{
 "cells": [
  {
   "cell_type": "markdown",
   "id": "e0c2a7e4",
   "metadata": {},
   "source": [
    "# Operator"
   ]
  },
  {
   "cell_type": "code",
   "execution_count": 12,
   "id": "afb31dfb",
   "metadata": {},
   "outputs": [
    {
     "name": "stdout",
     "output_type": "stream",
     "text": [
      "34\n",
      "34\n",
      "True\n"
     ]
    }
   ],
   "source": [
    "#1.\n",
    "a = 2**3 + 5*7 - 9\n",
    "print(a)\n",
    "\n",
    "b = 2**3\n",
    "c = 5*7\n",
    "d = 9\n",
    "e = b + c - d\n",
    "\n",
    "print(e)\n",
    "print(a == e)"
   ]
  },
  {
   "cell_type": "code",
   "execution_count": 11,
   "id": "117b4cf2",
   "metadata": {},
   "outputs": [
    {
     "name": "stdout",
     "output_type": "stream",
     "text": [
      "60\n",
      "60\n",
      "True\n"
     ]
    }
   ],
   "source": [
    "#2.\n",
    "a = 5*2**3 + 4*5\n",
    "print(a)\n",
    "\n",
    "b = 2**3\n",
    "c = 5*b\n",
    "d = 4*5\n",
    "e = c + d\n",
    "\n",
    "print(e)\n",
    "print(a == e)"
   ]
  },
  {
   "cell_type": "code",
   "execution_count": 14,
   "id": "f477bcfa",
   "metadata": {},
   "outputs": [
    {
     "name": "stdout",
     "output_type": "stream",
     "text": [
      "512\n",
      "512\n",
      "True\n"
     ]
    }
   ],
   "source": [
    "#3.\n",
    "a = 2**3**2\n",
    "print(a)\n",
    "\n",
    "b = 3**2\n",
    "c = 2**b\n",
    "\n",
    "print(c)\n",
    "print(a == c)"
   ]
  },
  {
   "cell_type": "code",
   "execution_count": 15,
   "id": "d7c3d67e",
   "metadata": {},
   "outputs": [
    {
     "name": "stdout",
     "output_type": "stream",
     "text": [
      "15\n",
      "15\n",
      "True\n"
     ]
    }
   ],
   "source": [
    "#4.\n",
    "a = 5 + 4 + 3 + 2 +1\n",
    "print(a)\n",
    "\n",
    "b = 5\n",
    "c = 4\n",
    "d = 3\n",
    "e = 2\n",
    "f = 1\n",
    "g = b + c + d + e + f \n",
    "\n",
    "print(g)\n",
    "print(a == g)"
   ]
  },
  {
   "cell_type": "code",
   "execution_count": 26,
   "id": "60759b9e",
   "metadata": {},
   "outputs": [
    {
     "name": "stdout",
     "output_type": "stream",
     "text": [
      "3\n",
      "3\n",
      "True\n"
     ]
    }
   ],
   "source": [
    "#5.\n",
    "a = 7%2**2\n",
    "print(a)\n",
    "\n",
    "b = 2**2\n",
    "c = 7%b # % in x%m returns a normal remainder modulus, but only if m < x. if m > x, = x\n",
    "\n",
    "print(c)\n",
    "print(a == c)"
   ]
  },
  {
   "cell_type": "code",
   "execution_count": 24,
   "id": "03f773b1",
   "metadata": {},
   "outputs": [
    {
     "name": "stdout",
     "output_type": "stream",
     "text": [
      "1\n",
      "1\n",
      "True\n"
     ]
    }
   ],
   "source": [
    "#6.\n",
    "a = 7//(3**2**2 - 75)\n",
    "print(a)\n",
    "\n",
    "b = 2**2\n",
    "c = 3**b\n",
    "d = c - 75\n",
    "e = 7//d #divide with integral result (discard remainder)\n",
    "\n",
    "print(e)\n",
    "print(a == e)"
   ]
  },
  {
   "cell_type": "code",
   "execution_count": 61,
   "id": "3577ccda",
   "metadata": {},
   "outputs": [
    {
     "name": "stdout",
     "output_type": "stream",
     "text": [
      "10\n",
      "10\n",
      "True\n"
     ]
    }
   ],
   "source": [
    "#7.\n",
    "a = 6%7//3 + 2**3\n",
    "print(a)\n",
    "\n",
    "b = 6%7\n",
    "c = b//3\n",
    "d = 2**3\n",
    "e = c + d\n",
    "\n",
    "print(e)\n",
    "print(a == e)"
   ]
  },
  {
   "cell_type": "code",
   "execution_count": 63,
   "id": "fdf0dcbf",
   "metadata": {},
   "outputs": [
    {
     "name": "stdout",
     "output_type": "stream",
     "text": [
      "3\n",
      "3\n",
      "True\n"
     ]
    }
   ],
   "source": [
    "#8.\n",
    "a = 5**2//(2*2 + 4)\n",
    "print(a)\n",
    "\n",
    "b = 5**2\n",
    "c = 2*2\n",
    "d = c + 4\n",
    "e = b//d\n",
    "\n",
    "print(e)\n",
    "print(a == e)"
   ]
  },
  {
   "cell_type": "code",
   "execution_count": 65,
   "id": "a91c6828",
   "metadata": {},
   "outputs": [
    {
     "name": "stdout",
     "output_type": "stream",
     "text": [
      "8.5\n",
      "8.5\n",
      "True\n"
     ]
    }
   ],
   "source": [
    "#9.\n",
    "a = 1 + 2**3*1 - 1/2\n",
    "print(a)\n",
    "\n",
    "b = 3*1\n",
    "c = 2**b\n",
    "d = 1/2\n",
    "e = 1\n",
    "f = c - d + e\n",
    "\n",
    "print(f)\n",
    "print(a == f)"
   ]
  },
  {
   "cell_type": "code",
   "execution_count": 67,
   "id": "750773a7",
   "metadata": {},
   "outputs": [
    {
     "name": "stdout",
     "output_type": "stream",
     "text": [
      "7\n",
      "7\n",
      "True\n"
     ]
    }
   ],
   "source": [
    "#10.\n",
    "a = (1+2) + (3*4) - (2**3)\n",
    "print(a)\n",
    "\n",
    "b = 1+2\n",
    "c = 3*4\n",
    "d = 2**3\n",
    "e = b + c - d\n",
    "\n",
    "print(e)\n",
    "print(a == e)"
   ]
  },
  {
   "cell_type": "code",
   "execution_count": 68,
   "id": "e9eabf94",
   "metadata": {},
   "outputs": [
    {
     "name": "stdout",
     "output_type": "stream",
     "text": [
      "4\n"
     ]
    }
   ],
   "source": [
    "#11.\n",
    "y = 2**2\n",
    "print(y)"
   ]
  },
  {
   "cell_type": "code",
   "execution_count": 71,
   "id": "7ee618d0",
   "metadata": {},
   "outputs": [
    {
     "name": "stdout",
     "output_type": "stream",
     "text": [
      "1.125\n",
      "1.125\n",
      "True\n"
     ]
    }
   ],
   "source": [
    "#12.\n",
    "y = 3**2/2**3\n",
    "print(y)\n",
    "\n",
    "a = 3**2\n",
    "b = 2**3\n",
    "c = a/b\n",
    "\n",
    "print(c)\n",
    "print(y == c)"
   ]
  },
  {
   "cell_type": "code",
   "execution_count": 79,
   "id": "bee28e2e",
   "metadata": {},
   "outputs": [
    {
     "name": "stdout",
     "output_type": "stream",
     "text": [
      "8.0\n",
      "8.0\n",
      "True\n"
     ]
    }
   ],
   "source": [
    "#13.\n",
    "y = 2**4**1/2\n",
    "print(y)\n",
    "\n",
    "a = 2**4\n",
    "b = a**1\n",
    "c = b/2\n",
    "\n",
    "print(c)\n",
    "print(y == c)"
   ]
  },
  {
   "cell_type": "code",
   "execution_count": 81,
   "id": "939595ec",
   "metadata": {},
   "outputs": [
    {
     "name": "stdout",
     "output_type": "stream",
     "text": [
      "0\n",
      "0\n",
      "False\n"
     ]
    }
   ],
   "source": [
    "#14.\n",
    "y = 2*(4**2)%(8//2)\n",
    "print(y)\n",
    "\n",
    "a = 4**2\n",
    "b = 2*a\n",
    "c = 8//2\n",
    "d = b%c\n",
    "\n",
    "print(d)\n",
    "print(a == d)"
   ]
  },
  {
   "cell_type": "code",
   "execution_count": 84,
   "id": "93437278",
   "metadata": {},
   "outputs": [
    {
     "name": "stdout",
     "output_type": "stream",
     "text": [
      "False\n",
      "False\n"
     ]
    }
   ],
   "source": [
    "#15.\n",
    "y = 2*4 - 15 >= 1\n",
    "print(y)\n",
    "\n",
    "a = 2*4\n",
    "b = a - 15\n",
    "\n",
    "print(b >= 1)\n"
   ]
  }
 ],
 "metadata": {
  "kernelspec": {
   "display_name": "Python 3 (ipykernel)",
   "language": "python",
   "name": "python3"
  },
  "language_info": {
   "codemirror_mode": {
    "name": "ipython",
    "version": 3
   },
   "file_extension": ".py",
   "mimetype": "text/x-python",
   "name": "python",
   "nbconvert_exporter": "python",
   "pygments_lexer": "ipython3",
   "version": "3.9.13"
  }
 },
 "nbformat": 4,
 "nbformat_minor": 5
}
