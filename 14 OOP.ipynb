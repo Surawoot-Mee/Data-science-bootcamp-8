{
 "cells": [
  {
   "cell_type": "markdown",
   "id": "1da5ff55",
   "metadata": {},
   "source": [
    "# 14. OOP"
   ]
  },
  {
   "cell_type": "code",
   "execution_count": 5,
   "id": "03c55848",
   "metadata": {},
   "outputs": [],
   "source": [
    "#object : variable + Methods\n",
    "\n",
    "class Account:\n",
    "    def __init__(self, numID):\n",
    "        self.number = numID\n",
    "    \n",
    "    def account_type(self):\n",
    "        if str(self.number).startswith('1'):\n",
    "            self.type = 'current'\n",
    "        elif str(self.number).startswith('2'):\n",
    "            self.type = 'saving'"
   ]
  },
  {
   "cell_type": "code",
   "execution_count": 6,
   "id": "2b987e18",
   "metadata": {},
   "outputs": [],
   "source": [
    "acc = Account(1001)"
   ]
  },
  {
   "cell_type": "code",
   "execution_count": 37,
   "id": "60d6ec4d",
   "metadata": {},
   "outputs": [
    {
     "name": "stdout",
     "output_type": "stream",
     "text": [
      "My name is John.\n",
      "I'm 23 year old.\n"
     ]
    }
   ],
   "source": [
    "#1.\n",
    "class People:\n",
    "    def __init__(self, name, age):\n",
    "        self.name = name\n",
    "        self.age = age\n",
    "        \n",
    "    def introduce(self):\n",
    "        print(f\"My name is {self.name}.\")\n",
    "        print(f\"I'm {self.age} year old.\")\n",
    "        \n",
    "John = People('John', 23)\n",
    "John.introduce()"
   ]
  },
  {
   "cell_type": "code",
   "execution_count": 53,
   "id": "fb34eb5b",
   "metadata": {},
   "outputs": [
    {
     "name": "stdout",
     "output_type": "stream",
     "text": [
      "Before: 23 years old\n",
      "After: 33 years old\n"
     ]
    }
   ],
   "source": [
    "#2.\n",
    "class Human:\n",
    "    def __init__(self, name, age):\n",
    "        self.name = name\n",
    "        self.age = age\n",
    "    def aging(self, year):\n",
    "        print(f\"Before: {self.age} years old\")\n",
    "        print(f\"After: {self.age+year} years old\")\n",
    "        \n",
    "John = Human('John', 23)\n",
    "John.aging(10)"
   ]
  },
  {
   "cell_type": "code",
   "execution_count": 232,
   "id": "a602ca25",
   "metadata": {},
   "outputs": [
    {
     "name": "stdout",
     "output_type": "stream",
     "text": [
      "2 + 4i\n"
     ]
    }
   ],
   "source": [
    "#3.\n",
    "class ComplexNumber:\n",
    "    def __init__(self, r, i):\n",
    "        self.r = r\n",
    "        self.i = i\n",
    "    def get_value(self):\n",
    "        print('%d + %di' %(self.r, self.i))\n",
    "\n",
    "z = ComplexNumber(2,4)\n",
    "z.get_value()"
   ]
  },
  {
   "cell_type": "code",
   "execution_count": 185,
   "id": "12e559e7",
   "metadata": {},
   "outputs": [
    {
     "name": "stdout",
     "output_type": "stream",
     "text": [
      "Area circle A: 3216.99087727616\n",
      "Perimeter circle A: 201.06192982976\n",
      "Area circle B: 804.24771931904\n",
      "Perimeter circle B: 100.53096491488\n"
     ]
    }
   ],
   "source": [
    "#4.\n",
    "class Circle:\n",
    "    def __init__(self, radius):\n",
    "        self.radius = radius\n",
    "    def get_area(self):\n",
    "        area = 3.14159265359*self.radius**2\n",
    "        return area\n",
    "    def get_perimeter(self):\n",
    "        perimeter = 3.14159265359*2*self.radius\n",
    "        return perimeter\n",
    "        \n",
    "circle_A = Circle(32)\n",
    "circle_B = Circle(16)\n",
    "print(f\"Area circle A: {circle_A.get_area()}\")\n",
    "print(f\"Perimeter circle A: {circle_A.get_perimeter()}\")\n",
    "print(f\"Area circle B: {circle_B.get_area()}\")\n",
    "print(f\"Perimeter circle B: {circle_B.get_perimeter()}\")"
   ]
  },
  {
   "cell_type": "code",
   "execution_count": 229,
   "id": "5a3a0842",
   "metadata": {},
   "outputs": [
    {
     "name": "stdout",
     "output_type": "stream",
     "text": [
      "Book status : available\n",
      "borrow successfully\n",
      "Book status : unavailable\n",
      "return successfully\n",
      "Book status : available\n"
     ]
    }
   ],
   "source": [
    "#5.\n",
    "class Book:\n",
    "    def __init__(self, book_name):\n",
    "        self.book_name = book_name\n",
    "        self.book_status = 'available'\n",
    "    def borrow_book(self):\n",
    "        if self.book_status == 'available':\n",
    "            print('borrow successfully')\n",
    "            self.book_status = 'unavailable'\n",
    "        elif self.book_status == 'unavailable':\n",
    "            print('borrow unsuccessfully')\n",
    "    def return_book(self):\n",
    "        if self.book_status == 'unavailable':\n",
    "            print('return successfully')\n",
    "            self.book_status = 'available'\n",
    "        elif self.book_status == 'available':\n",
    "            print('return unsuccessfully')\n",
    "    \n",
    "Book_A = Book('AI superpowers')\n",
    "print('Book status :', Book_A.book_status)\n",
    "Book_A.borrow_book()\n",
    "print('Book status :', Book_A.book_status)\n",
    "Book_A.return_book()\n",
    "print('Book status :', Book_A.book_status)"
   ]
  },
  {
   "cell_type": "code",
   "execution_count": 236,
   "id": "11a9be4e",
   "metadata": {},
   "outputs": [
    {
     "name": "stdout",
     "output_type": "stream",
     "text": [
      "color = Red\n"
     ]
    }
   ],
   "source": [
    "#6.\n",
    "class Car:\n",
    "    def __init__(self, brand, model, year, color):\n",
    "        self.brand = brand\n",
    "        self.model = model\n",
    "        self.year = year\n",
    "        self.color = color\n",
    "    def new_color(self, color):\n",
    "        self.color = color\n",
    "\n",
    "car_A = Car('Honda', 'Civic', '2019', 'Black')\n",
    "car_A.new_color('Red')\n",
    "print('color =', car_A.color)"
   ]
  },
  {
   "cell_type": "code",
   "execution_count": 23,
   "id": "c342d300",
   "metadata": {
    "scrolled": true
   },
   "outputs": [
    {
     "name": "stdout",
     "output_type": "stream",
     "text": [
      "height = 33.0\n",
      "weight = 7.700000000000001\n"
     ]
    }
   ],
   "source": [
    "#7.\n",
    "class Dog:\n",
    "    def __init__(self, breed, color, height, weight):\n",
    "        self.breed = breed\n",
    "        self.color = color\n",
    "        self.height = height\n",
    "        self.weight = weight\n",
    "        \n",
    "    def growth(self):\n",
    "        self.height = self.height*(1.1)\n",
    "        self.weight = self.weight*(1.1)\n",
    "\n",
    "dog_A = Dog('Jack Russell Terrier', 'White', 30, 7)\n",
    "dog_A.growth()\n",
    "print('height =', dog_A.height)\n",
    "print('weight =', dog_A.weight)"
   ]
  },
  {
   "cell_type": "code",
   "execution_count": 60,
   "id": "3e4944df",
   "metadata": {},
   "outputs": [
    {
     "name": "stdout",
     "output_type": "stream",
     "text": [
      "Mean : 6.0\n",
      "Min : 1\n",
      "Max : 11\n"
     ]
    }
   ],
   "source": [
    "#8.\n",
    "class Stats:\n",
    "    def __init__(self, data):\n",
    "        self.data = data\n",
    "    def summary(self):\n",
    "        self.mean = sum(self.data)/len(self.data)\n",
    "        self.min = min(self.data)\n",
    "        self.max = max(self.data)\n",
    "        print('Mean :', self.mean)\n",
    "        print('Min :', self.min)\n",
    "        print('Max :', self.max)\n",
    "\n",
    "A = [1, 3, 5, 7, 9, 11]\n",
    "stat_A = Stats(A)\n",
    "stat_A.summary()"
   ]
  },
  {
   "cell_type": "code",
   "execution_count": 240,
   "id": "6fe04149",
   "metadata": {},
   "outputs": [
    {
     "name": "stdout",
     "output_type": "stream",
     "text": [
      "30000 USD\n",
      "900000 THB\n",
      "30000.0 USD\n"
     ]
    }
   ],
   "source": [
    "#9.\n",
    "class USDTHB:\n",
    "    def __init__(self, amount, currency):\n",
    "        self.amount = amount\n",
    "        self.currency = currency\n",
    "    def to_THB(self):\n",
    "        if self.currency == 'USD':\n",
    "            self.currency = 'THB'\n",
    "            self.amount = self.amount*30\n",
    "        else:\n",
    "            self.amount = self.amount\n",
    "    def to_USD(self):\n",
    "        if self.currency == 'THB':\n",
    "            self.currency = 'USD'\n",
    "            self.amount = self.amount/30\n",
    "        else:\n",
    "            self.amount = self.amount\n",
    "        \n",
    "money = USDTHB(30000, 'USD')\n",
    "print(money.amount, money.currency)\n",
    "money.to_THB()\n",
    "print(money.amount, money.currency)\n",
    "money.to_USD()\n",
    "print(money.amount, money.currency) "
   ]
  },
  {
   "cell_type": "code",
   "execution_count": 1,
   "id": "b0cc8dde",
   "metadata": {},
   "outputs": [
    {
     "name": "stdout",
     "output_type": "stream",
     "text": [
      "We have apple, banana, orange.\n"
     ]
    }
   ],
   "source": [
    "#10.*Ans\n",
    "class Cashier:\n",
    "    def __init__(self, products):\n",
    "        self.products = products\n",
    "    def recommend(self):\n",
    "        str_product = ', '.join(self.products)\n",
    "        print('We have ' + str(str_product)+'.')\n",
    "\n",
    "cashier = Cashier(['apple', 'banana', 'orange'])\n",
    "cashier.recommend()"
   ]
  },
  {
   "cell_type": "code",
   "execution_count": 246,
   "id": "2680f706",
   "metadata": {},
   "outputs": [
    {
     "name": "stdout",
     "output_type": "stream",
     "text": [
      "We have apple banana orange.\n"
     ]
    }
   ],
   "source": [
    "#10.\n",
    "class Cashier:\n",
    "    def __init__(self, products):\n",
    "        self.products = products\n",
    "    def recommend(self):\n",
    "        text = ''\n",
    "        for i in self.products:\n",
    "            text = text + ' ' + i \n",
    "        print('We have'+text+'.')\n",
    "        \n",
    "cashier = Cashier(['apple', 'banana', 'orange'])\n",
    "cashier.recommend()"
   ]
  },
  {
   "cell_type": "code",
   "execution_count": 2,
   "id": "94cd0db9",
   "metadata": {},
   "outputs": [
    {
     "name": "stdout",
     "output_type": "stream",
     "text": [
      "=== Before Attack ===\n",
      "Warrior_A HP = 80\n",
      "Warrior_B HP = 120\n",
      "=== After Attack ===\n",
      "Warroir_A HP = 70\n",
      "Warroir_B HP = 100\n"
     ]
    }
   ],
   "source": [
    "#11.* Ans.\n",
    "class Warrior:\n",
    "    def __init__(self, power, defense, HP):\n",
    "        self.power = power\n",
    "        self.defense = defense\n",
    "        self.HP = HP\n",
    "    \n",
    "    def attack(self, enemy):\n",
    "        if enemy.HP > 0 and self.HP > 0:\n",
    "            enemy.HP = max(0, enemy.HP - max(0, self.power - enemy.defense))\n",
    "        if enemy.HP == 0:\n",
    "            print('Enemy died')\n",
    "\n",
    "Warrior_A = Warrior(100, 50, 80)\n",
    "Warrior_B = Warrior(60, 80, 120)\n",
    "print('=== Before Attack ===')\n",
    "print('Warrior_A HP =', Warrior_A.HP)\n",
    "print('Warrior_B HP =', Warrior_B.HP)\n",
    "\n",
    "Warrior_A.attack(Warrior_B)\n",
    "Warrior_B.attack(Warrior_A)\n",
    "print('=== After Attack ===')\n",
    "print('Warroir_A HP =', Warrior_A.HP)\n",
    "print('Warroir_B HP =', Warrior_B.HP)"
   ]
  },
  {
   "cell_type": "code",
   "execution_count": 121,
   "id": "ac34165c",
   "metadata": {},
   "outputs": [
    {
     "name": "stdout",
     "output_type": "stream",
     "text": [
      "=== Before Attack ===\n",
      "Warrior_A HP = 80\n",
      "Warrior_B HP = 120\n",
      "=== After Attack ===\n",
      "Warroir_A HP = 70\n",
      "Warroir_B HP = 100\n"
     ]
    }
   ],
   "source": [
    "#11.\n",
    "class Warrior:\n",
    "    def __init__(self, power, defense, HP):\n",
    "        self.power = power\n",
    "        self.defense = defense\n",
    "        self.HP = HP\n",
    "    def attack(self, warrior_object):\n",
    "        if self.power > warrior_object.defense:\n",
    "            self.HP = self.HP - (warrior_object.power-self.defense)\n",
    "        elif self.HP == 0:\n",
    "            print('Enemy died')\n",
    "\n",
    "Warrior_A = Warrior(100, 50, 80)\n",
    "Warrior_B = Warrior(60, 80, 120)\n",
    "print('=== Before Attack ===')\n",
    "print('Warrior_A HP =', Warrior_A.HP)\n",
    "print('Warrior_B HP =', Warrior_B.HP)\n",
    "\n",
    "Warrior_A.attack(Warrior_B)\n",
    "Warrior_B.attack(Warrior_A)\n",
    "print('=== After Attack ===')\n",
    "print('Warroir_A HP =', Warrior_A.HP)\n",
    "print('Warroir_B HP =', Warrior_B.HP)"
   ]
  },
  {
   "cell_type": "code",
   "execution_count": 10,
   "id": "2fceed00",
   "metadata": {},
   "outputs": [
    {
     "name": "stdout",
     "output_type": "stream",
     "text": [
      "current position : (0, 0)\n",
      "current position : (0, 20)\n",
      "current position : (-23, 20)\n",
      "current position : (-23, -45)\n",
      "current position : (27, -45)\n"
     ]
    }
   ],
   "source": [
    "#12.\n",
    "class Point:\n",
    "    def __init__(self, x, y):\n",
    "        self.x = x\n",
    "        self.y = y\n",
    "        print('current position :', (self.x, self.y))\n",
    "    def move_up(self, d):\n",
    "        self.y = self.y + d\n",
    "        print('current position :', (self.x, self.y))\n",
    "    def move_down(self, d):\n",
    "        self.y = self.y - d\n",
    "        print('current position :', (self.x, self.y))\n",
    "    def move_left(self, d):\n",
    "        self.x = self.x - d\n",
    "        print('current position :', (self.x, self.y))\n",
    "    def move_right(self, d):\n",
    "        self.x = self.x + d\n",
    "        print('current position :', (self.x, self.y))\n",
    "\n",
    "A = Point(0, 0)\n",
    "A.move_up(20)\n",
    "A.move_left(23)\n",
    "A.move_down(65)\n",
    "A.move_right(50)"
   ]
  },
  {
   "cell_type": "code",
   "execution_count": 250,
   "id": "7b0703d6",
   "metadata": {},
   "outputs": [
    {
     "name": "stdout",
     "output_type": "stream",
     "text": [
      "HP = 100, Money = 100, Happiness = 100\n",
      "HP = 90, Money = 120, Happiness = 110\n",
      "HP = 80, Money = 110, Happiness = 130\n",
      "HP = 100, Money = 100, Happiness = 140\n"
     ]
    }
   ],
   "source": [
    "#13.\n",
    "class Businessman:\n",
    "    def __init__(self, HP, money, happiness):\n",
    "        self.HP = HP\n",
    "        self.money = money\n",
    "        self.happiness = happiness\n",
    "        self.report()\n",
    "    def work(self):\n",
    "        self.money = self.money + 20\n",
    "        self.happiness = self.happiness + 10\n",
    "        self.HP = self.HP - 10\n",
    "    def sleep(self):\n",
    "        self.HP = self.HP + 20\n",
    "        self.happiness = self.happiness + 10\n",
    "        self.money = self.money - 10\n",
    "    def play(self):\n",
    "        self.HP = self.HP - 10\n",
    "        self.money = self.money - 10\n",
    "        self.happiness = self.happiness + 20\n",
    "    def report(self):\n",
    "        print(f'HP = {self.HP}, Money = {self.money}, Happiness = {self.happiness}')\n",
    "        \n",
    "John = Businessman(100, 100, 100)\n",
    "John.work()\n",
    "John.report()\n",
    "John.play()\n",
    "John.report()\n",
    "John.sleep()\n",
    "John.report()"
   ]
  },
  {
   "cell_type": "code",
   "execution_count": 44,
   "id": "dd396d22",
   "metadata": {},
   "outputs": [
    {
     "name": "stdout",
     "output_type": "stream",
     "text": [
      "HP = 90, Generated_money = 110\n",
      "HP = 100, Generated_money = 100\n"
     ]
    }
   ],
   "source": [
    "#14.\n",
    "class Driver:\n",
    "    def __init__(self, HP, generated_money):\n",
    "        self.HP = HP\n",
    "        self.generated_money = generated_money\n",
    "    def drive(self):\n",
    "        self.HP = self.HP - 10\n",
    "        self.generated_money = self.generated_money + 10\n",
    "    def care(self):\n",
    "        self.HP = self.HP + 10\n",
    "        self.generated_money = self.generated_money - 10\n",
    "    def report(self):\n",
    "        print(f'HP = {self.HP}, Generated_money = {self.generated_money}')\n",
    "\n",
    "driver_A = Driver(100, 100)\n",
    "driver_A.drive()\n",
    "driver_A.report()\n",
    "driver_A.care()\n",
    "driver_A.report()"
   ]
  },
  {
   "cell_type": "code",
   "execution_count": 283,
   "id": "441c22da",
   "metadata": {},
   "outputs": [
    {
     "name": "stdout",
     "output_type": "stream",
     "text": [
      "Width = 22, Height = 20\n",
      "Generated money = 1223.683319527346\n"
     ]
    }
   ],
   "source": [
    "#15.\n",
    "class Tree:\n",
    "    def __init__(self, height, width, generated_money):\n",
    "        self.height = height\n",
    "        self.width = width\n",
    "        self.generated_money = generated_money\n",
    "    def feed_A(self):\n",
    "        self.generated_money -= 10\n",
    "        self.width += 12\n",
    "    def feed_B(self):\n",
    "        self.generated_money -= 8\n",
    "        self.height += 10\n",
    "    def sell(self):\n",
    "        self.generated_money = self.generated_money + self.width * self.height ** 0.8\n",
    "        print(f'Width = {self.width}, Height = {self.height}')\n",
    "        print(f'Generated money = {self.generated_money}')\n",
    "\n",
    "tree_A = Tree(10, 10, 1000)\n",
    "tree_A.feed_A()\n",
    "tree_A.feed_B()\n",
    "tree_A.sell()"
   ]
  }
 ],
 "metadata": {
  "kernelspec": {
   "display_name": "Python 3 (ipykernel)",
   "language": "python",
   "name": "python3"
  },
  "language_info": {
   "codemirror_mode": {
    "name": "ipython",
    "version": 3
   },
   "file_extension": ".py",
   "mimetype": "text/x-python",
   "name": "python",
   "nbconvert_exporter": "python",
   "pygments_lexer": "ipython3",
   "version": "3.9.13"
  }
 },
 "nbformat": 4,
 "nbformat_minor": 5
}
