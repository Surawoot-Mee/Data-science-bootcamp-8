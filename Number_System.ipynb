{
  "nbformat": 4,
  "nbformat_minor": 0,
  "metadata": {
    "colab": {
      "provenance": []
    },
    "kernelspec": {
      "name": "python3",
      "display_name": "Python 3"
    },
    "language_info": {
      "name": "python"
    }
  },
  "cells": [
    {
      "cell_type": "code",
      "execution_count": null,
      "metadata": {
        "colab": {
          "base_uri": "https://localhost:8080/"
        },
        "id": "26Lu5VabppoB",
        "outputId": "eaf36590-27eb-4fa0-a00f-e110133f32f7"
      },
      "outputs": [
        {
          "output_type": "stream",
          "name": "stdout",
          "text": [
            "20\n",
            "    1     1     1     1\n",
            "    2     2     2    10\n",
            "    3     3     3    11\n",
            "    4     4     4   100\n",
            "    5     5     5   101\n",
            "    6     6     6   110\n",
            "    7     7     7   111\n",
            "    8    10     8  1000\n",
            "    9    11     9  1001\n",
            "   10    12     A  1010\n",
            "   11    13     B  1011\n",
            "   12    14     C  1100\n",
            "   13    15     D  1101\n",
            "   14    16     E  1110\n",
            "   15    17     F  1111\n",
            "   16    20    10 10000\n",
            "   17    21    11 10001\n",
            "   18    22    12 10010\n",
            "   19    23    13 10011\n",
            "   20    24    14 10100\n"
          ]
        }
      ],
      "source": [
        "# เขียนโปรแกรมเพื่อหาเลขฐาน 10, 8, 2, 16\n",
        "\n",
        "def decimal(n):\n",
        "  list_decimal = [str(i) for i in range(1, n+1, 1)]\n",
        "  return list_decimal\n",
        "\n",
        "def octal(n):\n",
        "  list_octal = []\n",
        "  for i in range(1, n+1, 1):\n",
        "    text_mod = ''\n",
        "    while i>=1:\n",
        "      mod = i%8\n",
        "      text_mod = str(mod) + text_mod\n",
        "      i = i//8\n",
        "    list_octal.append(text_mod)\n",
        "  return list_octal\n",
        "\n",
        "def hexadecimal(n):\n",
        "  dict_hexadecimal = {0:'0', 1:'1', 2:'2', 3:'3', 4:'4', 5:'5',\n",
        "                      6:'6', 7:'7', 8:'8', 9:'9', 10:'A', 11:'B',\n",
        "                      12:'C', 13:'D', 14:'E', 15:'F'}\n",
        "  list_hexadecimal = []\n",
        "  for i in range(1, n+1, 1):\n",
        "    text_mod = ''\n",
        "    while i>=1:\n",
        "      mod = i%16\n",
        "      value = dict_hexadecimal[mod]\n",
        "      text_mod = value + text_mod\n",
        "      i = i//16\n",
        "    list_hexadecimal.append(text_mod)\n",
        "  return list_hexadecimal\n",
        "\n",
        "def binary(n):\n",
        "  list_binary = []\n",
        "  for i in range(1, n+1, 1):\n",
        "      text_mod = ''\n",
        "      while i>=1:\n",
        "        mod = i%2\n",
        "        text_mod = str(mod)  + text_mod\n",
        "        i = i//2\n",
        "      list_binary.append(text_mod)\n",
        "  return list_binary\n",
        "\n",
        "def print_formatted(n):\n",
        "  Decimal = decimal(n)\n",
        "  Octal = octal(n)\n",
        "  Hexadecimal = hexadecimal(n)\n",
        "  Binary = binary(n)\n",
        "  pad = len(binary(n)[-1])\n",
        "  for i in range(n):\n",
        "    print(Decimal[i].rjust(pad), Octal[i].rjust(pad),\n",
        "          Hexadecimal[i].rjust(pad), Binary[i].rjust(pad))\n",
        "\n",
        "if __name__ == '__main__':\n",
        "    n = int(input())\n",
        "    print_formatted(n)"
      ]
    }
  ]
}