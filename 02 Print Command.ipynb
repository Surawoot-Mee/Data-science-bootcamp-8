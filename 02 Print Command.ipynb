{
 "cells": [
  {
   "cell_type": "markdown",
   "id": "57160ced",
   "metadata": {},
   "source": [
    "# Print String ###"
   ]
  },
  {
   "cell_type": "code",
   "execution_count": 1,
   "id": "979d7155",
   "metadata": {},
   "outputs": [
    {
     "name": "stdout",
     "output_type": "stream",
     "text": [
      "Hello\n",
      "Hello\n"
     ]
    }
   ],
   "source": [
    "#1.\n",
    "print('Hello')\n",
    "print(\"Hello\")"
   ]
  },
  {
   "cell_type": "code",
   "execution_count": 2,
   "id": "24810b5b",
   "metadata": {},
   "outputs": [
    {
     "name": "stdout",
     "output_type": "stream",
     "text": [
      "Hello world\n",
      "Hello world\n"
     ]
    }
   ],
   "source": [
    "#2.\n",
    "print('Hello world')\n",
    "print(\"Hello world\")"
   ]
  },
  {
   "cell_type": "code",
   "execution_count": 3,
   "id": "c88f6f69",
   "metadata": {},
   "outputs": [
    {
     "name": "stdout",
     "output_type": "stream",
     "text": [
      "hello_python\n",
      "hello_python\n"
     ]
    }
   ],
   "source": [
    "#3.\n",
    "print('hello_python')\n",
    "print(\"hello_python\")"
   ]
  },
  {
   "cell_type": "code",
   "execution_count": 4,
   "id": "d688f14b",
   "metadata": {},
   "outputs": [
    {
     "name": "stdout",
     "output_type": "stream",
     "text": [
      "Merry X'Mas\n",
      "Merry X'Mas\n"
     ]
    }
   ],
   "source": [
    "#4.\n",
    "print(\"Merry X'Mas\")\n",
    "print('Merry X\\'Mas')"
   ]
  },
  {
   "cell_type": "code",
   "execution_count": 5,
   "id": "257c15e8",
   "metadata": {},
   "outputs": [
    {
     "name": "stdout",
     "output_type": "stream",
     "text": [
      "I want to ask you \"Why don't you drive to work ?\"\n",
      "I want to ask you \"Why don't you drive to work ?\"\n",
      "I want to ask you \"Why don't you drive to work ?\"\n"
     ]
    }
   ],
   "source": [
    "#5.\n",
    "print('I want to ask you \"Why don\\'t you drive to work ?\"')\n",
    "print(\"I want to ask you \\\"Why don't you drive to work ?\\\"\")\n",
    "print(\"I want to ask you\" + \" \" + '\"Why' + \" \" +  \"don't\" + ' ' + 'you drive to work ?\"' ) "
   ]
  },
  {
   "cell_type": "code",
   "execution_count": 106,
   "id": "e00e08b6",
   "metadata": {},
   "outputs": [
    {
     "name": "stdout",
     "output_type": "stream",
     "text": [
      "\"I don't have a car\"\n",
      "\"I don't have a car\"\n",
      "\"I don't have a car\"\n"
     ]
    }
   ],
   "source": [
    "#6.\n",
    "print('\"I don\\'t have a car\"')\n",
    "print(\"\\\"I don't have a car\\\"\") #\\\" print a double quote (\") in your text\n",
    "print('\"I', \"don't\", 'have a car\"')"
   ]
  },
  {
   "cell_type": "code",
   "execution_count": 11,
   "id": "5b727b9e",
   "metadata": {},
   "outputs": [
    {
     "name": "stdout",
     "output_type": "stream",
     "text": [
      "You got a new job!? That's so exciting\n",
      "You got a new job!? That's so exciting\n",
      "You got a new job!? That's so exciting\n"
     ]
    }
   ],
   "source": [
    "#7.\n",
    "print(\"You got a new job!? That's so exciting\")\n",
    "print('You got a new job!? That\\'s so exciting') #\\' print a single qoute (') in your text\n",
    "print(\"You got a new job!?\", \"That's\", \"so exciting\")"
   ]
  },
  {
   "cell_type": "code",
   "execution_count": 7,
   "id": "1b6c2ea0",
   "metadata": {},
   "outputs": [
    {
     "name": "stdout",
     "output_type": "stream",
     "text": [
      "สวัสดีวันจันทร์\n",
      "สวัสดีวันจันทร์\n"
     ]
    }
   ],
   "source": [
    "#8.\n",
    "print('สวัสดีวันจันทร์')\n",
    "print(\"สวัสดีวันจันทร์\")"
   ]
  },
  {
   "cell_type": "code",
   "execution_count": 17,
   "id": "c0711c12",
   "metadata": {},
   "outputs": [
    {
     "name": "stdout",
     "output_type": "stream",
     "text": [
      "ความแตกต่างระหว่างคนเก่งกับคนไม่เก่ง คือ \"การใช้เวลาว่างให้เป็นประโยชน์\"\n",
      "ความแตกต่างระหว่างคนเก่งกับคนไม่เก่ง คือ \"การใช้เวลาว่างให้เป็นประโยชน์\"\n",
      "ความแตกต่างระหว่างคนเก่งกับคนไม่เก่ง คือ \"การใช้เวลาว่างให้เป็นประโยชน์\"\n"
     ]
    }
   ],
   "source": [
    "#9.\n",
    "print('ความแตกต่างระหว่างคนเก่งกับคนไม่เก่ง คือ \"การใช้เวลาว่างให้เป็นประโยชน์\"')\n",
    "print(\"ความแตกต่างระหว่างคนเก่งกับคนไม่เก่ง คือ \\\"การใช้เวลาว่างให้เป็นประโยชน์\\\"\")\n",
    "print(\"ความแตกต่างระหว่างคนเก่งกับคนไม่เก่ง คือ\", '\"การใช้เวลาว่างให้เป็นประโยชน์\"')"
   ]
  },
  {
   "cell_type": "code",
   "execution_count": 18,
   "id": "ccc3c67a",
   "metadata": {},
   "outputs": [
    {
     "name": "stdout",
     "output_type": "stream",
     "text": [
      "/\\/\\/\\\n",
      "/\\/\\/\\\n",
      "/\\/\\/\\\n",
      "❤❤❤❤❤❤\n"
     ]
    }
   ],
   "source": [
    "#10.\n",
    "#A backslash: \"\\x5c\" ;  \"\\u005c\" ;  \"\\U0000005c\"\n",
    "print('/\\\\/\\\\/\\\\')\n",
    "print(\"/\\\\/\\\\/\\\\\")\n",
    "print(\"/\"+\"\\x5c\"+\"/\"+\"\\x5c\"+\"/\"+\"\\x5c\") \n",
    "print(\"\\u2764\"*6) # u lower case"
   ]
  },
  {
   "cell_type": "code",
   "execution_count": 27,
   "id": "1f5e5863",
   "metadata": {},
   "outputs": [
    {
     "name": "stdout",
     "output_type": "stream",
     "text": [
      "a\n",
      "an\n",
      "ant\n",
      "\n",
      "a\n",
      "an\n",
      "ant\n",
      "\n",
      "a \n",
      "an \n",
      "ant\n"
     ]
    }
   ],
   "source": [
    "#11.\n",
    "print('''a\n",
    "an\n",
    "ant''')\n",
    "print('')\n",
    "print(\"\"\"a\n",
    "an\n",
    "ant\"\"\")\n",
    "print('')\n",
    "print(\"a \\nan \\nant\") # \\n linefeed (prints the stuff after this on the next line)"
   ]
  },
  {
   "cell_type": "code",
   "execution_count": 47,
   "id": "9565cf96",
   "metadata": {},
   "outputs": [
    {
     "name": "stdout",
     "output_type": "stream",
     "text": [
      "\t*\n",
      "*\t*\t*\n",
      "\t*\n",
      "\n",
      "\t*\n",
      "*\t*\t*\n",
      "\t*\n",
      "\n",
      "\t* \n",
      "*\t*\t* \n",
      "\t*\n"
     ]
    }
   ],
   "source": [
    "#12.\n",
    "print('''\\t*\n",
    "*\\t*\\t*\n",
    "\\t*''') #\\t tab break\n",
    "print('')\n",
    "print(\"\"\"\\t*\n",
    "*\\t*\\t*\n",
    "\\t*\"\"\")\n",
    "print('')\n",
    "print('\\t* \\n*\\t*\\t* \\n\\t*')"
   ]
  },
  {
   "cell_type": "code",
   "execution_count": 49,
   "id": "212cf327",
   "metadata": {},
   "outputs": [
    {
     "name": "stdout",
     "output_type": "stream",
     "text": [
      "*\t+\t*\n",
      "+\t*\t+\n",
      "*\t+\t*\n",
      "\n",
      "*\t+\t*\n",
      "+\t*\t+\n",
      "*\t+\t*\n",
      "\n",
      "*\t+\t* \n",
      "+\t*\t+ \n",
      "*\t+\t*\n"
     ]
    }
   ],
   "source": [
    "#13.\n",
    "print('''*\\t+\\t*\n",
    "+\\t*\\t+\n",
    "*\\t+\\t*''')\n",
    "print('')\n",
    "print(\"\"\"*\\t+\\t*\n",
    "+\\t*\\t+\n",
    "*\\t+\\t*\"\"\")\n",
    "print('')\n",
    "print(\"*\\t+\\t* \\n+\\t*\\t+ \\n*\\t+\\t*\")"
   ]
  },
  {
   "cell_type": "code",
   "execution_count": 51,
   "id": "499612e4",
   "metadata": {},
   "outputs": [
    {
     "name": "stdout",
     "output_type": "stream",
     "text": [
      "Just because something\n",
      "thinks differently from you,\n",
      "does that mean it's not thinking ?\n",
      "\n",
      "Just because something \n",
      "thinks differently from you, \n",
      "does that mean it's not thinking ?\n"
     ]
    }
   ],
   "source": [
    "#14.\n",
    "print(\"\"\"Just because something\n",
    "thinks differently from you,\n",
    "does that mean it's not thinking ?\"\"\")\n",
    "print('')\n",
    "print(\"Just because something \\nthinks differently from you, \\ndoes that mean it's not thinking ?\")\n",
    "# \\n linefeed (prints the stuff after this on the next line)"
   ]
  },
  {
   "cell_type": "code",
   "execution_count": 53,
   "id": "5ddeb933",
   "metadata": {},
   "outputs": [
    {
     "name": "stdout",
     "output_type": "stream",
     "text": [
      "\\\t\t/\n",
      "\tX\n",
      "/\t\t\\\n",
      "\n",
      "\\\t\t/ \n",
      "\tx \n",
      "/\t\t\\\n"
     ]
    }
   ],
   "source": [
    "#15.\n",
    "print('''\\\\\\t\\t/\n",
    "\\tX\n",
    "/\\t\\t\\\\''')\n",
    "print('')\n",
    "print(\"\\\\\\t\\t/ \\n\\tx \\n/\\t\\t\\\\\")"
   ]
  },
  {
   "cell_type": "markdown",
   "id": "0f0bcd8e",
   "metadata": {},
   "source": [
    "# Print Numeric"
   ]
  },
  {
   "cell_type": "code",
   "execution_count": 59,
   "id": "81b16615",
   "metadata": {},
   "outputs": [
    {
     "name": "stdout",
     "output_type": "stream",
     "text": [
      "25\n",
      "25\n",
      "25\n"
     ]
    }
   ],
   "source": [
    "#16.\n",
    "print(25)\n",
    "print('%d' %25)\n",
    "print('%s' %25)"
   ]
  },
  {
   "cell_type": "code",
   "execution_count": 63,
   "id": "f585ef51",
   "metadata": {},
   "outputs": [
    {
     "name": "stdout",
     "output_type": "stream",
     "text": [
      "100.000000\n",
      "100.000000\n",
      "100.0\n"
     ]
    }
   ],
   "source": [
    "#17.\n",
    "print('%f' %100) #default ทศนิยม 6 ตำแหน่ง\n",
    "print('%.6f' %100)\n",
    "print('%s' %100.000000)"
   ]
  },
  {
   "cell_type": "code",
   "execution_count": 96,
   "id": "fceb192e",
   "metadata": {},
   "outputs": [
    {
     "name": "stdout",
     "output_type": "stream",
     "text": [
      "3.141592653589793\n",
      "3.141592653589793\n"
     ]
    }
   ],
   "source": [
    "#18.\n",
    "from math import pi\n",
    "print(pi)\n",
    "print('%.15f' %3.141592653589793)"
   ]
  },
  {
   "cell_type": "code",
   "execution_count": 99,
   "id": "888fe94b",
   "metadata": {},
   "outputs": [
    {
     "name": "stdout",
     "output_type": "stream",
     "text": [
      "2\n",
      "2\n",
      "2\n"
     ]
    }
   ],
   "source": [
    "#19.\n",
    "a = 2\n",
    "print(a)\n",
    "print('%d' %a)\n",
    "print('%.0f' %a)"
   ]
  },
  {
   "cell_type": "code",
   "execution_count": 100,
   "id": "d36753ec",
   "metadata": {},
   "outputs": [
    {
     "name": "stdout",
     "output_type": "stream",
     "text": [
      "12.5\n",
      "12.5\n"
     ]
    }
   ],
   "source": [
    "#20.\n",
    "a = 12.5\n",
    "print(a)\n",
    "print('%.1f' %a)"
   ]
  },
  {
   "cell_type": "markdown",
   "id": "6f9dd0d0",
   "metadata": {},
   "source": [
    "# Print String + Numeric"
   ]
  },
  {
   "cell_type": "code",
   "execution_count": 102,
   "id": "c7a7c555",
   "metadata": {},
   "outputs": [
    {
     "name": "stdout",
     "output_type": "stream",
     "text": [
      "2 x 3 = 6\n",
      "2 x 3 = 6\n"
     ]
    }
   ],
   "source": [
    "#21.\n",
    "a = 2\n",
    "b = 3\n",
    "print(a, 'x', b , '=', a*b)\n",
    "print('%d x %d = %d' %(a, b, a*b))"
   ]
  },
  {
   "cell_type": "code",
   "execution_count": 105,
   "id": "f45d74bd",
   "metadata": {},
   "outputs": [
    {
     "name": "stdout",
     "output_type": "stream",
     "text": [
      "2 + 3 = 3 + 2 = 5\n",
      "2 + 3 = 3 + 2 = 5\n"
     ]
    }
   ],
   "source": [
    "#22.\n",
    "a = 2\n",
    "b = 3\n",
    "print('%d + %d = %d + %d = %d' %(a, b, b, a, a+b))\n",
    "print(a, '+', b, '=', b, '+', a, '=', a+b)"
   ]
  },
  {
   "cell_type": "code",
   "execution_count": 125,
   "id": "319d525e",
   "metadata": {},
   "outputs": [
    {
     "name": "stdout",
     "output_type": "stream",
     "text": [
      "2 * (3 + 5) = 2 * 3 + 2 * 5\n",
      "2 * (3 + 5 ) = 2 * 3 + 2 * 5\n"
     ]
    }
   ],
   "source": [
    "#23.\n",
    "a = 2\n",
    "b = 3\n",
    "c = 5\n",
    "print('%d * (%d + %d) = %d * %d + %d * %d' %(a, b, c, a, b, a, c))\n",
    "print(a,'*','('+str(b),'+',c, ')','=',a,'*',b,'+',a,'*',c)"
   ]
  },
  {
   "cell_type": "code",
   "execution_count": 109,
   "id": "44458db7",
   "metadata": {},
   "outputs": [
    {
     "name": "stdout",
     "output_type": "stream",
     "text": [
      "2.4 + 2.5 = 4.9000\n",
      "2.4 + 2.5 = 4.9000\n"
     ]
    }
   ],
   "source": [
    "#24.\n",
    "a = 2.4\n",
    "b = 2.5\n",
    "print('%.1f + %.1f = %.4f' %(a, b, a+b))\n",
    "print(a,'+',b,'=','%.4f' %(a+b))"
   ]
  },
  {
   "cell_type": "code",
   "execution_count": 115,
   "id": "9ad70ffa",
   "metadata": {},
   "outputs": [
    {
     "name": "stdout",
     "output_type": "stream",
     "text": [
      "5.00 - 2.00 = 3.0000\n",
      "5.00 - 2.00 = 3.0000\n"
     ]
    }
   ],
   "source": [
    "#25.\n",
    "a = 5\n",
    "b = 2\n",
    "print('%.2f - %.2f = %.4f' %(a,b,a-b))\n",
    "print('%.2f' % a,'-','%.2f' % b, '=', '%.4f' % (a-b))"
   ]
  },
  {
   "cell_type": "code",
   "execution_count": 119,
   "id": "c6ad0253",
   "metadata": {},
   "outputs": [
    {
     "name": "stdout",
     "output_type": "stream",
     "text": [
      "ฉันเกิดวันที่ 25 ธันวาคม\n",
      "ฉันเกิดวันที่ 25 ธันวาคม\n"
     ]
    }
   ],
   "source": [
    "#26.\n",
    "birthday = 25\n",
    "print('ฉันเกิดวันที่', birthday, 'ธันวาคม')\n",
    "print(f'ฉันเกิดวันที่ {birthday} ธันวาคม')"
   ]
  },
  {
   "cell_type": "code",
   "execution_count": 126,
   "id": "8a5b2487",
   "metadata": {},
   "outputs": [
    {
     "name": "stdout",
     "output_type": "stream",
     "text": [
      "5 เท่าของ 100 มีค่าเท่ากับ 500\n",
      "5 เท่าของ 100 มีค่าเท่ากับ 500\n",
      "5 เท่าของ 100 มีค่าเท่ากับ 500\n"
     ]
    }
   ],
   "source": [
    "a = 5\n",
    "b = 100\n",
    "print('%d เท่าของ %d มีค่าเท่ากับ %d' %(a,b,a*b))\n",
    "print(a,'เท่าของ',b,'มีค่าเท่ากับ',a*b)\n",
    "print(f'{a} เท่าของ {b} มีค่าเท่ากับ {a*b}')"
   ]
  },
  {
   "cell_type": "code",
   "execution_count": 130,
   "id": "351c79f4",
   "metadata": {},
   "outputs": [
    {
     "name": "stdout",
     "output_type": "stream",
     "text": [
      "เขามีเงินเยอะกว่าฉัน 3.50 บาท\n"
     ]
    }
   ],
   "source": [
    "a = 3.5\n",
    "print('เขามีเงินเยอะกว่าฉัน %.2f บาท' %a)"
   ]
  },
  {
   "cell_type": "code",
   "execution_count": 289,
   "id": "a5b32dc3",
   "metadata": {},
   "outputs": [
    {
     "name": "stdout",
     "output_type": "stream",
     "text": [
      "ฉันได้กำไร 5 %\n",
      "ฉันได้กำไร 5 %\n"
     ]
    }
   ],
   "source": [
    "a = 5\n",
    "print('ฉันได้กำไร', a, '%')\n",
    "print('ฉันได้กำไร %d %%' %a)"
   ]
  },
  {
   "cell_type": "code",
   "execution_count": 290,
   "id": "de34b058",
   "metadata": {},
   "outputs": [
    {
     "name": "stdout",
     "output_type": "stream",
     "text": [
      "เมื่อวานฉันขาดทุน 2 % วันนี้ฉันได้กำไร 3.5 %\n",
      "เมื่อวานฉันขาดทุน 2 % วันนี้ฉันได้กำไร 3.5 %\n"
     ]
    }
   ],
   "source": [
    "a = 2\n",
    "b = 3.5\n",
    "print('เมื่อวานฉันขาดทุน %d %% วันนี้ฉันได้กำไร %.1f %%' %(a,b))\n",
    "print('เมื่อวานฉันขาดทุน', a, '%', 'วันนี้ฉันได้กำไร', b, '%')"
   ]
  }
 ],
 "metadata": {
  "kernelspec": {
   "display_name": "Python 3 (ipykernel)",
   "language": "python",
   "name": "python3"
  },
  "language_info": {
   "codemirror_mode": {
    "name": "ipython",
    "version": 3
   },
   "file_extension": ".py",
   "mimetype": "text/x-python",
   "name": "python",
   "nbconvert_exporter": "python",
   "pygments_lexer": "ipython3",
   "version": "3.9.13"
  }
 },
 "nbformat": 4,
 "nbformat_minor": 5
}
