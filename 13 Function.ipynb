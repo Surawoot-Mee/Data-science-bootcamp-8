{
 "cells": [
  {
   "cell_type": "markdown",
   "id": "d4801b8e",
   "metadata": {},
   "source": [
    "# 13. Function"
   ]
  },
  {
   "cell_type": "code",
   "execution_count": 131,
   "id": "68564b8a",
   "metadata": {},
   "outputs": [
    {
     "data": {
      "text/plain": [
       "50"
      ]
     },
     "execution_count": 131,
     "metadata": {},
     "output_type": "execute_result"
    }
   ],
   "source": [
    "#1.\n",
    "def sum_fun(a, b):\n",
    "    return a+b\n",
    "\n",
    "sum_fun(18, 32)"
   ]
  },
  {
   "cell_type": "code",
   "execution_count": 132,
   "id": "5a40af4d",
   "metadata": {},
   "outputs": [
    {
     "data": {
      "text/plain": [
       "55"
      ]
     },
     "execution_count": 132,
     "metadata": {},
     "output_type": "execute_result"
    }
   ],
   "source": [
    "#2.\n",
    "def sum1(a, b, c):\n",
    "    return a+b+c\n",
    "\n",
    "sum1(10, 20, 25)"
   ]
  },
  {
   "cell_type": "code",
   "execution_count": 133,
   "id": "31b1b0b1",
   "metadata": {},
   "outputs": [
    {
     "data": {
      "text/plain": [
       "625"
      ]
     },
     "execution_count": 133,
     "metadata": {},
     "output_type": "execute_result"
    }
   ],
   "source": [
    "#3.\n",
    "def power(a):\n",
    "    return a**2\n",
    "power(25)"
   ]
  },
  {
   "cell_type": "code",
   "execution_count": 144,
   "id": "6a1c2889",
   "metadata": {},
   "outputs": [
    {
     "data": {
      "text/plain": [
       "[1, 4, 9, 16, 25]"
      ]
     },
     "execution_count": 144,
     "metadata": {},
     "output_type": "execute_result"
    }
   ],
   "source": [
    "#4.\n",
    "listA = [1, 2, 3, 4, 5]\n",
    "def power2(listA):\n",
    "    return [i**2 for i in listA]\n",
    "power2(listA)"
   ]
  },
  {
   "cell_type": "code",
   "execution_count": 146,
   "id": "4b9c2477",
   "metadata": {},
   "outputs": [
    {
     "data": {
      "text/plain": [
       "55"
      ]
     },
     "execution_count": 146,
     "metadata": {},
     "output_type": "execute_result"
    }
   ],
   "source": [
    "#5.\n",
    "listA = [1, 2, 3, 4, 5]\n",
    "def sum_power2(listA):\n",
    "    list1 = [i**2 for i in listA]\n",
    "    return sum(list1)\n",
    "\n",
    "sum_power2(listA)"
   ]
  },
  {
   "cell_type": "code",
   "execution_count": 149,
   "id": "302b45b0",
   "metadata": {
    "scrolled": true
   },
   "outputs": [
    {
     "data": {
      "text/plain": [
       "12"
      ]
     },
     "execution_count": 149,
     "metadata": {},
     "output_type": "execute_result"
    }
   ],
   "source": [
    "#6. Ans.\n",
    "list1 = [1.1, 2, 3.3, 4, 5.5,'ong', 'surawoot', 6]\n",
    "\n",
    "def sum_int(listA):\n",
    "    total = 0\n",
    "    for i in list1:\n",
    "        if type(i) == int:\n",
    "            total = total + i\n",
    "    return total\n",
    "\n",
    "sum_int(listA)"
   ]
  },
  {
   "cell_type": "code",
   "execution_count": 73,
   "id": "7fe0d07d",
   "metadata": {},
   "outputs": [
    {
     "data": {
      "text/plain": [
       "16"
      ]
     },
     "execution_count": 73,
     "metadata": {},
     "output_type": "execute_result"
    }
   ],
   "source": [
    "#6.\n",
    "list1 = [1, 2, 3, 0.5, 10.2,'ong', 'surawoot', 10]\n",
    "\n",
    "def sum_list(list1):\n",
    "    total = 0\n",
    "    for i in list1: \n",
    "        if i != str(i):    \n",
    "            if i == int(i):\n",
    "                total = total + i\n",
    "    return total\n",
    "\n",
    "sum_list(list1)"
   ]
  },
  {
   "cell_type": "code",
   "execution_count": 152,
   "id": "8fa60157",
   "metadata": {},
   "outputs": [
    {
     "data": {
      "text/plain": [
       "9.9"
      ]
     },
     "execution_count": 152,
     "metadata": {},
     "output_type": "execute_result"
    }
   ],
   "source": [
    "#7. Ans.\n",
    "list1 = [1.1, 2, 3.3, 4, 5.5,'ong', 'surawoot', 6]\n",
    "\n",
    "def sum_int(listA):\n",
    "    total = 0\n",
    "    for i in list1:\n",
    "        if type(i) == float:\n",
    "            total = total + i\n",
    "    return total\n",
    "\n",
    "sum_int(listA)"
   ]
  },
  {
   "cell_type": "code",
   "execution_count": 74,
   "id": "ebcff574",
   "metadata": {},
   "outputs": [
    {
     "data": {
      "text/plain": [
       "26.7"
      ]
     },
     "execution_count": 74,
     "metadata": {},
     "output_type": "execute_result"
    }
   ],
   "source": [
    "#7.\n",
    "list1 = [1, 2, 3, 0.5, 10.2,'ong', 'surawoot', 10]\n",
    "\n",
    "def sum_list(list1):\n",
    "    total = 0\n",
    "    for i in list1: \n",
    "        if i != str(i):    \n",
    "            if i == float(i):\n",
    "                total = total + i\n",
    "    return total\n",
    "\n",
    "sum_list(list1)"
   ]
  },
  {
   "cell_type": "code",
   "execution_count": 153,
   "id": "95591aa8",
   "metadata": {},
   "outputs": [
    {
     "name": "stdout",
     "output_type": "stream",
     "text": [
      "text1: Goo\n",
      "text2: gle\n"
     ]
    },
    {
     "data": {
      "text/plain": [
       "'Google'"
      ]
     },
     "execution_count": 153,
     "metadata": {},
     "output_type": "execute_result"
    }
   ],
   "source": [
    "#8.\n",
    "str1 = str(input('text1: '))\n",
    "str2 = str(input('text2: '))\n",
    "\n",
    "def sum_string(str1, str2):\n",
    "    return str1 + str2\n",
    "\n",
    "sum_string(str1, str2)"
   ]
  },
  {
   "cell_type": "code",
   "execution_count": 154,
   "id": "c268eec1",
   "metadata": {},
   "outputs": [
    {
     "name": "stdout",
     "output_type": "stream",
     "text": [
      "text1: A\n",
      "text2: ma\n",
      "text3: zon\n"
     ]
    },
    {
     "data": {
      "text/plain": [
       "'Amazon'"
      ]
     },
     "execution_count": 154,
     "metadata": {},
     "output_type": "execute_result"
    }
   ],
   "source": [
    "#9.\n",
    "str1 = str(input('text1: '))\n",
    "str2 = str(input('text2: '))\n",
    "str3 = str(input('text3: '))\n",
    "\n",
    "def sum_string(str1, str2, str3):\n",
    "    return str1 + str2 + str3\n",
    "\n",
    "sum_string(str1, str2, str3)"
   ]
  },
  {
   "cell_type": "code",
   "execution_count": 156,
   "id": "24da6585",
   "metadata": {},
   "outputs": [
    {
     "name": "stdout",
     "output_type": "stream",
     "text": [
      "str1: onetwothree\n",
      "str2: two\n"
     ]
    },
    {
     "data": {
      "text/plain": [
       "'onethree'"
      ]
     },
     "execution_count": 156,
     "metadata": {},
     "output_type": "execute_result"
    }
   ],
   "source": [
    "#10. Ans\n",
    "str1 = str(input('str1: '))\n",
    "str2 = str(input('str2: '))\n",
    "\n",
    "def del_str(str1, str2):\n",
    "    str3 = ''.join(str1.split(str2))\n",
    "    return str3\n",
    "\n",
    "del_str(str1, str2)"
   ]
  },
  {
   "cell_type": "code",
   "execution_count": 155,
   "id": "a69e7f20",
   "metadata": {},
   "outputs": [
    {
     "name": "stdout",
     "output_type": "stream",
     "text": [
      "str1: onetwothree\n",
      "str2: two\n"
     ]
    },
    {
     "data": {
      "text/plain": [
       "'onethree'"
      ]
     },
     "execution_count": 155,
     "metadata": {},
     "output_type": "execute_result"
    }
   ],
   "source": [
    "#10.*\n",
    "str1 = str(input('str1: '))\n",
    "str2 = str(input('str2: '))\n",
    "\n",
    "def del_str(str1, str2):\n",
    "    return str1.replace(str2, '')\n",
    "\n",
    "del_str(str1, str2)"
   ]
  },
  {
   "cell_type": "code",
   "execution_count": 141,
   "id": "b76eb18a",
   "metadata": {},
   "outputs": [
    {
     "name": "stdout",
     "output_type": "stream",
     "text": [
      "str1: ong\n",
      "number: 3\n"
     ]
    },
    {
     "data": {
      "text/plain": [
       "'ong-ong-ong'"
      ]
     },
     "execution_count": 141,
     "metadata": {},
     "output_type": "execute_result"
    }
   ],
   "source": [
    "#11.\n",
    "str1 = str(input('str1: '))\n",
    "k = int(input('number: '))\n",
    "\n",
    "def repeat(str1, k):\n",
    "    list1 = []\n",
    "    for i in range (0, k, 1):\n",
    "        list1.append(str1)\n",
    "    str1 = '-'.join(list1)\n",
    "    return str1\n",
    "\n",
    "repeat(str1, k)"
   ]
  },
  {
   "cell_type": "code",
   "execution_count": 157,
   "id": "f8972506",
   "metadata": {},
   "outputs": [
    {
     "data": {
      "text/plain": [
       "14"
      ]
     },
     "execution_count": 157,
     "metadata": {},
     "output_type": "execute_result"
    }
   ],
   "source": [
    "#12.* Ans\n",
    "listA = ['food', 'drink', 'snack', 1, 2, 3]\n",
    "\n",
    "def length(listA):\n",
    "    total = 0\n",
    "    for i in listA:\n",
    "        if type(i) == str:\n",
    "            total = total + len(i)\n",
    "    return total\n",
    "\n",
    "length(listA)"
   ]
  },
  {
   "cell_type": "code",
   "execution_count": 315,
   "id": "94111366",
   "metadata": {},
   "outputs": [
    {
     "data": {
      "text/plain": [
       "('1251010.55.23', 13)"
      ]
     },
     "execution_count": 315,
     "metadata": {},
     "output_type": "execute_result"
    }
   ],
   "source": [
    "#12.*\n",
    "listA = [1, 2, 5, 10, 10.5, 5.23]\n",
    "\n",
    "def length(listA):\n",
    "    text = ''\n",
    "    for i in listA:\n",
    "        i = str(i)\n",
    "        text = text + i\n",
    "    return text, len(text)\n",
    "length(listA)"
   ]
  },
  {
   "cell_type": "code",
   "execution_count": 161,
   "id": "73cdea95",
   "metadata": {},
   "outputs": [
    {
     "name": "stdout",
     "output_type": "stream",
     "text": [
      "text: #chic#ken#\n"
     ]
    },
    {
     "data": {
      "text/plain": [
       "'chicken'"
      ]
     },
     "execution_count": 161,
     "metadata": {},
     "output_type": "execute_result"
    }
   ],
   "source": [
    "#13. *Ans\n",
    "str1 = str(input('text: '))\n",
    "\n",
    "def special_cut(str1):\n",
    "    special = '!@#\\$%,'\n",
    "    for i in special:\n",
    "        str1 = str1.replace(i, '')\n",
    "    return str1\n",
    "\n",
    "special_cut(str1)"
   ]
  },
  {
   "cell_type": "code",
   "execution_count": 162,
   "id": "879cdb63",
   "metadata": {},
   "outputs": [
    {
     "name": "stdout",
     "output_type": "stream",
     "text": [
      "text: #chic#ken#\n"
     ]
    },
    {
     "data": {
      "text/plain": [
       "'chicken'"
      ]
     },
     "execution_count": 162,
     "metadata": {},
     "output_type": "execute_result"
    }
   ],
   "source": [
    "#13. *\n",
    "str1 = str(input('text: '))\n",
    "\n",
    "def special_cut(str1):\n",
    "    special = '!@#\\$%,'\n",
    "    list1 = []\n",
    "    for i in str1:\n",
    "        if i not in special: \n",
    "            list1.append(i)\n",
    "    str1 = ''.join(list1)\n",
    "    return str1\n",
    "\n",
    "special_cut(str1)"
   ]
  },
  {
   "cell_type": "code",
   "execution_count": 163,
   "id": "20819390",
   "metadata": {},
   "outputs": [
    {
     "name": "stdout",
     "output_type": "stream",
     "text": [
      "x1: 32\n",
      "x2: -18\n"
     ]
    },
    {
     "data": {
      "text/plain": [
       "50.0"
      ]
     },
     "execution_count": 163,
     "metadata": {},
     "output_type": "execute_result"
    }
   ],
   "source": [
    "#14.f\n",
    "x1 = float(input('x1: '))\n",
    "x2 = float(input('x2: '))\n",
    "\n",
    "def distance(x1, x2):\n",
    "    distance = abs(x1 - x2)\n",
    "    return distance\n",
    "\n",
    "distance(x1, x2)"
   ]
  },
  {
   "cell_type": "code",
   "execution_count": 189,
   "id": "1b4fd692",
   "metadata": {},
   "outputs": [
    {
     "name": "stdout",
     "output_type": "stream",
     "text": [
      "sales: 125.36\n",
      "cogs: 20.152\n"
     ]
    },
    {
     "data": {
      "text/plain": [
       "105.208"
      ]
     },
     "execution_count": 189,
     "metadata": {},
     "output_type": "execute_result"
    }
   ],
   "source": [
    "#15.\n",
    "sales = float(input('sales: '))\n",
    "cogs = float(input('cogs: '))\n",
    "\n",
    "def gross_profit(sales, cogs):\n",
    "    return sales - cogs\n",
    "\n",
    "gross_profit(sales, cogs)"
   ]
  },
  {
   "cell_type": "code",
   "execution_count": 165,
   "id": "3c7734bd",
   "metadata": {},
   "outputs": [
    {
     "name": "stdout",
     "output_type": "stream",
     "text": [
      "price: 100\n",
      "discount(%): 20\n"
     ]
    },
    {
     "data": {
      "text/plain": [
       "80.0"
      ]
     },
     "execution_count": 165,
     "metadata": {},
     "output_type": "execute_result"
    }
   ],
   "source": [
    "#16.\n",
    "price = float(input('price: '))\n",
    "discount = float(input('discount(%): '))\n",
    "\n",
    "def special_price(price, discount):\n",
    "    if (price < 0) or (discount < 0) or (discount > 100):\n",
    "        print('ใส่ตัวเลขใหม่')\n",
    "    else: \n",
    "        price = price*(1-(discount)/100)\n",
    "        return price\n",
    "\n",
    "special_price(price, discount)"
   ]
  },
  {
   "cell_type": "code",
   "execution_count": 166,
   "id": "1a12414e",
   "metadata": {},
   "outputs": [
    {
     "name": "stdout",
     "output_type": "stream",
     "text": [
      "d: 10\n",
      "s: 2\n"
     ]
    },
    {
     "data": {
      "text/plain": [
       "5.0"
      ]
     },
     "execution_count": 166,
     "metadata": {},
     "output_type": "execute_result"
    }
   ],
   "source": [
    "#17.\n",
    "d = float(input('d: '))\n",
    "s = float(input('s: '))\n",
    "\n",
    "def jump(d, s):\n",
    "    if d%s == 0:\n",
    "        return d/s\n",
    "    else:\n",
    "        return int((d/s) + 1)\n",
    "\n",
    "jump(d, s)"
   ]
  },
  {
   "cell_type": "code",
   "execution_count": 167,
   "id": "a4030d98",
   "metadata": {},
   "outputs": [
    {
     "name": "stdout",
     "output_type": "stream",
     "text": [
      "search: 4\n"
     ]
    },
    {
     "data": {
      "text/plain": [
       "1"
      ]
     },
     "execution_count": 167,
     "metadata": {},
     "output_type": "execute_result"
    }
   ],
   "source": [
    "#18.\n",
    "k = str(input('search: '))\n",
    "listA = [2, 4, 6, 8, 12, 'ong', 'surawoot', 'meekong']\n",
    "\n",
    "def search(k):\n",
    "    if k in str(listA):\n",
    "        for i in range (0, len(str(listA)), 1):\n",
    "            if k == str(listA[i]):\n",
    "                return i\n",
    "    else:\n",
    "        return -1\n",
    "\n",
    "search(k)"
   ]
  },
  {
   "cell_type": "code",
   "execution_count": 170,
   "id": "49ea3705",
   "metadata": {},
   "outputs": [
    {
     "name": "stdout",
     "output_type": "stream",
     "text": [
      "amount: 58\n"
     ]
    },
    {
     "data": {
      "text/plain": [
       "{'10': 5, '5': 1, '2': 1, '1': 1}"
      ]
     },
     "execution_count": 170,
     "metadata": {},
     "output_type": "execute_result"
    }
   ],
   "source": [
    "#19.\n",
    "amount = int(input('amount: '))\n",
    "\n",
    "def coin(amount):\n",
    "    coin_set = {'10': 0, '5': 0, '2': 0, '1': 0}\n",
    "    for i in coin_set:\n",
    "        n = 0\n",
    "        while amount >= int(i):\n",
    "            amount = amount - int(i)\n",
    "            n = n + 1\n",
    "        coin_set[i] = n\n",
    "    return coin_set\n",
    "\n",
    "coin(amount)"
   ]
  },
  {
   "cell_type": "code",
   "execution_count": 171,
   "id": "ca966ee7",
   "metadata": {},
   "outputs": [
    {
     "name": "stdout",
     "output_type": "stream",
     "text": [
      "Present values: 1000\n",
      "interest(%): 20\n",
      "year: 2\n"
     ]
    },
    {
     "data": {
      "text/plain": [
       "1440.0"
      ]
     },
     "execution_count": 171,
     "metadata": {},
     "output_type": "execute_result"
    }
   ],
   "source": [
    "#20.\n",
    "PV = float(input('Present values: '))\n",
    "r = float(input('interest(%): '))\n",
    "n = float(input('year: '))\n",
    "\n",
    "def FV(PV, r, n):\n",
    "    FV = PV*((1+(r/100))**n)\n",
    "    return FV\n",
    "\n",
    "FV(PV, r, n)"
   ]
  },
  {
   "cell_type": "code",
   "execution_count": 172,
   "id": "0caef0d3",
   "metadata": {},
   "outputs": [
    {
     "name": "stdout",
     "output_type": "stream",
     "text": [
      "Present values: 1000\n",
      "Future values: 1440\n",
      "year: 2\n"
     ]
    },
    {
     "data": {
      "text/plain": [
       "19.999999999999996"
      ]
     },
     "execution_count": 172,
     "metadata": {},
     "output_type": "execute_result"
    }
   ],
   "source": [
    "#21.\n",
    "PV = float(input('Present values: '))\n",
    "FV = float(input('Future values: '))\n",
    "n = float(input('year: '))\n",
    "\n",
    "def percent_profit(PV, FV, n):\n",
    "    profitperyear = ((FV/PV)**(1/n)-1)*100\n",
    "    return profitperyear\n",
    "\n",
    "percent_profit(PV, FV, n)"
   ]
  },
  {
   "cell_type": "code",
   "execution_count": 173,
   "id": "acb26dda",
   "metadata": {},
   "outputs": [
    {
     "name": "stdout",
     "output_type": "stream",
     "text": [
      "a: 5\n",
      "b: 2\n",
      "Please select '+', '-', '*', '/': *\n"
     ]
    },
    {
     "data": {
      "text/plain": [
       "10.0"
      ]
     },
     "execution_count": 173,
     "metadata": {},
     "output_type": "execute_result"
    }
   ],
   "source": [
    "#22.\n",
    "a = float(input('a: '))\n",
    "b = float(input('b: '))\n",
    "op = str(input(\"Please select '+', '-', '*', '/': \"))\n",
    "\n",
    "def cal(a, b, op):\n",
    "    if op == '+':\n",
    "        return a + b\n",
    "    elif op == '-':\n",
    "        return a - b\n",
    "    elif op == '*':\n",
    "        return a*b\n",
    "    elif op == '/':\n",
    "        return a/b\n",
    "    else:\n",
    "        return 'โปรดเลือก op ใหม่'\n",
    "cal(a, b, op)"
   ]
  },
  {
   "cell_type": "code",
   "execution_count": 176,
   "id": "794905b1",
   "metadata": {},
   "outputs": [
    {
     "name": "stdout",
     "output_type": "stream",
     "text": [
      "a: 3\n",
      "b: 4\n"
     ]
    },
    {
     "data": {
      "text/plain": [
       "5.0"
      ]
     },
     "execution_count": 176,
     "metadata": {},
     "output_type": "execute_result"
    }
   ],
   "source": [
    "#23.\n",
    "a = float(input('a: '))\n",
    "b = float(input('b: '))\n",
    "\n",
    "def c(a, b):\n",
    "    c = ((a**2) + (b**2))**(1/2)\n",
    "    return c\n",
    "\n",
    "c(a, b)"
   ]
  },
  {
   "cell_type": "code",
   "execution_count": 177,
   "id": "a3ca276b",
   "metadata": {},
   "outputs": [
    {
     "name": "stdout",
     "output_type": "stream",
     "text": [
      "x1: 3\n",
      "y1: 4\n",
      "x2: 6\n",
      "y2: 8\n"
     ]
    },
    {
     "data": {
      "text/plain": [
       "5.0"
      ]
     },
     "execution_count": 177,
     "metadata": {},
     "output_type": "execute_result"
    }
   ],
   "source": [
    "#24.\n",
    "x1 = float(input('x1: '))\n",
    "y1 = float(input('y1: '))\n",
    "x2 = float(input('x2: '))\n",
    "y2 = float(input('y2: '))\n",
    "\n",
    "def distance(x1, y1, x2, y2):\n",
    "    distance = ((x1-x2)**2 + (y1-y2)**2)**(1/2)\n",
    "    return distance\n",
    "\n",
    "distance(x1, y1, x2, y2)"
   ]
  },
  {
   "cell_type": "code",
   "execution_count": 183,
   "id": "9e2f3f42",
   "metadata": {},
   "outputs": [
    {
     "data": {
      "text/plain": [
       "4.0"
      ]
     },
     "execution_count": 183,
     "metadata": {},
     "output_type": "execute_result"
    }
   ],
   "source": [
    "#25.\n",
    "P1 = (1, 2, 2, 1)\n",
    "P2 = (3, 4, 0, -1)\n",
    "\n",
    "def dimension(P1, P2):\n",
    "    value = 0\n",
    "    for i in range (0, len(P1), 1):\n",
    "        value = value + (P1[i]-P2[i])**2\n",
    "    return value**(1/2)\n",
    "\n",
    "dimension(P1, P2)"
   ]
  },
  {
   "cell_type": "code",
   "execution_count": 184,
   "id": "d8eb9174",
   "metadata": {},
   "outputs": [
    {
     "name": "stdout",
     "output_type": "stream",
     "text": [
      "k: 1\n"
     ]
    },
    {
     "data": {
      "text/plain": [
       "[5, 1, 2, 3, 4]"
      ]
     },
     "execution_count": 184,
     "metadata": {},
     "output_type": "execute_result"
    }
   ],
   "source": [
    "#26.\n",
    "listA = [1, 2, 3, 4, 5]\n",
    "k = int(input('k: '))\n",
    "\n",
    "def shift(listA, k):\n",
    "    list1 = []\n",
    "    for i in range (0, 5, 1):\n",
    "        list1.append(listA[i-k])\n",
    "    return list1\n",
    "\n",
    "shift(listA, k)"
   ]
  },
  {
   "cell_type": "code",
   "execution_count": 526,
   "id": "23e45484",
   "metadata": {},
   "outputs": [
    {
     "name": "stdout",
     "output_type": "stream",
     "text": [
      "k: 1\n"
     ]
    },
    {
     "data": {
      "text/plain": [
       "[2, 3, 4, 5, 1]"
      ]
     },
     "execution_count": 526,
     "metadata": {},
     "output_type": "execute_result"
    }
   ],
   "source": [
    "#27.\n",
    "listA = [1, 2, 3, 4, 5]\n",
    "k = int(input('k: '))\n",
    "\n",
    "def shift(listA, k):\n",
    "    list1 = []\n",
    "    for i in range (-5, 0, 1):\n",
    "        list1.append(listA[i+k])\n",
    "    return list1\n",
    "\n",
    "shift(listA, k)"
   ]
  },
  {
   "cell_type": "code",
   "execution_count": 185,
   "id": "e88f878c",
   "metadata": {},
   "outputs": [
    {
     "name": "stdout",
     "output_type": "stream",
     "text": [
      "s: 71a\n",
      "ฐาน: 16\n"
     ]
    },
    {
     "data": {
      "text/plain": [
       "1818"
      ]
     },
     "execution_count": 185,
     "metadata": {},
     "output_type": "execute_result"
    }
   ],
   "source": [
    "#28. *Ans\n",
    "s = str(input('s: '))\n",
    "b = int(input('ฐาน: '))\n",
    "\n",
    "def to_decimal(s,b):\n",
    "    converter = {'0':0, '1':1, '2':2, '3':3, '4':4, '5':5, '6':6, '7':7, '8':8, '9':9,\n",
    "            'A':10, 'B':11, 'C':12, 'D':13, 'E':14, 'F':15}\n",
    "    s = s[::-1].upper()\n",
    "    decimal = 0\n",
    "    n = len(s)\n",
    "    for i in range (n):\n",
    "        decimal = decimal + converter[s[i]]*b**(i)\n",
    "    return decimal\n",
    "\n",
    "to_decimal(s,b)"
   ]
  },
  {
   "cell_type": "code",
   "execution_count": 187,
   "id": "4ab45e90",
   "metadata": {},
   "outputs": [
    {
     "name": "stdout",
     "output_type": "stream",
     "text": [
      "s: 71A\n",
      "ฐาน: 16\n"
     ]
    },
    {
     "data": {
      "text/plain": [
       "1818"
      ]
     },
     "execution_count": 187,
     "metadata": {},
     "output_type": "execute_result"
    }
   ],
   "source": [
    "#28. *\n",
    "s = str(input('s: '))\n",
    "b = int(input('ฐาน: '))\n",
    "\n",
    "def decimal(s,b):\n",
    "    dict1 = {'0':0, '1':1, '2':2, '3':3, '4':4, '5':5, '6':6, '7':7, '8':8, '9':9,\n",
    "            'A':10, 'B':11, 'C':12, 'D':13, 'E':14, 'F':15}\n",
    "    decimal = 0\n",
    "    for i in range (0, len(s), 1):\n",
    "        decimal = decimal + (dict1[s[i]]*(b**(len(s)-1-i)))\n",
    "    return decimal\n",
    "decimal(s,b)"
   ]
  },
  {
   "cell_type": "code",
   "execution_count": 188,
   "id": "45cec3d1",
   "metadata": {},
   "outputs": [
    {
     "name": "stdout",
     "output_type": "stream",
     "text": [
      "x: 7\n"
     ]
    },
    {
     "data": {
      "text/plain": [
       "'111'"
      ]
     },
     "execution_count": 188,
     "metadata": {},
     "output_type": "execute_result"
    }
   ],
   "source": [
    "#29.\n",
    "x = int(input('x: '))\n",
    "\n",
    "def binary(x):\n",
    "    decimal = ''\n",
    "    while x > 0:\n",
    "        a = x%2\n",
    "        decimal = str(a) + decimal\n",
    "        x = x//2\n",
    "    return decimal\n",
    "\n",
    "binary(x)"
   ]
  },
  {
   "cell_type": "code",
   "execution_count": 189,
   "id": "899c4246",
   "metadata": {},
   "outputs": [
    {
     "name": "stdout",
     "output_type": "stream",
     "text": [
      "x: 318\n"
     ]
    },
    {
     "data": {
      "text/plain": [
       "'13E'"
      ]
     },
     "execution_count": 189,
     "metadata": {},
     "output_type": "execute_result"
    }
   ],
   "source": [
    "#30.*\n",
    "x = int(input('x: '))\n",
    "\n",
    "def hexadecimal(x):\n",
    "    hexadecimal = ''\n",
    "    dict1 = {10:'A', 11:'B', 12:'C', 13:'D', 14:'E', 15:'F'}\n",
    "    while x > 0:\n",
    "        a = x%16\n",
    "        if a >= 10:\n",
    "            for i in dict1:\n",
    "                if a == i:\n",
    "                    hexadecimal = dict1[i] + hexadecimal\n",
    "        else: \n",
    "            hexadecimal = str(a) + hexadecimal\n",
    "        x = x//16\n",
    "    return hexadecimal\n",
    "\n",
    "hexadecimal(x)"
   ]
  },
  {
   "cell_type": "code",
   "execution_count": 190,
   "id": "d5a79957",
   "metadata": {},
   "outputs": [
    {
     "name": "stdout",
     "output_type": "stream",
     "text": [
      "x: 318\n"
     ]
    },
    {
     "data": {
      "text/plain": [
       "'13E'"
      ]
     },
     "execution_count": 190,
     "metadata": {},
     "output_type": "execute_result"
    }
   ],
   "source": [
    "#30.*\n",
    "x = int(input('x: '))\n",
    "\n",
    "def hexadecimal(x):\n",
    "    hexadecimal = ''\n",
    "    dict1 = {'0':0, '1':1, '2':2, '3':3, '4':4, '5':5, '6':6, '7':7, '8':8, '9':9,\n",
    "            'A':10, 'B':11, 'C':12, 'D':13, 'E':14, 'F':15}\n",
    "    while x > 0:\n",
    "        a = x%16\n",
    "        for i in dict1:\n",
    "            if a == dict1[i]:\n",
    "                hexadecimal = i + hexadecimal\n",
    "        x = x//16\n",
    "    return hexadecimal\n",
    "\n",
    "hexadecimal(x)"
   ]
  },
  {
   "cell_type": "code",
   "execution_count": 108,
   "id": "86317269",
   "metadata": {},
   "outputs": [
    {
     "data": {
      "text/plain": [
       "(10.4, 33.9)"
      ]
     },
     "execution_count": 108,
     "metadata": {},
     "output_type": "execute_result"
    }
   ],
   "source": [
    "#31.\n",
    "listA = [18.7, 18.1, 14.3, 24.4, 22.8, 19.2, 17, 16.4, 17.3, 15.2, 10.4, 10.4, 14.7, 32.4, \n",
    "         30.4, 33.9, 21.5, 15.5, 15.2, 13.3, 19.2, 27.3, 26, 30.4, 15.8, 19.7, 15, 21.4]\n",
    "def stat1(listA):\n",
    "    return min(listA), max(listA)\n",
    "\n",
    "stat1(listA)"
   ]
  },
  {
   "cell_type": "code",
   "execution_count": 192,
   "id": "28839178",
   "metadata": {},
   "outputs": [
    {
     "name": "stdout",
     "output_type": "stream",
     "text": [
      "mode = 2\n",
      "median = 2\n",
      "mean = 2.4\n"
     ]
    }
   ],
   "source": [
    "#32.\n",
    "listB = [18.7, 18.1, 14.3, 24.4, 22.8, 19.2, 17, 16.4, 17.3, 15.2, 10.4, 10.4, 14.7, 32.4, \n",
    "         30.4, 33.9, 21.5, 15.5, 15.2, 13.3, 19.2, 27.3, 26, 30.4, 15.8, 19.7, 15, 21.4, \n",
    "         19.2]\n",
    "listA = [1, 2, 2, 3, 4]\n",
    "def stat2(listA):\n",
    "    mean = sum(listA)/len(listA)\n",
    "    list1 = sorted(listA)\n",
    "    central = (len(list1)+1)/2\n",
    "    if central%1 == 0:\n",
    "        median = list1[int(central)-1]\n",
    "    else:\n",
    "        median = (list1[int(central)-1] + list1[int(central)])/2\n",
    "    set1 = set(list1)\n",
    "    dict1 = dict()\n",
    "    for i in set1:\n",
    "        n = 0\n",
    "        for j in list1:\n",
    "            if i == j:\n",
    "                n = n + 1\n",
    "        dict1[i] = n\n",
    "    for k in dict1.keys(): \n",
    "        if max(dict1.values()) == dict1[k]:\n",
    "            print(f'mode = {k}')\n",
    "    print(f'median = {median}')\n",
    "    print(f'mean = {mean}')\n",
    "\n",
    "stat2(listA)"
   ]
  },
  {
   "cell_type": "code",
   "execution_count": 193,
   "id": "4efdcd8c",
   "metadata": {},
   "outputs": [
    {
     "name": "stdout",
     "output_type": "stream",
     "text": [
      "number: 37\n",
      "37 is prime number\n"
     ]
    }
   ],
   "source": [
    "#33.\n",
    "num = int(input('number: '))\n",
    "\n",
    "def prime(num):\n",
    "    list1 = []\n",
    "    for i in range (1, num+1, 1):\n",
    "        if num%i == 0:\n",
    "            list1.append(i)\n",
    "    if len(list1) == 2:\n",
    "        print(f'{num} is prime number')\n",
    "    else:\n",
    "        print(f'{num} is not prime number')\n",
    "prime(num)"
   ]
  },
  {
   "cell_type": "code",
   "execution_count": 270,
   "id": "f3a6cd5f",
   "metadata": {},
   "outputs": [
    {
     "data": {
      "text/plain": [
       "[False,\n",
       " False,\n",
       " False,\n",
       " False,\n",
       " False,\n",
       " True,\n",
       " True,\n",
       " False,\n",
       " True,\n",
       " False,\n",
       " False,\n",
       " False,\n",
       " False,\n",
       " False,\n",
       " False,\n",
       " False,\n",
       " False,\n",
       " False,\n",
       " False,\n",
       " True,\n",
       " True,\n",
       " False,\n",
       " False,\n",
       " False,\n",
       " False,\n",
       " True,\n",
       " False,\n",
       " False,\n",
       " True]"
      ]
     },
     "execution_count": 270,
     "metadata": {},
     "output_type": "execute_result"
    }
   ],
   "source": [
    "#34.\n",
    "listA = [18, 18, 14, 24, 22, 19, 17, 16, 17, 15, 10, 10, 14, 32, 30, 33, 21, 15, 15, 13, 19,\n",
    "         27, 26, 30, 15, 19, 15, 21, 19]\n",
    "\n",
    "def prime1(listA):\n",
    "    for i in range (0, len(listA), 1):\n",
    "        list1 = []\n",
    "        for j in range(1, listA[i]+1, 1):\n",
    "            if listA[i]%j == 0:\n",
    "                list1.append(j)\n",
    "        if len(list1) == 2:\n",
    "            listA[i] = True\n",
    "        else:\n",
    "            listA[i] = False\n",
    "    return listA\n",
    "prime1(listA)"
   ]
  },
  {
   "cell_type": "code",
   "execution_count": 127,
   "id": "0e031bee",
   "metadata": {},
   "outputs": [
    {
     "name": "stdout",
     "output_type": "stream",
     "text": [
      "number: 16\n",
      "x--------------x\n",
      "-x------------x-\n",
      "--x----------x--\n",
      "---x--------x---\n",
      "----x------x----\n",
      "-----x----x-----\n",
      "------x--x------\n",
      "-------xx-------\n",
      "-------xx-------\n",
      "------x--x------\n",
      "-----x----x-----\n",
      "----x------x----\n",
      "---x--------x---\n",
      "--x----------x--\n",
      "-x------------x-\n",
      "x--------------x\n"
     ]
    }
   ],
   "source": [
    "#35.\n",
    "n = int(input('number: '))\n",
    "\n",
    "def draw1(n):\n",
    "    for i in range (0, n, 1):\n",
    "        list1 = list('-'*n)\n",
    "        for j in range (-n, 0, 1):\n",
    "            if i+j == -1:\n",
    "                list1[i] = 'x'\n",
    "                list1[j] = 'x'\n",
    "        print(''.join(list1))\n",
    "draw1(n)"
   ]
  },
  {
   "cell_type": "code",
   "execution_count": 195,
   "id": "02572b29",
   "metadata": {},
   "outputs": [
    {
     "name": "stdout",
     "output_type": "stream",
     "text": [
      "number: 6\n",
      "--xx--\n",
      "-x--x-\n",
      "x----x\n",
      "-x--x-\n",
      "--xx--\n"
     ]
    }
   ],
   "source": [
    "#36.\n",
    "n = int(input('number: '))\n",
    "\n",
    "def draw2(n):\n",
    "    if n%2 == 0:\n",
    "        line = n - 1\n",
    "        center = int(n/2)-1\n",
    "    else:\n",
    "        line = n\n",
    "        center = int(n//2)\n",
    "    for i in range (0, line, 1):\n",
    "        list1 = list('-'*n)\n",
    "        if i > line/2:\n",
    "            list1[center-1-i] = 'x'\n",
    "            list1[-center+i] = 'x'\n",
    "        else:\n",
    "            list1[center-i] = 'x'\n",
    "            list1[(-center-1)+i] = 'x'\n",
    "        print(''.join(list1))\n",
    "draw2(n)"
   ]
  },
  {
   "cell_type": "code",
   "execution_count": 334,
   "id": "6426258f",
   "metadata": {},
   "outputs": [
    {
     "name": "stdout",
     "output_type": "stream",
     "text": [
      "---x\n",
      "--xxx\n",
      "-xxxxx\n",
      "xxxxxxx\n"
     ]
    }
   ],
   "source": [
    "#37.\n",
    "def draw3():\n",
    "    n = 1\n",
    "    for i in range (0, 4, 1):\n",
    "        result = '-'*(3-i) + 'x'*n\n",
    "        n = n + 2\n",
    "        print(result)\n",
    "draw3()"
   ]
  },
  {
   "cell_type": "code",
   "execution_count": 352,
   "id": "4a667690",
   "metadata": {},
   "outputs": [
    {
     "data": {
      "text/plain": [
       "([7, 9, 11], [6, 14, 24])"
      ]
     },
     "execution_count": 352,
     "metadata": {},
     "output_type": "execute_result"
    }
   ],
   "source": [
    "#38.\n",
    "listA = [1, 2, 3]\n",
    "listB = [6, 7, 8]\n",
    "\n",
    "def cal_list(listA, listB):\n",
    "    list1 = []\n",
    "    list2 = []\n",
    "    for i in range (0, len(listA), 1):\n",
    "        list1.append(listA[i] + listB[i])\n",
    "        list2.append(listA[i]*listB[i])\n",
    "    return list1, list2\n",
    "cal_list(listA, listB)"
   ]
  },
  {
   "cell_type": "code",
   "execution_count": 361,
   "id": "734a2723",
   "metadata": {},
   "outputs": [
    {
     "data": {
      "text/plain": [
       "(dict_keys(['name', 'age']), dict_values(['John', 32]))"
      ]
     },
     "execution_count": 361,
     "metadata": {},
     "output_type": "execute_result"
    }
   ],
   "source": [
    "#39.\n",
    "dictA = {'name': 'John', 'age':32}\n",
    "\n",
    "def dict_fun(dictA):\n",
    "    key = dictA.keys()\n",
    "    value = dictA.values()\n",
    "    return key, value\n",
    "dict_fun(dictA)"
   ]
  },
  {
   "cell_type": "code",
   "execution_count": 196,
   "id": "216951d3",
   "metadata": {},
   "outputs": [
    {
     "data": {
      "text/plain": [
       "[8, 8, 6, 10]"
      ]
     },
     "execution_count": 196,
     "metadata": {},
     "output_type": "execute_result"
    }
   ],
   "source": [
    "#40.\n",
    "listA = [8, 0, -2, 4]\n",
    "\n",
    "def cum_sum(listA):\n",
    "    list1 = []\n",
    "    n = 0\n",
    "    for i in listA:\n",
    "        n = n + i\n",
    "        list1.append(n)\n",
    "    return list1\n",
    "cum_sum(listA)"
   ]
  },
  {
   "cell_type": "code",
   "execution_count": 197,
   "id": "c3bc4790",
   "metadata": {},
   "outputs": [
    {
     "name": "stdout",
     "output_type": "stream",
     "text": [
      "a: 5\n",
      "b: 3\n",
      "c: 4\n"
     ]
    },
    {
     "data": {
      "text/plain": [
       "True"
      ]
     },
     "execution_count": 197,
     "metadata": {},
     "output_type": "execute_result"
    }
   ],
   "source": [
    "#41.*Ans\n",
    "a = float(input('a: '))\n",
    "b = float(input('b: '))\n",
    "c = float(input('c: '))\n",
    "\n",
    "def triangle(a, b, c):\n",
    "    s_len = sorted([a, b, c])\n",
    "    if s_len[0] + s_len[1] > s_len[2]:\n",
    "        return True\n",
    "    else:\n",
    "        return False\n",
    "    \n",
    "triangle(a, b, c)"
   ]
  },
  {
   "cell_type": "code",
   "execution_count": 388,
   "id": "9b59ddf5",
   "metadata": {},
   "outputs": [
    {
     "name": "stdout",
     "output_type": "stream",
     "text": [
      "a: 2\n",
      "b: 2\n",
      "c: 3\n"
     ]
    },
    {
     "data": {
      "text/plain": [
       "True"
      ]
     },
     "execution_count": 388,
     "metadata": {},
     "output_type": "execute_result"
    }
   ],
   "source": [
    "#41.*\n",
    "a = float(input('a: '))\n",
    "b = float(input('b: '))\n",
    "c = float(input('c: '))\n",
    "\n",
    "def triangle(a, b, c):\n",
    "    list1 = [a, b, c]\n",
    "    max1 = max(list1)\n",
    "    list1.remove(max1)\n",
    "    if sum(list1) > max1:\n",
    "        return True\n",
    "    else:\n",
    "        return False\n",
    "\n",
    "triangle(a, b, c)"
   ]
  },
  {
   "cell_type": "code",
   "execution_count": 199,
   "id": "e190dc91",
   "metadata": {},
   "outputs": [
    {
     "name": "stdout",
     "output_type": "stream",
     "text": [
      "word: My Name Is John Doe\n"
     ]
    },
    {
     "data": {
      "text/plain": [
       "'mY nAME iS jOHN dOE'"
      ]
     },
     "execution_count": 199,
     "metadata": {},
     "output_type": "execute_result"
    }
   ],
   "source": [
    "#42.\n",
    "word = str(input('word: '))\n",
    "\n",
    "def case(word):\n",
    "    text = ''\n",
    "    for i in word:\n",
    "        if i == i.upper():\n",
    "            text = text + i.lower()\n",
    "        else:\n",
    "            text = text + i.upper()\n",
    "    return text\n",
    "case(word)"
   ]
  },
  {
   "cell_type": "code",
   "execution_count": 202,
   "id": "d25545a0",
   "metadata": {},
   "outputs": [
    {
     "name": "stdout",
     "output_type": "stream",
     "text": [
      "n: 2\n"
     ]
    },
    {
     "data": {
      "text/plain": [
       "['He', 'H']"
      ]
     },
     "execution_count": 202,
     "metadata": {},
     "output_type": "execute_result"
    }
   ],
   "source": [
    "#43.\n",
    "listA = ['Hello', 'Hel', 'Hell', 'He', 'H']\n",
    "n = int(input('n: '))\n",
    "\n",
    "def remove1(listA, n):\n",
    "    for i in range (len(listA)-1, -1, -1):\n",
    "        if len(listA[i]) > n:\n",
    "            del listA[i]\n",
    "    return listA\n",
    "remove1(listA, n)"
   ]
  },
  {
   "cell_type": "code",
   "execution_count": 203,
   "id": "2054faaa",
   "metadata": {},
   "outputs": [
    {
     "name": "stdout",
     "output_type": "stream",
     "text": [
      "[0, 3, 0, 3]\n"
     ]
    },
    {
     "data": {
      "text/plain": [
       "[3, 0, 3, 0]"
      ]
     },
     "execution_count": 203,
     "metadata": {},
     "output_type": "execute_result"
    }
   ],
   "source": [
    "#44.\n",
    "listA = [2, 3, 0, 1]\n",
    "\n",
    "def dev(listA):\n",
    "    for i in range (0, len(listA), 1):\n",
    "        listA[i] = i*listA[i]\n",
    "    print(listA)\n",
    "    list1 = []\n",
    "    for j in range (-len(listA), 0, 1):\n",
    "        list1.append(listA[j+1])\n",
    "    return list1\n",
    "dev(listA)"
   ]
  },
  {
   "cell_type": "code",
   "execution_count": 655,
   "id": "b8ced4f5",
   "metadata": {},
   "outputs": [
    {
     "data": {
      "text/plain": [
       "[[1, 2, 3, 4, 5], [6, 7, 8, 9, 10], [11, 12, 13, 14, 15]]"
      ]
     },
     "execution_count": 655,
     "metadata": {},
     "output_type": "execute_result"
    }
   ],
   "source": [
    "#45.\n",
    "listA = [1, 2, 3, 4, 5, 6, 7, 8, 9, 10, 11, 12, 13, 14, 15]\n",
    "tuple2 = (3, 5)\n",
    "\n",
    "def reshape(listA, tuple2):\n",
    "    if len(listA) == (tuple2[0]*tuple2[1]):\n",
    "        list1 = []\n",
    "        for i in range (0, tuple2[0], 1):\n",
    "            list2 = []\n",
    "            for j in range (0, tuple2[1], 1):\n",
    "                list2.append(listA[0])\n",
    "                del listA[0]\n",
    "            list1.append(list2)\n",
    "        return list1\n",
    "    else:\n",
    "        print(\"ไม่สามารถสร้าง maxtrix ได้\")\n",
    "reshape(listA, tuple2)"
   ]
  }
 ],
 "metadata": {
  "kernelspec": {
   "display_name": "Python 3 (ipykernel)",
   "language": "python",
   "name": "python3"
  },
  "language_info": {
   "codemirror_mode": {
    "name": "ipython",
    "version": 3
   },
   "file_extension": ".py",
   "mimetype": "text/x-python",
   "name": "python",
   "nbconvert_exporter": "python",
   "pygments_lexer": "ipython3",
   "version": "3.9.13"
  }
 },
 "nbformat": 4,
 "nbformat_minor": 5
}
