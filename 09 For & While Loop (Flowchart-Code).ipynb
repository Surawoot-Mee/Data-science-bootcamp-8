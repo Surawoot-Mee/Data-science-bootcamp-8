{
 "cells": [
  {
   "cell_type": "markdown",
   "id": "cd6a34dd",
   "metadata": {},
   "source": [
    "# 9. FOR & WHILE LOOP (FLOWCHART-CODE)"
   ]
  },
  {
   "cell_type": "code",
   "execution_count": 2,
   "id": "a57efd10",
   "metadata": {},
   "outputs": [
    {
     "name": "stdout",
     "output_type": "stream",
     "text": [
      "0\n",
      "1\n",
      "2\n",
      "3\n",
      "4\n",
      "5\n",
      "6\n",
      "7\n",
      "8\n",
      "9\n"
     ]
    }
   ],
   "source": [
    "#1.\n",
    "for i in range (10):\n",
    "    print(i)"
   ]
  },
  {
   "cell_type": "code",
   "execution_count": 3,
   "id": "37e29cab",
   "metadata": {},
   "outputs": [
    {
     "name": "stdout",
     "output_type": "stream",
     "text": [
      "0\n",
      "1\n",
      "2\n",
      "3\n",
      "4\n",
      "5\n",
      "6\n",
      "7\n",
      "8\n",
      "9\n"
     ]
    }
   ],
   "source": [
    "#2.\n",
    "for i in range (0, 10):\n",
    "    print(i)"
   ]
  },
  {
   "cell_type": "code",
   "execution_count": 4,
   "id": "7b5f8a37",
   "metadata": {},
   "outputs": [
    {
     "name": "stdout",
     "output_type": "stream",
     "text": [
      "1\n",
      "2\n",
      "3\n",
      "4\n",
      "5\n",
      "6\n",
      "7\n",
      "8\n",
      "9\n"
     ]
    }
   ],
   "source": [
    "#3.\n",
    "for i in range (1, 10):\n",
    "    print(i)"
   ]
  },
  {
   "cell_type": "code",
   "execution_count": 6,
   "id": "21597ca4",
   "metadata": {},
   "outputs": [
    {
     "name": "stdout",
     "output_type": "stream",
     "text": [
      "3\n",
      "4\n",
      "5\n",
      "6\n",
      "7\n",
      "8\n",
      "9\n",
      "10\n"
     ]
    }
   ],
   "source": [
    "#4.\n",
    "for i in range (3, 11):\n",
    "    print(i)"
   ]
  },
  {
   "cell_type": "code",
   "execution_count": 7,
   "id": "d42e5dfe",
   "metadata": {},
   "outputs": [
    {
     "name": "stdout",
     "output_type": "stream",
     "text": [
      "-2\n",
      "-1\n",
      "0\n",
      "1\n",
      "2\n",
      "3\n",
      "4\n",
      "5\n",
      "6\n",
      "7\n"
     ]
    }
   ],
   "source": [
    "#5.\n",
    "for i in range (-2, 8):\n",
    "    print(i)"
   ]
  },
  {
   "cell_type": "code",
   "execution_count": 8,
   "id": "97b5448d",
   "metadata": {},
   "outputs": [
    {
     "name": "stdout",
     "output_type": "stream",
     "text": [
      "-7\n",
      "-6\n",
      "-5\n",
      "-4\n",
      "-3\n",
      "-2\n",
      "-1\n",
      "0\n"
     ]
    }
   ],
   "source": [
    "#6.\n",
    "for i in range (-7, 1):\n",
    "    print(i)"
   ]
  },
  {
   "cell_type": "code",
   "execution_count": 9,
   "id": "c3ad9de1",
   "metadata": {},
   "outputs": [
    {
     "name": "stdout",
     "output_type": "stream",
     "text": [
      "-11\n",
      "-10\n",
      "-9\n",
      "-8\n",
      "-7\n",
      "-6\n"
     ]
    }
   ],
   "source": [
    "#7.\n",
    "for i in range (-11, -5):\n",
    "    print(i)"
   ]
  },
  {
   "cell_type": "code",
   "execution_count": 11,
   "id": "27bc47d4",
   "metadata": {},
   "outputs": [
    {
     "name": "stdout",
     "output_type": "stream",
     "text": [
      "0\n",
      "2\n",
      "4\n",
      "6\n",
      "8\n",
      "10\n"
     ]
    }
   ],
   "source": [
    "#8.\n",
    "for i in range (0, 11, 2):\n",
    "    print(i)"
   ]
  },
  {
   "cell_type": "code",
   "execution_count": 12,
   "id": "a93101eb",
   "metadata": {},
   "outputs": [
    {
     "name": "stdout",
     "output_type": "stream",
     "text": [
      "0\n",
      "1\n",
      "2\n",
      "3\n",
      "4\n",
      "5\n",
      "6\n",
      "7\n",
      "8\n",
      "9\n"
     ]
    }
   ],
   "source": [
    "#9.\n",
    "for i in range (0, 10, 1):\n",
    "    print(i)"
   ]
  },
  {
   "cell_type": "code",
   "execution_count": 14,
   "id": "d9482312",
   "metadata": {},
   "outputs": [
    {
     "name": "stdout",
     "output_type": "stream",
     "text": [
      "3\n",
      "6\n",
      "9\n",
      "12\n"
     ]
    }
   ],
   "source": [
    "#10. \n",
    "for i in range (3, 14, 3):\n",
    "    print(i)"
   ]
  },
  {
   "cell_type": "code",
   "execution_count": 15,
   "id": "cfdd7b99",
   "metadata": {},
   "outputs": [
    {
     "name": "stdout",
     "output_type": "stream",
     "text": [
      "-15\n",
      "-11\n",
      "-7\n",
      "-3\n",
      "1\n"
     ]
    }
   ],
   "source": [
    "#11.\n",
    "for i in range (-15, 4, 4):\n",
    "    print(i)"
   ]
  },
  {
   "cell_type": "code",
   "execution_count": 16,
   "id": "7fc4efcc",
   "metadata": {},
   "outputs": [
    {
     "name": "stdout",
     "output_type": "stream",
     "text": [
      "10\n",
      "9\n",
      "8\n",
      "7\n",
      "6\n",
      "5\n",
      "4\n",
      "3\n"
     ]
    }
   ],
   "source": [
    "#12.\n",
    "for i in range (10, 2, -1):\n",
    "    print(i)"
   ]
  },
  {
   "cell_type": "code",
   "execution_count": 17,
   "id": "ce6d890a",
   "metadata": {},
   "outputs": [
    {
     "name": "stdout",
     "output_type": "stream",
     "text": [
      "10\n",
      "9\n",
      "8\n",
      "7\n",
      "6\n",
      "5\n",
      "4\n",
      "3\n",
      "2\n",
      "1\n",
      "0\n"
     ]
    }
   ],
   "source": [
    "#13.\n",
    "for i in range (10, -1, -1):\n",
    "    print(i)"
   ]
  },
  {
   "cell_type": "code",
   "execution_count": 18,
   "id": "00ffd16d",
   "metadata": {},
   "outputs": [
    {
     "name": "stdout",
     "output_type": "stream",
     "text": [
      "7\n",
      "6\n",
      "5\n",
      "4\n",
      "3\n",
      "2\n",
      "1\n",
      "0\n",
      "-1\n",
      "-2\n",
      "-3\n"
     ]
    }
   ],
   "source": [
    "#14.\n",
    "for i in range (7, -4, -1):\n",
    "    print(i)"
   ]
  },
  {
   "cell_type": "code",
   "execution_count": 19,
   "id": "d08fc7ef",
   "metadata": {},
   "outputs": [
    {
     "name": "stdout",
     "output_type": "stream",
     "text": [
      "10\n",
      "7\n",
      "4\n",
      "1\n"
     ]
    }
   ],
   "source": [
    "#15.\n",
    "for i in range (10, -1, -3):\n",
    "    print(i)"
   ]
  },
  {
   "cell_type": "code",
   "execution_count": 20,
   "id": "7b4f90f3",
   "metadata": {},
   "outputs": [
    {
     "name": "stdout",
     "output_type": "stream",
     "text": [
      "15\n",
      "10\n",
      "5\n",
      "0\n"
     ]
    }
   ],
   "source": [
    "#16.\n",
    "for i in range (15, -4, -5):\n",
    "    print(i)"
   ]
  },
  {
   "cell_type": "code",
   "execution_count": 21,
   "id": "22a7d5b8",
   "metadata": {},
   "outputs": [
    {
     "name": "stdout",
     "output_type": "stream",
     "text": [
      "-6 1\n",
      "-6 4\n",
      "-6 7\n",
      "-4 1\n",
      "-4 4\n",
      "-4 7\n",
      "-2 1\n",
      "-2 4\n",
      "-2 7\n",
      "0 1\n",
      "0 4\n",
      "0 7\n",
      "2 1\n",
      "2 4\n",
      "2 7\n",
      "4 1\n",
      "4 4\n",
      "4 7\n",
      "6 1\n",
      "6 4\n",
      "6 7\n"
     ]
    }
   ],
   "source": [
    "#17.\n",
    "for i in range (-6, 8, 2):\n",
    "    for j in range (1, 9, 3):\n",
    "        print(i, j)"
   ]
  },
  {
   "cell_type": "code",
   "execution_count": 24,
   "id": "89245a40",
   "metadata": {},
   "outputs": [
    {
     "name": "stdout",
     "output_type": "stream",
     "text": [
      "0 6\n",
      "0 5\n",
      "0 4\n",
      "0 3\n",
      "0 2\n",
      "0 1\n",
      "0 0\n",
      "0 -1\n",
      "0 -2\n",
      "1 6\n",
      "1 5\n",
      "1 4\n",
      "1 3\n",
      "1 2\n",
      "1 1\n",
      "1 0\n",
      "1 -1\n",
      "1 -2\n",
      "2 6\n",
      "2 5\n",
      "2 4\n",
      "2 3\n",
      "2 2\n",
      "2 1\n",
      "2 0\n",
      "2 -1\n",
      "2 -2\n",
      "3 6\n",
      "3 5\n",
      "3 4\n",
      "3 3\n",
      "3 2\n",
      "3 1\n",
      "3 0\n",
      "3 -1\n",
      "3 -2\n",
      "4 6\n",
      "4 5\n",
      "4 4\n",
      "4 3\n",
      "4 2\n",
      "4 1\n",
      "4 0\n",
      "4 -1\n",
      "4 -2\n",
      "5 6\n",
      "5 5\n",
      "5 4\n",
      "5 3\n",
      "5 2\n",
      "5 1\n",
      "5 0\n",
      "5 -1\n",
      "5 -2\n",
      "6 6\n",
      "6 5\n",
      "6 4\n",
      "6 3\n",
      "6 2\n",
      "6 1\n",
      "6 0\n",
      "6 -1\n",
      "6 -2\n",
      "7 6\n",
      "7 5\n",
      "7 4\n",
      "7 3\n",
      "7 2\n",
      "7 1\n",
      "7 0\n",
      "7 -1\n",
      "7 -2\n"
     ]
    }
   ],
   "source": [
    "#18.\n",
    "for i in range (0, 8):\n",
    "    for j in range (6, -3, -1):\n",
    "        print(i, j)"
   ]
  },
  {
   "cell_type": "code",
   "execution_count": 23,
   "id": "ceecd9f8",
   "metadata": {},
   "outputs": [
    {
     "name": "stdout",
     "output_type": "stream",
     "text": [
      "12 -5\n",
      "12 -4\n",
      "12 -3\n",
      "12 -2\n",
      "12 -1\n",
      "12 0\n",
      "10 -5\n",
      "10 -4\n",
      "10 -3\n",
      "10 -2\n",
      "10 -1\n",
      "10 0\n",
      "8 -5\n",
      "8 -4\n",
      "8 -3\n",
      "8 -2\n",
      "8 -1\n",
      "8 0\n",
      "6 -5\n",
      "6 -4\n",
      "6 -3\n",
      "6 -2\n",
      "6 -1\n",
      "6 0\n",
      "4 -5\n",
      "4 -4\n",
      "4 -3\n",
      "4 -2\n",
      "4 -1\n",
      "4 0\n",
      "2 -5\n",
      "2 -4\n",
      "2 -3\n",
      "2 -2\n",
      "2 -1\n",
      "2 0\n",
      "0 -5\n",
      "0 -4\n",
      "0 -3\n",
      "0 -2\n",
      "0 -1\n",
      "0 0\n"
     ]
    }
   ],
   "source": [
    "#19.\n",
    "for i in range (12, -1, -2):\n",
    "    for j in range (-5, 1):\n",
    "        print(i, j)"
   ]
  },
  {
   "cell_type": "code",
   "execution_count": 26,
   "id": "cfd109b5",
   "metadata": {},
   "outputs": [
    {
     "name": "stdout",
     "output_type": "stream",
     "text": [
      "14 4\n",
      "14 3\n",
      "13 4\n",
      "13 3\n",
      "12 4\n",
      "12 3\n",
      "11 4\n",
      "11 3\n",
      "10 4\n",
      "10 3\n"
     ]
    }
   ],
   "source": [
    "#20.\n",
    "for i in range (14, 9, -1):\n",
    "    for j in range (4, 2, -1):\n",
    "        print(i, j)"
   ]
  },
  {
   "cell_type": "code",
   "execution_count": 27,
   "id": "fa258fda",
   "metadata": {},
   "outputs": [
    {
     "name": "stdout",
     "output_type": "stream",
     "text": [
      "0\n",
      "1\n",
      "2\n",
      "3\n",
      "4\n",
      "5\n",
      "6\n",
      "7\n",
      "8\n",
      "9\n",
      "10\n"
     ]
    }
   ],
   "source": [
    "#21.\n",
    "i = 0\n",
    "while i <= 10:\n",
    "    print(i)\n",
    "    i = i + 1"
   ]
  },
  {
   "cell_type": "code",
   "execution_count": 30,
   "id": "d80c3eb4",
   "metadata": {},
   "outputs": [
    {
     "name": "stdout",
     "output_type": "stream",
     "text": [
      "-5\n",
      "-3\n",
      "-1\n",
      "1\n",
      "3\n",
      "5\n",
      "7\n",
      "9\n",
      "11\n",
      "13\n",
      "15\n"
     ]
    }
   ],
   "source": [
    "#22.\n",
    "i = -5\n",
    "while i <= 15:\n",
    "    print(i)\n",
    "    i = i + 2"
   ]
  },
  {
   "cell_type": "code",
   "execution_count": 29,
   "id": "34914b82",
   "metadata": {},
   "outputs": [
    {
     "name": "stdout",
     "output_type": "stream",
     "text": [
      "10\n",
      "9\n",
      "8\n",
      "7\n",
      "6\n",
      "5\n",
      "4\n",
      "3\n",
      "2\n",
      "1\n"
     ]
    }
   ],
   "source": [
    "#23.\n",
    "i = 10\n",
    "while i >= 1:\n",
    "    print(i)\n",
    "    i = i - 1"
   ]
  },
  {
   "cell_type": "code",
   "execution_count": 31,
   "id": "5b8f3335",
   "metadata": {},
   "outputs": [
    {
     "name": "stdout",
     "output_type": "stream",
     "text": [
      "10\n",
      "7\n",
      "4\n",
      "1\n",
      "-2\n",
      "-5\n"
     ]
    }
   ],
   "source": [
    "#24.\n",
    "i = 10\n",
    "while i >= -5:\n",
    "    print(i)\n",
    "    i = i - 3"
   ]
  },
  {
   "cell_type": "code",
   "execution_count": 32,
   "id": "22d2055b",
   "metadata": {},
   "outputs": [
    {
     "name": "stdout",
     "output_type": "stream",
     "text": [
      "10 1\n",
      "10 2\n",
      "10 3\n",
      "10 4\n",
      "10 5\n",
      "9 1\n",
      "9 2\n",
      "9 3\n",
      "9 4\n",
      "9 5\n",
      "8 1\n",
      "8 2\n",
      "8 3\n",
      "8 4\n",
      "8 5\n",
      "7 1\n",
      "7 2\n",
      "7 3\n",
      "7 4\n",
      "7 5\n",
      "6 1\n",
      "6 2\n",
      "6 3\n",
      "6 4\n",
      "6 5\n",
      "5 1\n",
      "5 2\n",
      "5 3\n",
      "5 4\n",
      "5 5\n",
      "4 1\n",
      "4 2\n",
      "4 3\n",
      "4 4\n",
      "4 5\n",
      "3 1\n",
      "3 2\n",
      "3 3\n",
      "3 4\n",
      "3 5\n",
      "2 1\n",
      "2 2\n",
      "2 3\n",
      "2 4\n",
      "2 5\n",
      "1 1\n",
      "1 2\n",
      "1 3\n",
      "1 4\n",
      "1 5\n"
     ]
    }
   ],
   "source": [
    "#25.\n",
    "i = 10\n",
    "while i >= 1:\n",
    "    j = 1\n",
    "    while j <= 5:\n",
    "        print(i, j)\n",
    "        j = j + 1\n",
    "    i = i - 1"
   ]
  }
 ],
 "metadata": {
  "kernelspec": {
   "display_name": "Python 3 (ipykernel)",
   "language": "python",
   "name": "python3"
  },
  "language_info": {
   "codemirror_mode": {
    "name": "ipython",
    "version": 3
   },
   "file_extension": ".py",
   "mimetype": "text/x-python",
   "name": "python",
   "nbconvert_exporter": "python",
   "pygments_lexer": "ipython3",
   "version": "3.9.13"
  }
 },
 "nbformat": 4,
 "nbformat_minor": 5
}
