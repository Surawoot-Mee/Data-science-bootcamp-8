{
 "cells": [
  {
   "cell_type": "markdown",
   "id": "fa6c26fb",
   "metadata": {},
   "source": [
    "# 10. For & While Loop (Code-Flowchart)"
   ]
  },
  {
   "cell_type": "code",
   "execution_count": 1,
   "id": "514cfc2d",
   "metadata": {},
   "outputs": [
    {
     "name": "stdout",
     "output_type": "stream",
     "text": [
      "0\n",
      "1\n",
      "2\n",
      "3\n",
      "4\n",
      "5\n",
      "6\n",
      "7\n",
      "8\n",
      "9\n",
      "10\n"
     ]
    }
   ],
   "source": [
    "#1.\n",
    "for i in range(11):\n",
    "    print(i)"
   ]
  },
  {
   "cell_type": "code",
   "execution_count": 35,
   "id": "27c21a16",
   "metadata": {},
   "outputs": [
    {
     "name": "stdout",
     "output_type": "stream",
     "text": [
      "0\n",
      "1\n",
      "2\n",
      "3\n",
      "4\n",
      "5\n",
      "6\n",
      "7\n",
      "8\n",
      "9\n",
      "10\n"
     ]
    }
   ],
   "source": [
    "#1. (2)\n",
    "i = 0\n",
    "while i <= 10:\n",
    "    print(i)\n",
    "    i = i + 1"
   ]
  },
  {
   "cell_type": "code",
   "execution_count": 3,
   "id": "d3d7cea0",
   "metadata": {},
   "outputs": [
    {
     "name": "stdout",
     "output_type": "stream",
     "text": [
      "1\n",
      "2\n",
      "3\n",
      "4\n",
      "5\n",
      "6\n",
      "7\n",
      "8\n",
      "9\n",
      "10\n"
     ]
    }
   ],
   "source": [
    "#2.\n",
    "for i in range (1, 11):\n",
    "    print(i)"
   ]
  },
  {
   "cell_type": "code",
   "execution_count": 36,
   "id": "c8b434ae",
   "metadata": {},
   "outputs": [
    {
     "name": "stdout",
     "output_type": "stream",
     "text": [
      "1\n",
      "2\n",
      "3\n",
      "4\n",
      "5\n",
      "6\n",
      "7\n",
      "8\n",
      "9\n",
      "10\n"
     ]
    }
   ],
   "source": [
    "#2. (2)\n",
    "i = 1\n",
    "while i <= 10:\n",
    "    print(i)\n",
    "    i = i + 1"
   ]
  },
  {
   "cell_type": "code",
   "execution_count": 9,
   "id": "b9931ee6",
   "metadata": {},
   "outputs": [
    {
     "name": "stdout",
     "output_type": "stream",
     "text": [
      "3\n",
      "4\n",
      "5\n",
      "6\n",
      "7\n",
      "8\n",
      "9\n",
      "10\n",
      "11\n",
      "12\n",
      "13\n"
     ]
    }
   ],
   "source": [
    "#3.\n",
    "for i in range (3, 14):\n",
    "    print(i)"
   ]
  },
  {
   "cell_type": "code",
   "execution_count": 37,
   "id": "c2d40a67",
   "metadata": {},
   "outputs": [
    {
     "name": "stdout",
     "output_type": "stream",
     "text": [
      "3\n",
      "4\n",
      "5\n",
      "6\n",
      "7\n",
      "8\n",
      "9\n",
      "10\n",
      "11\n",
      "12\n",
      "13\n"
     ]
    }
   ],
   "source": [
    "#3. (2)\n",
    "i = 3\n",
    "while i <= 13:\n",
    "    print(i)\n",
    "    i = i + 1"
   ]
  },
  {
   "cell_type": "code",
   "execution_count": 10,
   "id": "299e2d02",
   "metadata": {},
   "outputs": [
    {
     "name": "stdout",
     "output_type": "stream",
     "text": [
      "-3\n",
      "-2\n",
      "-1\n",
      "0\n",
      "1\n",
      "2\n",
      "3\n",
      "4\n"
     ]
    }
   ],
   "source": [
    "#4.\n",
    "for i in range (-3, 5):\n",
    "    print(i)"
   ]
  },
  {
   "cell_type": "code",
   "execution_count": 38,
   "id": "6dbf8330",
   "metadata": {},
   "outputs": [
    {
     "name": "stdout",
     "output_type": "stream",
     "text": [
      "-3\n",
      "-2\n",
      "-1\n",
      "0\n",
      "1\n",
      "2\n",
      "3\n",
      "4\n"
     ]
    }
   ],
   "source": [
    "#4. (2)\n",
    "i = -3\n",
    "while i <= 4:\n",
    "    print(i)\n",
    "    i = i + 1"
   ]
  },
  {
   "cell_type": "code",
   "execution_count": 12,
   "id": "ed710855",
   "metadata": {},
   "outputs": [
    {
     "name": "stdout",
     "output_type": "stream",
     "text": [
      "-6\n",
      "-5\n",
      "-4\n",
      "-3\n",
      "-2\n",
      "-1\n",
      "0\n"
     ]
    }
   ],
   "source": [
    "#5.\n",
    "for i in range (-6, 1):\n",
    "    print(i)"
   ]
  },
  {
   "cell_type": "code",
   "execution_count": 39,
   "id": "913fde3f",
   "metadata": {},
   "outputs": [
    {
     "name": "stdout",
     "output_type": "stream",
     "text": [
      "-6\n",
      "-5\n",
      "-4\n",
      "-3\n",
      "-2\n",
      "-1\n",
      "0\n"
     ]
    }
   ],
   "source": [
    "#5. (2)\n",
    "i = -6\n",
    "while i <= 0:\n",
    "    print(i)\n",
    "    i = i + 1"
   ]
  },
  {
   "cell_type": "code",
   "execution_count": 16,
   "id": "64765ad9",
   "metadata": {},
   "outputs": [
    {
     "name": "stdout",
     "output_type": "stream",
     "text": [
      "-14\n",
      "-13\n",
      "-12\n",
      "-11\n",
      "-10\n",
      "-9\n",
      "-8\n",
      "-7\n"
     ]
    }
   ],
   "source": [
    "#6. \n",
    "for i in range (-14, -6):\n",
    "    print(i)"
   ]
  },
  {
   "cell_type": "code",
   "execution_count": 40,
   "id": "38421412",
   "metadata": {},
   "outputs": [
    {
     "name": "stdout",
     "output_type": "stream",
     "text": [
      "-14\n",
      "-13\n",
      "-12\n",
      "-11\n",
      "-10\n",
      "-9\n",
      "-8\n",
      "-7\n"
     ]
    }
   ],
   "source": [
    "#6. (2)\n",
    "i = -14\n",
    "while i <= -7:\n",
    "    print(i)\n",
    "    i = i + 1"
   ]
  },
  {
   "cell_type": "code",
   "execution_count": 17,
   "id": "00ffecf9",
   "metadata": {},
   "outputs": [
    {
     "name": "stdout",
     "output_type": "stream",
     "text": [
      "0\n",
      "2\n",
      "4\n",
      "6\n",
      "8\n",
      "10\n",
      "12\n"
     ]
    }
   ],
   "source": [
    "#7.\n",
    "for i in range (0, 13, 2):\n",
    "    print(i)"
   ]
  },
  {
   "cell_type": "code",
   "execution_count": 42,
   "id": "0ed29d3c",
   "metadata": {},
   "outputs": [
    {
     "name": "stdout",
     "output_type": "stream",
     "text": [
      "0\n",
      "2\n",
      "4\n",
      "6\n",
      "8\n",
      "10\n",
      "12\n"
     ]
    }
   ],
   "source": [
    "#7. (2)\n",
    "i = 0\n",
    "while i <= 12:\n",
    "    print(i)\n",
    "    i = i + 2"
   ]
  },
  {
   "cell_type": "code",
   "execution_count": 14,
   "id": "67ee7282",
   "metadata": {},
   "outputs": [
    {
     "name": "stdout",
     "output_type": "stream",
     "text": [
      "0\n",
      "1\n",
      "2\n",
      "3\n",
      "4\n",
      "5\n",
      "6\n",
      "7\n",
      "8\n",
      "9\n",
      "10\n"
     ]
    }
   ],
   "source": [
    "#8.\n",
    "for i in range (0, 11, 1):\n",
    "    print(i)"
   ]
  },
  {
   "cell_type": "code",
   "execution_count": 43,
   "id": "69e69528",
   "metadata": {},
   "outputs": [
    {
     "name": "stdout",
     "output_type": "stream",
     "text": [
      "0\n",
      "1\n",
      "2\n",
      "3\n",
      "4\n",
      "5\n",
      "6\n",
      "7\n",
      "8\n",
      "9\n",
      "10\n"
     ]
    }
   ],
   "source": [
    "#8. (2)\n",
    "i = 0\n",
    "while i <= 10: \n",
    "    print(i)\n",
    "    i = i + 1"
   ]
  },
  {
   "cell_type": "code",
   "execution_count": 19,
   "id": "eb6ed114",
   "metadata": {},
   "outputs": [
    {
     "name": "stdout",
     "output_type": "stream",
     "text": [
      "6\n",
      "9\n",
      "12\n",
      "15\n"
     ]
    }
   ],
   "source": [
    "#9.\n",
    "for i in range (6, 16, 3):\n",
    "    print(i)"
   ]
  },
  {
   "cell_type": "code",
   "execution_count": 44,
   "id": "953b5320",
   "metadata": {},
   "outputs": [
    {
     "name": "stdout",
     "output_type": "stream",
     "text": [
      "6\n",
      "9\n",
      "12\n",
      "15\n"
     ]
    }
   ],
   "source": [
    "#9. (2)\n",
    "i = 6\n",
    "while i <= 15:\n",
    "    print(i)\n",
    "    i = i + 3"
   ]
  },
  {
   "cell_type": "code",
   "execution_count": 20,
   "id": "00c74c35",
   "metadata": {},
   "outputs": [
    {
     "name": "stdout",
     "output_type": "stream",
     "text": [
      "-16\n",
      "-12\n",
      "-8\n",
      "-4\n",
      "0\n",
      "4\n"
     ]
    }
   ],
   "source": [
    "#10.\n",
    "for i in range (-16, 5, 4):\n",
    "    print(i)"
   ]
  },
  {
   "cell_type": "code",
   "execution_count": 1,
   "id": "3703ac80",
   "metadata": {},
   "outputs": [
    {
     "name": "stdout",
     "output_type": "stream",
     "text": [
      "-16\n",
      "-12\n",
      "-8\n",
      "-4\n",
      "0\n",
      "4\n"
     ]
    }
   ],
   "source": [
    "#10. (2)\n",
    "i = -16\n",
    "while i <= 4:\n",
    "    print(i)\n",
    "    i = i + 4"
   ]
  },
  {
   "cell_type": "code",
   "execution_count": 21,
   "id": "fc1cb2fa",
   "metadata": {},
   "outputs": [
    {
     "name": "stdout",
     "output_type": "stream",
     "text": [
      "7\n",
      "6\n",
      "5\n",
      "4\n"
     ]
    }
   ],
   "source": [
    "#11.\n",
    "for i in range (7, 3, -1):\n",
    "    print(i)"
   ]
  },
  {
   "cell_type": "code",
   "execution_count": 2,
   "id": "9a21cb66",
   "metadata": {},
   "outputs": [
    {
     "name": "stdout",
     "output_type": "stream",
     "text": [
      "7\n",
      "6\n",
      "5\n",
      "4\n"
     ]
    }
   ],
   "source": [
    "#11. (2)\n",
    "i = 7\n",
    "while i >= 4:\n",
    "    print(i)\n",
    "    i = i -1"
   ]
  },
  {
   "cell_type": "code",
   "execution_count": 22,
   "id": "0b842e42",
   "metadata": {},
   "outputs": [
    {
     "name": "stdout",
     "output_type": "stream",
     "text": [
      "8\n",
      "7\n",
      "6\n",
      "5\n",
      "4\n",
      "3\n",
      "2\n",
      "1\n",
      "0\n"
     ]
    }
   ],
   "source": [
    "#12.\n",
    "for i in range (8, -1, -1):\n",
    "    print(i)"
   ]
  },
  {
   "cell_type": "code",
   "execution_count": 3,
   "id": "33efd009",
   "metadata": {},
   "outputs": [
    {
     "name": "stdout",
     "output_type": "stream",
     "text": [
      "8\n",
      "7\n",
      "6\n",
      "5\n",
      "4\n",
      "3\n",
      "2\n",
      "1\n",
      "0\n"
     ]
    }
   ],
   "source": [
    "#12. (2)\n",
    "i = 8\n",
    "while i >= 0:\n",
    "    print(i)\n",
    "    i = i - 1"
   ]
  },
  {
   "cell_type": "code",
   "execution_count": 23,
   "id": "a9fe44f6",
   "metadata": {},
   "outputs": [
    {
     "name": "stdout",
     "output_type": "stream",
     "text": [
      "8\n",
      "7\n",
      "6\n",
      "5\n",
      "4\n",
      "3\n",
      "2\n",
      "1\n",
      "0\n",
      "-1\n"
     ]
    }
   ],
   "source": [
    "#13.\n",
    "for i in range (8, -2, -1):\n",
    "    print(i)"
   ]
  },
  {
   "cell_type": "code",
   "execution_count": 4,
   "id": "90bf507e",
   "metadata": {},
   "outputs": [
    {
     "name": "stdout",
     "output_type": "stream",
     "text": [
      "8\n",
      "7\n",
      "6\n",
      "5\n",
      "4\n",
      "3\n",
      "2\n",
      "1\n",
      "0\n",
      "-1\n"
     ]
    }
   ],
   "source": [
    "#13. (2)\n",
    "i = 8\n",
    "while i >= -1:\n",
    "    print(i)\n",
    "    i = i - 1"
   ]
  },
  {
   "cell_type": "code",
   "execution_count": 24,
   "id": "af9746d2",
   "metadata": {},
   "outputs": [
    {
     "name": "stdout",
     "output_type": "stream",
     "text": [
      "-2\n",
      "-3\n",
      "-4\n",
      "-5\n",
      "-6\n",
      "-7\n",
      "-8\n"
     ]
    }
   ],
   "source": [
    "#14.\n",
    "for i in range (-2, -9, -1):\n",
    "    print(i)"
   ]
  },
  {
   "cell_type": "code",
   "execution_count": 5,
   "id": "6a8ca6aa",
   "metadata": {},
   "outputs": [
    {
     "name": "stdout",
     "output_type": "stream",
     "text": [
      "-2\n",
      "-3\n",
      "-4\n",
      "-5\n",
      "-6\n",
      "-7\n",
      "-8\n"
     ]
    }
   ],
   "source": [
    "#14. (2)\n",
    "i = -2\n",
    "while i >= -8:\n",
    "    print(i)\n",
    "    i = i - 1"
   ]
  },
  {
   "cell_type": "code",
   "execution_count": 25,
   "id": "96c9f2b8",
   "metadata": {},
   "outputs": [
    {
     "name": "stdout",
     "output_type": "stream",
     "text": [
      "12\n",
      "9\n",
      "6\n",
      "3\n",
      "0\n",
      "-3\n"
     ]
    }
   ],
   "source": [
    "#15.\n",
    "for i  in range (12, -4, -3):\n",
    "    print(i)"
   ]
  },
  {
   "cell_type": "code",
   "execution_count": 6,
   "id": "b1547e32",
   "metadata": {},
   "outputs": [
    {
     "name": "stdout",
     "output_type": "stream",
     "text": [
      "12\n",
      "9\n",
      "6\n",
      "3\n",
      "0\n",
      "-3\n"
     ]
    }
   ],
   "source": [
    "#15. (2)\n",
    "i = 12\n",
    "while i >= -3:\n",
    "    print(i)\n",
    "    i = i - 3"
   ]
  },
  {
   "cell_type": "code",
   "execution_count": 26,
   "id": "76b4a285",
   "metadata": {},
   "outputs": [
    {
     "name": "stdout",
     "output_type": "stream",
     "text": [
      "20\n",
      "15\n",
      "10\n",
      "5\n",
      "0\n"
     ]
    }
   ],
   "source": [
    "#16.\n",
    "for i in range (20, -4, -5):\n",
    "    print(i)"
   ]
  },
  {
   "cell_type": "code",
   "execution_count": 7,
   "id": "33099950",
   "metadata": {},
   "outputs": [
    {
     "name": "stdout",
     "output_type": "stream",
     "text": [
      "20\n",
      "15\n",
      "10\n",
      "5\n",
      "0\n"
     ]
    }
   ],
   "source": [
    "#16. (2)\n",
    "i = 20\n",
    "while i >= -3:\n",
    "    print(i)\n",
    "    i = i - 5"
   ]
  },
  {
   "cell_type": "code",
   "execution_count": 29,
   "id": "278a3cbd",
   "metadata": {},
   "outputs": [
    {
     "name": "stdout",
     "output_type": "stream",
     "text": [
      "-5 2\n",
      "-5 5\n",
      "-5 8\n",
      "-5 11\n",
      "-3 2\n",
      "-3 5\n",
      "-3 8\n",
      "-3 11\n",
      "-1 2\n",
      "-1 5\n",
      "-1 8\n",
      "-1 11\n",
      "1 2\n",
      "1 5\n",
      "1 8\n",
      "1 11\n",
      "3 2\n",
      "3 5\n",
      "3 8\n",
      "3 11\n"
     ]
    }
   ],
   "source": [
    "#17.\n",
    "for i in range (-5, 5, 2):\n",
    "    for j in range (2, 12, 3):\n",
    "        print(i, j)"
   ]
  },
  {
   "cell_type": "code",
   "execution_count": 8,
   "id": "f4d0bb4a",
   "metadata": {},
   "outputs": [
    {
     "name": "stdout",
     "output_type": "stream",
     "text": [
      "-5 2\n",
      "-5 5\n",
      "-5 8\n",
      "-5 11\n",
      "-3 2\n",
      "-3 5\n",
      "-3 8\n",
      "-3 11\n",
      "-1 2\n",
      "-1 5\n",
      "-1 8\n",
      "-1 11\n",
      "1 2\n",
      "1 5\n",
      "1 8\n",
      "1 11\n",
      "3 2\n",
      "3 5\n",
      "3 8\n",
      "3 11\n"
     ]
    }
   ],
   "source": [
    "#17. (2)\n",
    "i = -5\n",
    "while i <=4:\n",
    "    j = 2\n",
    "    while j <= 11:\n",
    "        print(i, j)\n",
    "        j = j + 3\n",
    "    i = i + 2"
   ]
  },
  {
   "cell_type": "code",
   "execution_count": 30,
   "id": "6f748b56",
   "metadata": {},
   "outputs": [
    {
     "name": "stdout",
     "output_type": "stream",
     "text": [
      "0 4\n",
      "0 3\n",
      "0 2\n",
      "0 1\n",
      "0 0\n",
      "0 -1\n",
      "0 -2\n",
      "0 -3\n",
      "0 -4\n",
      "0 -5\n",
      "0 -6\n",
      "1 4\n",
      "1 3\n",
      "1 2\n",
      "1 1\n",
      "1 0\n",
      "1 -1\n",
      "1 -2\n",
      "1 -3\n",
      "1 -4\n",
      "1 -5\n",
      "1 -6\n",
      "2 4\n",
      "2 3\n",
      "2 2\n",
      "2 1\n",
      "2 0\n",
      "2 -1\n",
      "2 -2\n",
      "2 -3\n",
      "2 -4\n",
      "2 -5\n",
      "2 -6\n",
      "3 4\n",
      "3 3\n",
      "3 2\n",
      "3 1\n",
      "3 0\n",
      "3 -1\n",
      "3 -2\n",
      "3 -3\n",
      "3 -4\n",
      "3 -5\n",
      "3 -6\n",
      "4 4\n",
      "4 3\n",
      "4 2\n",
      "4 1\n",
      "4 0\n",
      "4 -1\n",
      "4 -2\n",
      "4 -3\n",
      "4 -4\n",
      "4 -5\n",
      "4 -6\n",
      "5 4\n",
      "5 3\n",
      "5 2\n",
      "5 1\n",
      "5 0\n",
      "5 -1\n",
      "5 -2\n",
      "5 -3\n",
      "5 -4\n",
      "5 -5\n",
      "5 -6\n"
     ]
    }
   ],
   "source": [
    "#18.\n",
    "for i in range (0, 6, 1):\n",
    "    for j in range (4, -7, -1):\n",
    "        print(i, j)"
   ]
  },
  {
   "cell_type": "code",
   "execution_count": 11,
   "id": "522b0bf8",
   "metadata": {},
   "outputs": [
    {
     "name": "stdout",
     "output_type": "stream",
     "text": [
      "0 4\n",
      "0 3\n",
      "0 2\n",
      "0 1\n",
      "0 0\n",
      "0 -1\n",
      "0 -2\n",
      "0 -3\n",
      "0 -4\n",
      "0 -5\n",
      "0 -6\n",
      "1 4\n",
      "1 3\n",
      "1 2\n",
      "1 1\n",
      "1 0\n",
      "1 -1\n",
      "1 -2\n",
      "1 -3\n",
      "1 -4\n",
      "1 -5\n",
      "1 -6\n",
      "2 4\n",
      "2 3\n",
      "2 2\n",
      "2 1\n",
      "2 0\n",
      "2 -1\n",
      "2 -2\n",
      "2 -3\n",
      "2 -4\n",
      "2 -5\n",
      "2 -6\n",
      "3 4\n",
      "3 3\n",
      "3 2\n",
      "3 1\n",
      "3 0\n",
      "3 -1\n",
      "3 -2\n",
      "3 -3\n",
      "3 -4\n",
      "3 -5\n",
      "3 -6\n",
      "4 4\n",
      "4 3\n",
      "4 2\n",
      "4 1\n",
      "4 0\n",
      "4 -1\n",
      "4 -2\n",
      "4 -3\n",
      "4 -4\n",
      "4 -5\n",
      "4 -6\n",
      "5 4\n",
      "5 3\n",
      "5 2\n",
      "5 1\n",
      "5 0\n",
      "5 -1\n",
      "5 -2\n",
      "5 -3\n",
      "5 -4\n",
      "5 -5\n",
      "5 -6\n"
     ]
    }
   ],
   "source": [
    "#18. (2)\n",
    "i = 0\n",
    "while i <= 5:\n",
    "    j = 4\n",
    "    while j >= -6:\n",
    "        print(i, j)\n",
    "        j = j - 1\n",
    "    i = i + 1"
   ]
  },
  {
   "cell_type": "code",
   "execution_count": 31,
   "id": "304845b7",
   "metadata": {},
   "outputs": [
    {
     "name": "stdout",
     "output_type": "stream",
     "text": [
      "11 -7\n",
      "11 -6\n",
      "11 -5\n",
      "11 -4\n",
      "11 -3\n",
      "11 -2\n",
      "11 -1\n",
      "11 0\n",
      "9 -7\n",
      "9 -6\n",
      "9 -5\n",
      "9 -4\n",
      "9 -3\n",
      "9 -2\n",
      "9 -1\n",
      "9 0\n",
      "7 -7\n",
      "7 -6\n",
      "7 -5\n",
      "7 -4\n",
      "7 -3\n",
      "7 -2\n",
      "7 -1\n",
      "7 0\n",
      "5 -7\n",
      "5 -6\n",
      "5 -5\n",
      "5 -4\n",
      "5 -3\n",
      "5 -2\n",
      "5 -1\n",
      "5 0\n",
      "3 -7\n",
      "3 -6\n",
      "3 -5\n",
      "3 -4\n",
      "3 -3\n",
      "3 -2\n",
      "3 -1\n",
      "3 0\n",
      "1 -7\n",
      "1 -6\n",
      "1 -5\n",
      "1 -4\n",
      "1 -3\n",
      "1 -2\n",
      "1 -1\n",
      "1 0\n"
     ]
    }
   ],
   "source": [
    "#19.\n",
    "for i in range (11, -1, -2):\n",
    "    for j in range (-7, 1, 1):\n",
    "        print(i, j)"
   ]
  },
  {
   "cell_type": "code",
   "execution_count": 12,
   "id": "7ec282d5",
   "metadata": {},
   "outputs": [
    {
     "name": "stdout",
     "output_type": "stream",
     "text": [
      "11 -7\n",
      "11 -6\n",
      "11 -5\n",
      "11 -4\n",
      "11 -3\n",
      "11 -2\n",
      "11 -1\n",
      "11 0\n",
      "9 -7\n",
      "9 -6\n",
      "9 -5\n",
      "9 -4\n",
      "9 -3\n",
      "9 -2\n",
      "9 -1\n",
      "9 0\n",
      "7 -7\n",
      "7 -6\n",
      "7 -5\n",
      "7 -4\n",
      "7 -3\n",
      "7 -2\n",
      "7 -1\n",
      "7 0\n",
      "5 -7\n",
      "5 -6\n",
      "5 -5\n",
      "5 -4\n",
      "5 -3\n",
      "5 -2\n",
      "5 -1\n",
      "5 0\n",
      "3 -7\n",
      "3 -6\n",
      "3 -5\n",
      "3 -4\n",
      "3 -3\n",
      "3 -2\n",
      "3 -1\n",
      "3 0\n",
      "1 -7\n",
      "1 -6\n",
      "1 -5\n",
      "1 -4\n",
      "1 -3\n",
      "1 -2\n",
      "1 -1\n",
      "1 0\n"
     ]
    }
   ],
   "source": [
    "#19. (2)\n",
    "i = 11\n",
    "while i >= 0:\n",
    "    j = -7\n",
    "    while j <= 0:\n",
    "        print(i, j)\n",
    "        j = j + 1\n",
    "    i = i -2"
   ]
  },
  {
   "cell_type": "code",
   "execution_count": 34,
   "id": "72d68ae5",
   "metadata": {},
   "outputs": [
    {
     "name": "stdout",
     "output_type": "stream",
     "text": [
      "14 5\n",
      "14 4\n",
      "14 3\n",
      "14 2\n",
      "14 1\n",
      "14 0\n",
      "14 -1\n",
      "14 -2\n",
      "14 -3\n",
      "13 5\n",
      "13 4\n",
      "13 3\n",
      "13 2\n",
      "13 1\n",
      "13 0\n",
      "13 -1\n",
      "13 -2\n",
      "13 -3\n",
      "12 5\n",
      "12 4\n",
      "12 3\n",
      "12 2\n",
      "12 1\n",
      "12 0\n",
      "12 -1\n",
      "12 -2\n",
      "12 -3\n",
      "11 5\n",
      "11 4\n",
      "11 3\n",
      "11 2\n",
      "11 1\n",
      "11 0\n",
      "11 -1\n",
      "11 -2\n",
      "11 -3\n",
      "10 5\n",
      "10 4\n",
      "10 3\n",
      "10 2\n",
      "10 1\n",
      "10 0\n",
      "10 -1\n",
      "10 -2\n",
      "10 -3\n",
      "9 5\n",
      "9 4\n",
      "9 3\n",
      "9 2\n",
      "9 1\n",
      "9 0\n",
      "9 -1\n",
      "9 -2\n",
      "9 -3\n",
      "8 5\n",
      "8 4\n",
      "8 3\n",
      "8 2\n",
      "8 1\n",
      "8 0\n",
      "8 -1\n",
      "8 -2\n",
      "8 -3\n"
     ]
    }
   ],
   "source": [
    "#20.\n",
    "for i in range (14, 7, -1):\n",
    "    for j in range (5, -4, -1):\n",
    "        print(i, j)"
   ]
  },
  {
   "cell_type": "code",
   "execution_count": 13,
   "id": "42a423ae",
   "metadata": {},
   "outputs": [
    {
     "name": "stdout",
     "output_type": "stream",
     "text": [
      "14 5\n",
      "14 4\n",
      "14 3\n",
      "14 2\n",
      "14 1\n",
      "14 0\n",
      "14 -1\n",
      "14 -2\n",
      "14 -3\n",
      "13 5\n",
      "13 4\n",
      "13 3\n",
      "13 2\n",
      "13 1\n",
      "13 0\n",
      "13 -1\n",
      "13 -2\n",
      "13 -3\n",
      "12 5\n",
      "12 4\n",
      "12 3\n",
      "12 2\n",
      "12 1\n",
      "12 0\n",
      "12 -1\n",
      "12 -2\n",
      "12 -3\n",
      "11 5\n",
      "11 4\n",
      "11 3\n",
      "11 2\n",
      "11 1\n",
      "11 0\n",
      "11 -1\n",
      "11 -2\n",
      "11 -3\n",
      "10 5\n",
      "10 4\n",
      "10 3\n",
      "10 2\n",
      "10 1\n",
      "10 0\n",
      "10 -1\n",
      "10 -2\n",
      "10 -3\n",
      "9 5\n",
      "9 4\n",
      "9 3\n",
      "9 2\n",
      "9 1\n",
      "9 0\n",
      "9 -1\n",
      "9 -2\n",
      "9 -3\n",
      "8 5\n",
      "8 4\n",
      "8 3\n",
      "8 2\n",
      "8 1\n",
      "8 0\n",
      "8 -1\n",
      "8 -2\n",
      "8 -3\n"
     ]
    }
   ],
   "source": [
    "#20. (2)\n",
    "i = 14\n",
    "while i >= 8:\n",
    "    j = 5\n",
    "    while j >= -3:\n",
    "        print(i, j)\n",
    "        j = j - 1\n",
    "    i = i - 1"
   ]
  }
 ],
 "metadata": {
  "kernelspec": {
   "display_name": "Python 3 (ipykernel)",
   "language": "python",
   "name": "python3"
  },
  "language_info": {
   "codemirror_mode": {
    "name": "ipython",
    "version": 3
   },
   "file_extension": ".py",
   "mimetype": "text/x-python",
   "name": "python",
   "nbconvert_exporter": "python",
   "pygments_lexer": "ipython3",
   "version": "3.9.13"
  }
 },
 "nbformat": 4,
 "nbformat_minor": 5
}
