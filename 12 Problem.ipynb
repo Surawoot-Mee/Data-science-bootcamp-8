{
 "cells": [
  {
   "cell_type": "markdown",
   "id": "dd4a1700",
   "metadata": {},
   "source": [
    "# 12. Problem"
   ]
  },
  {
   "cell_type": "code",
   "execution_count": 3,
   "id": "b14541c6",
   "metadata": {},
   "outputs": [
    {
     "name": "stdout",
     "output_type": "stream",
     "text": [
      "3\n",
      "6\n",
      "9\n",
      "12\n",
      "15\n",
      "18\n",
      "21\n",
      "24\n",
      "27\n",
      "30\n",
      "33\n",
      "36\n",
      "39\n",
      "42\n",
      "45\n",
      "48\n",
      "51\n",
      "54\n",
      "57\n",
      "60\n",
      "63\n",
      "66\n",
      "69\n",
      "72\n",
      "75\n",
      "78\n",
      "81\n",
      "84\n",
      "87\n",
      "90\n",
      "93\n",
      "96\n",
      "99\n"
     ]
    }
   ],
   "source": [
    "#1. ระหว่าง 0 ถึง 100 ไม่เอา 0 และ 100 (0, 100) != [0, 100]\n",
    "for i in range (1, 100, 1):\n",
    "    if i%3 == 0:\n",
    "        print(i)"
   ]
  },
  {
   "cell_type": "code",
   "execution_count": 4,
   "id": "e684bb5c",
   "metadata": {},
   "outputs": [
    {
     "name": "stdout",
     "output_type": "stream",
     "text": [
      "15\n",
      "30\n",
      "45\n",
      "60\n",
      "75\n",
      "90\n"
     ]
    }
   ],
   "source": [
    "#2.\n",
    "for i  in range (1, 100, 1):\n",
    "    if i%3 == 0 and i%5 == 0:\n",
    "        print(i)"
   ]
  },
  {
   "cell_type": "code",
   "execution_count": 5,
   "id": "198e02a2",
   "metadata": {},
   "outputs": [
    {
     "name": "stdout",
     "output_type": "stream",
     "text": [
      "3\n",
      "5\n",
      "6\n",
      "9\n",
      "10\n",
      "12\n",
      "15\n",
      "18\n",
      "20\n",
      "21\n",
      "24\n",
      "25\n",
      "27\n",
      "30\n",
      "33\n",
      "35\n",
      "36\n",
      "39\n",
      "40\n",
      "42\n",
      "45\n",
      "48\n",
      "50\n",
      "51\n",
      "54\n",
      "55\n",
      "57\n",
      "60\n",
      "63\n",
      "65\n",
      "66\n",
      "69\n",
      "70\n",
      "72\n",
      "75\n",
      "78\n",
      "80\n",
      "81\n",
      "84\n",
      "85\n",
      "87\n",
      "90\n",
      "93\n",
      "95\n",
      "96\n",
      "99\n"
     ]
    }
   ],
   "source": [
    "#3.\n",
    "for i in range (1, 100, 1):\n",
    "    if i%3 == 0 or i%5 == 0:\n",
    "        print(i)"
   ]
  },
  {
   "cell_type": "code",
   "execution_count": 6,
   "id": "f8b5fbcd",
   "metadata": {},
   "outputs": [
    {
     "name": "stdout",
     "output_type": "stream",
     "text": [
      "105\n",
      "210\n",
      "315\n",
      "420\n",
      "525\n",
      "630\n",
      "735\n",
      "840\n",
      "945\n"
     ]
    }
   ],
   "source": [
    "#4.\n",
    "for i in range (1, 1000, 1):\n",
    "    if i%3 == 0 and i%5 == 0 and i%7 == 0:\n",
    "        print(i)"
   ]
  },
  {
   "cell_type": "code",
   "execution_count": 7,
   "id": "0f12bbb7",
   "metadata": {},
   "outputs": [
    {
     "name": "stdout",
     "output_type": "stream",
     "text": [
      "3\n",
      "5\n",
      "6\n",
      "7\n",
      "9\n",
      "10\n",
      "12\n",
      "14\n",
      "15\n",
      "18\n",
      "20\n",
      "21\n",
      "24\n",
      "25\n",
      "27\n",
      "28\n",
      "30\n",
      "33\n",
      "35\n",
      "36\n",
      "39\n",
      "40\n",
      "42\n",
      "45\n",
      "48\n",
      "49\n",
      "50\n",
      "51\n",
      "54\n",
      "55\n",
      "56\n",
      "57\n",
      "60\n",
      "63\n",
      "65\n",
      "66\n",
      "69\n",
      "70\n",
      "72\n",
      "75\n",
      "77\n",
      "78\n",
      "80\n",
      "81\n",
      "84\n",
      "85\n",
      "87\n",
      "90\n",
      "91\n",
      "93\n",
      "95\n",
      "96\n",
      "98\n",
      "99\n"
     ]
    }
   ],
   "source": [
    "#5.\n",
    "for i in range (1, 100, 1):\n",
    "    if i%3 == 0 or i%5 == 0 or i%7 == 0:\n",
    "        print(i)"
   ]
  },
  {
   "cell_type": "code",
   "execution_count": 10,
   "id": "74fff4c1",
   "metadata": {},
   "outputs": [
    {
     "name": "stdout",
     "output_type": "stream",
     "text": [
      "3\n",
      "5\n",
      "6\n",
      "9\n",
      "10\n",
      "12\n",
      "18\n",
      "20\n",
      "21\n",
      "24\n",
      "25\n",
      "27\n",
      "33\n",
      "35\n",
      "36\n",
      "39\n",
      "40\n",
      "42\n",
      "48\n",
      "50\n",
      "51\n",
      "54\n",
      "55\n",
      "57\n",
      "63\n",
      "65\n",
      "66\n",
      "69\n",
      "70\n",
      "72\n",
      "78\n",
      "80\n",
      "81\n",
      "84\n",
      "85\n",
      "87\n",
      "93\n",
      "95\n",
      "96\n",
      "99\n"
     ]
    }
   ],
   "source": [
    "#6.\n",
    "for i in range (1, 100, 1):\n",
    "    if i%3 == 0 or i%5 == 0:\n",
    "        if i%15 != 0:\n",
    "            print(i)"
   ]
  },
  {
   "cell_type": "code",
   "execution_count": 12,
   "id": "cc6ee515",
   "metadata": {},
   "outputs": [
    {
     "name": "stdout",
     "output_type": "stream",
     "text": [
      "15\n",
      "45\n",
      "75\n"
     ]
    }
   ],
   "source": [
    "#7.\n",
    "for i in range (1, 100, 1):\n",
    "    if i%3 == 0 and i%5 == 0:\n",
    "        if i%2 != 0:\n",
    "            print(i)"
   ]
  },
  {
   "cell_type": "code",
   "execution_count": 13,
   "id": "e094ebcc",
   "metadata": {},
   "outputs": [
    {
     "name": "stdout",
     "output_type": "stream",
     "text": [
      "3\n",
      "5\n",
      "9\n",
      "15\n",
      "21\n",
      "25\n",
      "27\n",
      "33\n",
      "35\n",
      "39\n",
      "45\n",
      "51\n",
      "55\n",
      "57\n",
      "63\n",
      "65\n",
      "69\n",
      "75\n",
      "81\n",
      "85\n",
      "87\n",
      "93\n",
      "95\n",
      "99\n"
     ]
    }
   ],
   "source": [
    "#8.\n",
    "for i in range (1, 100, 1):\n",
    "    if i%3 == 0 or i%5 == 0:\n",
    "        if i%2 != 0:\n",
    "            print(i)"
   ]
  },
  {
   "cell_type": "code",
   "execution_count": 117,
   "id": "9da3017d",
   "metadata": {},
   "outputs": [
    {
     "name": "stdout",
     "output_type": "stream",
     "text": [
      "333\n"
     ]
    }
   ],
   "source": [
    "#9.\n",
    "count = 0\n",
    "for i in range (1, 1000, 1):\n",
    "    if i%3 == 0:\n",
    "        count = count + 1\n",
    "print(count)"
   ]
  },
  {
   "cell_type": "code",
   "execution_count": 26,
   "id": "4a27b962",
   "metadata": {},
   "outputs": [
    {
     "name": "stdout",
     "output_type": "stream",
     "text": [
      "166833\n"
     ]
    }
   ],
   "source": [
    "#10.\n",
    "result = 0\n",
    "for i in range (1, 1000, 1):\n",
    "    if i%3 == 0:\n",
    "        result += i\n",
    "print(result)"
   ]
  },
  {
   "cell_type": "code",
   "execution_count": 120,
   "id": "6f8d5927",
   "metadata": {},
   "outputs": [
    {
     "name": "stdout",
     "output_type": "stream",
     "text": [
      "number_1: 1\n",
      "number_2: 3\n",
      "number_3: 5\n",
      "number_4: 7\n",
      "number_5: 9\n",
      "25\n"
     ]
    }
   ],
   "source": [
    "#11.\n",
    "result = 0\n",
    "for i in range (0, 5, 1):\n",
    "    num = int(input('number_'+str(i+1)+': '))\n",
    "    result += num\n",
    "print(result)"
   ]
  },
  {
   "cell_type": "code",
   "execution_count": 40,
   "id": "ca3ec861",
   "metadata": {},
   "outputs": [
    {
     "name": "stdout",
     "output_type": "stream",
     "text": [
      "number: 75\n",
      "number: -9\n",
      "number: -1\n",
      "number: 5\n",
      "number: 10\n",
      "ผลรวมของจำนวนที่เป็นบวก 90.0\n",
      "ผลรวมของจำนวนที่เป็นลบ -10.0\n"
     ]
    }
   ],
   "source": [
    "#12.\n",
    "result_positive = 0\n",
    "result_negative = 0\n",
    "\n",
    "for i in range (1, 6, 1):\n",
    "    num = float(input('number: '))\n",
    "    if num > 0:\n",
    "        result_positive += num\n",
    "    elif num < 0: \n",
    "        result_negative += num\n",
    "        \n",
    "print('ผลรวมของจำนวนที่เป็นบวก', result_positive)\n",
    "print('ผลรวมของจำนวนที่เป็นลบ', result_negative)"
   ]
  },
  {
   "cell_type": "code",
   "execution_count": 42,
   "id": "5914dac6",
   "metadata": {},
   "outputs": [
    {
     "name": "stdout",
     "output_type": "stream",
     "text": [
      "number: 7\n",
      "number: 8\n",
      "number: -9\n",
      "number: -5\n",
      "number: -1\n",
      "ผลคูณของจำนวนที่เป็นบวก 56.0\n",
      "ผลคูณของจำนวนที่เป็นลบ -45.0\n"
     ]
    }
   ],
   "source": [
    "#13.\n",
    "result_positive = 1\n",
    "result_negative = 1\n",
    "\n",
    "for i in range (1, 6, 1):\n",
    "    num = float(input('number: '))\n",
    "    if num > 0:\n",
    "        result_positive *= num\n",
    "    elif num <0:\n",
    "        result_negative *= num\n",
    "\n",
    "print('ผลคูณของจำนวนที่เป็นบวก', result_positive)\n",
    "print('ผลคูณของจำนวนที่เป็นลบ', result_negative)"
   ]
  },
  {
   "cell_type": "code",
   "execution_count": 121,
   "id": "748a99f3",
   "metadata": {},
   "outputs": [
    {
     "name": "stdout",
     "output_type": "stream",
     "text": [
      "number: 135\n",
      "1\n",
      "3\n",
      "5\n",
      "9\n",
      "15\n",
      "27\n",
      "45\n",
      "135\n"
     ]
    }
   ],
   "source": [
    "#14.\n",
    "num = int(input('number: '))\n",
    "\n",
    "for i in range (1, num+1, 1):\n",
    "    if num%i == 0:\n",
    "        print(i)"
   ]
  },
  {
   "cell_type": "code",
   "execution_count": 47,
   "id": "fbdbc83d",
   "metadata": {},
   "outputs": [
    {
     "name": "stdout",
     "output_type": "stream",
     "text": [
      "number: 15\n",
      "1\n",
      "3\n",
      "5\n",
      "15\n",
      "จำนวนเต็มบวกที่หาร 15 มีจำนวนลงตัว 4 ตัว\n"
     ]
    }
   ],
   "source": [
    "#15.\n",
    "list1 = []\n",
    "num = int(input('number: '))\n",
    "\n",
    "for i in range (1, num+1, 1):\n",
    "    if num%i == 0:\n",
    "        list1.append(i)\n",
    "        print(i)\n",
    "\n",
    "print(\"จำนวนเต็มบวกที่หาร\", num, 'มีจำนวนลงตัว', len(list1), 'ตัว')\n"
   ]
  },
  {
   "cell_type": "code",
   "execution_count": 122,
   "id": "d09c36b1",
   "metadata": {},
   "outputs": [
    {
     "name": "stdout",
     "output_type": "stream",
     "text": [
      "number: 135\n",
      "135 is not prime number\n",
      "[1, 3, 5, 9, 15, 27, 45, 135]\n"
     ]
    }
   ],
   "source": [
    "#16.\n",
    "num = int(input('number: '))\n",
    "list1 = []\n",
    "\n",
    "for i in range (1, num+1, 1):\n",
    "    if num%i == 0:\n",
    "        list1.append(i)\n",
    "\n",
    "if len(list1) == 2:\n",
    "    print(num, 'is prime number')\n",
    "else:\n",
    "    print(num, 'is not prime number')\n",
    "print(list1)"
   ]
  },
  {
   "cell_type": "code",
   "execution_count": 118,
   "id": "54bfc2de",
   "metadata": {},
   "outputs": [
    {
     "name": "stdout",
     "output_type": "stream",
     "text": [
      "2\n",
      "3\n",
      "5\n",
      "7\n",
      "11\n",
      "13\n",
      "17\n",
      "19\n",
      "23\n",
      "29\n",
      "31\n",
      "37\n",
      "41\n",
      "43\n",
      "47\n",
      "53\n",
      "59\n",
      "61\n",
      "67\n",
      "71\n",
      "73\n",
      "79\n",
      "83\n",
      "89\n",
      "97\n"
     ]
    }
   ],
   "source": [
    "#17.*\n",
    "for i in range (1, 100, 1):\n",
    "    list1 = []\n",
    "    for j in range (1, i+1, 1):\n",
    "        if i%j == 0:\n",
    "            list1.append(j)\n",
    "    if len(list1) == 2:\n",
    "        print(i)"
   ]
  },
  {
   "cell_type": "code",
   "execution_count": 132,
   "id": "25b08a00",
   "metadata": {},
   "outputs": [
    {
     "name": "stdout",
     "output_type": "stream",
     "text": [
      "2\n",
      "3\n",
      "5\n",
      "7\n",
      "11\n",
      "13\n",
      "17\n",
      "19\n",
      "23\n",
      "29\n",
      "31\n",
      "37\n",
      "41\n",
      "43\n",
      "47\n",
      "53\n",
      "59\n",
      "61\n",
      "67\n",
      "71\n",
      "73\n",
      "79\n",
      "83\n",
      "89\n",
      "97\n",
      "[2, 3, 5, 7, 11, 13, 17, 19, 23, 29, 31, 37, 41, 43, 47, 53, 59, 61, 67, 71, 73, 79, 83, 89, 97]\n",
      "25\n"
     ]
    }
   ],
   "source": [
    "#17.\n",
    "list2 = []\n",
    "\n",
    "for i in range (1, 100, 1):\n",
    "    list1 = []\n",
    "    for j in range (1, i+1, 1):\n",
    "        if i%j == 0:\n",
    "            list1.append(j)\n",
    "    if len(list1) == 2:\n",
    "        print(i)\n",
    "        list2.append(i)\n",
    "print(list2)\n",
    "print(len(list2))"
   ]
  },
  {
   "cell_type": "code",
   "execution_count": 131,
   "id": "33b0c948",
   "metadata": {},
   "outputs": [
    {
     "name": "stdout",
     "output_type": "stream",
     "text": [
      "[2, 3, 5, 7, 11, 13, 17, 19, 23, 29, 31, 37, 41, 43, 47, 53, 59, 61, 67, 71, 73, 79, 83, 89, 97, 101, 103, 107, 109, 113, 127, 131, 137, 139, 149, 151, 157, 163, 167, 173, 179, 181, 191, 193, 197, 199, 211, 223, 227, 229, 233, 239, 241, 251, 257, 263, 269, 271, 277, 281, 283, 293, 307, 311, 313, 317, 331, 337, 347, 349, 353, 359, 367, 373, 379, 383, 389, 397, 401, 409, 419, 421, 431, 433, 439, 443, 449, 457, 461, 463, 467, 479, 487, 491, 499, 503, 509, 521, 523, 541]\n",
      "100\n"
     ]
    }
   ],
   "source": [
    "#18.\n",
    "list2 = []\n",
    "i = 1\n",
    "while len(list2) <= 99:\n",
    "    list1 = []\n",
    "    for j in range (1, i+1, 1):\n",
    "        if i%j == 0:\n",
    "            list1.append(j)\n",
    "    if len(list1) == 2:\n",
    "        list2.append(i)\n",
    "    i = i + 1\n",
    "print(list2)\n",
    "print(len(list2))"
   ]
  },
  {
   "cell_type": "code",
   "execution_count": 134,
   "id": "32d2452a",
   "metadata": {},
   "outputs": [
    {
     "name": "stdout",
     "output_type": "stream",
     "text": [
      "[2, 3, 5, 7, 11, 13, 17, 19, 23, 29, 31, 37, 41, 43, 47, 53, 59, 61, 67, 71, 73, 79, 83, 89, 97, 101, 103, 107, 109, 113, 127, 131, 137, 139, 149, 151, 157, 163, 167, 173, 179, 181, 191, 193, 197, 199, 211, 223, 227, 229, 233, 239, 241, 251, 257, 263, 269, 271, 277, 281, 283, 293, 307, 311, 313, 317, 331, 337, 347, 349, 353, 359, 367, 373, 379, 383, 389, 397, 401, 409, 419, 421, 431, 433, 439, 443, 449, 457, 461, 463, 467, 479, 487, 491, 499, 503, 509, 521, 523, 541]\n",
      "24133\n"
     ]
    }
   ],
   "source": [
    "#19.* \n",
    "list2 = []\n",
    "i = 1\n",
    "while len(list2) <= 99:\n",
    "    list1 = []\n",
    "    for j in range (1, i+1, 1):\n",
    "        if i%j == 0:\n",
    "            list1.append(j)\n",
    "    if len(list1) == 2:\n",
    "        list2.append(i)\n",
    "    i = i + 1\n",
    "print(list2)\n",
    "print(sum(list2))"
   ]
  },
  {
   "cell_type": "code",
   "execution_count": 135,
   "id": "12f2b8b9",
   "metadata": {},
   "outputs": [
    {
     "name": "stdout",
     "output_type": "stream",
     "text": [
      "number: 241958718122610006121856\n",
      "[2, 2, 2, 2, 2, 2, 2, 2, 2, 2, 2, 2, 2, 2, 2, 2, 2, 2, 2, 2, 2, 2, 2, 2, 2, 2, 2, 2, 2, 2, 2, 5, 7, 761, 1759, 2404877]\n",
      "241958718122610015600640\n"
     ]
    }
   ],
   "source": [
    "#19.* extra1 แยกตัวประกอบที่เป็นจำนวนเฉพาะ\n",
    "n = int(input(\"number: \"))\n",
    "list1 = []\n",
    "\n",
    "i = 2\n",
    "while n >= i :\n",
    "    while n%i == 0:\n",
    "        n = n/i\n",
    "        list1.append(i)\n",
    "    i = i + 1\n",
    "print(list1)\n",
    "\n",
    "result = 1\n",
    "for j in range (0, len(list1), 1):\n",
    "    result *= list1[j]\n",
    "\n",
    "print(result)"
   ]
  },
  {
   "cell_type": "code",
   "execution_count": 136,
   "id": "f65051a6",
   "metadata": {},
   "outputs": [
    {
     "name": "stdout",
     "output_type": "stream",
     "text": [
      "number: 241958718122610006121856\n",
      "[2, 4, 5, 7, 8, 16, 32, 64, 128, 761, 1759, 2404877]\n"
     ]
    }
   ],
   "source": [
    "#19.* extra มีจำนวนเฉพาะใดบ้างที่หาร n ลงตัว\n",
    "n = int(input(\"number: \"))\n",
    "list1 = []\n",
    "\n",
    "i = 2\n",
    "while n >= i :\n",
    "    while n%i == 0:\n",
    "        n = n/i\n",
    "        list1.append(i)\n",
    "        i = i + 1\n",
    "    i = i + 1\n",
    "print(list1)"
   ]
  },
  {
   "cell_type": "code",
   "execution_count": 137,
   "id": "17c1948d",
   "metadata": {},
   "outputs": [
    {
     "name": "stdout",
     "output_type": "stream",
     "text": [
      "text: coding\n",
      "c\n",
      "d\n",
      "n\n"
     ]
    }
   ],
   "source": [
    "#20.\n",
    "text = str(input('text: '))\n",
    "\n",
    "for i in range (0, len(text), 2):\n",
    "    print(text[i])"
   ]
  },
  {
   "cell_type": "code",
   "execution_count": 138,
   "id": "2fdcfba6",
   "metadata": {},
   "outputs": [
    {
     "name": "stdout",
     "output_type": "stream",
     "text": [
      "text: coding\n",
      "o\n",
      "i\n",
      "g\n"
     ]
    }
   ],
   "source": [
    "#21.\n",
    "text = str(input('text: '))\n",
    "\n",
    "for i in range (1, len(text), 2):\n",
    "    print(text[i])"
   ]
  },
  {
   "cell_type": "code",
   "execution_count": 152,
   "id": "23d41aa4",
   "metadata": {},
   "outputs": [
    {
     "name": "stdout",
     "output_type": "stream",
     "text": [
      "text: as\n",
      "text: ev\n",
      "text: dfr\n",
      "text: asf\n",
      "text: dfe\n",
      "asevdfrasfdfe\n",
      "13\n"
     ]
    }
   ],
   "source": [
    "#22.\n",
    "result = ''\n",
    "\n",
    "for i in range (0, 5, 1):\n",
    "    text = str(input('text: '))\n",
    "    result += text\n",
    "print(result)\n",
    "print(len(result))"
   ]
  },
  {
   "cell_type": "code",
   "execution_count": 139,
   "id": "f074de35",
   "metadata": {},
   "outputs": [
    {
     "name": "stdout",
     "output_type": "stream",
     "text": [
      "str: google\n",
      "char1: o\n",
      "1 o\n",
      "2 o\n"
     ]
    }
   ],
   "source": [
    "#23.\n",
    "str1 = str(input('str: '))\n",
    "char1 = str(input('char1: '))\n",
    "\n",
    "if len(char1) == 1:\n",
    "    for i in range (0, len(str1), 1):\n",
    "        if char1 == str1[i]:\n",
    "            print(i, str1[i])"
   ]
  },
  {
   "cell_type": "code",
   "execution_count": 143,
   "id": "08e06f41",
   "metadata": {},
   "outputs": [
    {
     "name": "stdout",
     "output_type": "stream",
     "text": [
      "word: coconut\n",
      "word: watermelon\n",
      "word: lemon\n",
      "word: mango\n",
      "word: mangoteen\n",
      "3\n"
     ]
    }
   ],
   "source": [
    "#24.* .count(' ') method\n",
    "count_a = 0\n",
    "for i in range(5):\n",
    "    word = input('word: ')\n",
    "    n_appear = word.count('a')\n",
    "    count_a = count_a + n_appear\n",
    "print(count_a)"
   ]
  },
  {
   "cell_type": "code",
   "execution_count": 141,
   "id": "f58be7a2",
   "metadata": {},
   "outputs": [
    {
     "name": "stdout",
     "output_type": "stream",
     "text": [
      "text: coconut\n",
      "text: watermelon\n",
      "text: lemon\n",
      "text: mango\n",
      "text: mangoteen\n",
      "3\n",
      "['a', 'a', 'a']\n"
     ]
    }
   ],
   "source": [
    "#24.\n",
    "result = ''\n",
    "for i in range (0, 5, 1):\n",
    "    text = str(input('text: '))\n",
    "    result += text\n",
    "    \n",
    "a = []\n",
    "for j in result:\n",
    "    if j == 'a':\n",
    "        a.append(j)\n",
    "print(len(a))\n",
    "print(a)"
   ]
  },
  {
   "cell_type": "code",
   "execution_count": 145,
   "id": "2b9ad8d8",
   "metadata": {},
   "outputs": [
    {
     "name": "stdout",
     "output_type": "stream",
     "text": [
      "text: I love coding\n",
      "There is no 'a' vowel\n",
      "There is 'e' vowel\n",
      "There is 'i' vowel\n",
      "There is 'o' vowel\n",
      "There is no 'u' vowel\n",
      "There is vowel\n"
     ]
    }
   ],
   "source": [
    "#25.\n",
    "vowel = ['a', 'e', 'i', 'o', 'u']\n",
    "text = str(input('text: '))\n",
    "\n",
    "result = []\n",
    "for i in vowel:\n",
    "    if i in text:\n",
    "        result.append(i)\n",
    "        print('There is', \"'\"+i+\"'\"  ,'vowel')\n",
    "    else: \n",
    "        print('There is no', \"'\"+i+\"'\" ,'vowel')\n",
    "\n",
    "if len(result) > 0:\n",
    "    print('There is vowel')\n",
    "else:\n",
    "    print('There is no vowel')"
   ]
  },
  {
   "cell_type": "code",
   "execution_count": 146,
   "id": "3e0c39d7",
   "metadata": {},
   "outputs": [
    {
     "name": "stdout",
     "output_type": "stream",
     "text": [
      "text: I love coding\n",
      "I l*v* c*d*ng\n"
     ]
    }
   ],
   "source": [
    "#26.*\n",
    "vowel = ['a', 'e', 'i', 'o', 'u']\n",
    "text = str(input('text: '))\n",
    "for v in vowel:\n",
    "    text = text.replace(v, '*')\n",
    "print(text)"
   ]
  },
  {
   "cell_type": "code",
   "execution_count": 162,
   "id": "6a09e4a8",
   "metadata": {},
   "outputs": [
    {
     "name": "stdout",
     "output_type": "stream",
     "text": [
      "text: I love coding\n",
      "I l*v* c*d*ng\n"
     ]
    }
   ],
   "source": [
    "#26.\n",
    "vowel = ['a', 'e', 'i', 'o', 'u']\n",
    "text = str(input('text: '))\n",
    "\n",
    "list1 = []\n",
    "for i in range (0, len(text), 1):\n",
    "    list1.append(text[i])\n",
    "    if list1[i] in vowel:\n",
    "        list1[i] = '*'\n",
    "text = ''.join(list1)\n",
    "print(text)"
   ]
  },
  {
   "cell_type": "code",
   "execution_count": 163,
   "id": "f71bcc3f",
   "metadata": {},
   "outputs": [
    {
     "name": "stdout",
     "output_type": "stream",
     "text": [
      "text: I love coding\n",
      "gnidoc evol I\n"
     ]
    }
   ],
   "source": [
    "#27.\n",
    "text = str(input('text: '))\n",
    "list1 = []\n",
    "for i in range (len(text)-1, -1, -1):\n",
    "    list1.append(text[i])\n",
    "text = ''.join(list1)\n",
    "print(text)"
   ]
  },
  {
   "cell_type": "code",
   "execution_count": 164,
   "id": "c67e48cc",
   "metadata": {},
   "outputs": [
    {
     "name": "stdout",
     "output_type": "stream",
     "text": [
      "text: abc\n",
      "text: defg\n",
      "text: hij\n",
      "text: klmnop\n",
      "text: qustuv\n",
      "abcdefghijklmnopqustuv\n"
     ]
    }
   ],
   "source": [
    "#28.\n",
    "result = ''\n",
    "\n",
    "for i in range (0, 5, 1):\n",
    "    text = str(input('text: '))\n",
    "    result += text\n",
    "print(result)"
   ]
  },
  {
   "cell_type": "code",
   "execution_count": 165,
   "id": "7a722ad8",
   "metadata": {},
   "outputs": [
    {
     "name": "stdout",
     "output_type": "stream",
     "text": [
      "text: abc\n",
      "integer: 5\n",
      "abc**\n"
     ]
    }
   ],
   "source": [
    "#29.\n",
    "str1 = str(input('text: '))\n",
    "int1 = int(input('integer: '))\n",
    "\n",
    "while len(str1) < int1:\n",
    "    str1 += '*'\n",
    "print(str1)"
   ]
  },
  {
   "cell_type": "code",
   "execution_count": 166,
   "id": "8d7a5859",
   "metadata": {},
   "outputs": [
    {
     "name": "stdout",
     "output_type": "stream",
     "text": [
      "text: abcabc\n",
      "{'b', 'a', 'c'}\n"
     ]
    }
   ],
   "source": [
    "#30.*\n",
    "str1 = str(input('text: '))\n",
    "set1 = set(str1)\n",
    "print(set1)"
   ]
  },
  {
   "cell_type": "code",
   "execution_count": 361,
   "id": "cb1b4748",
   "metadata": {},
   "outputs": [
    {
     "name": "stdout",
     "output_type": "stream",
     "text": [
      "text: green\n",
      "{'r', 'e', 'g', 'n'}\n"
     ]
    }
   ],
   "source": [
    "#30.\n",
    "str1 = str(input('text: '))\n",
    "set1 = set()\n",
    "for i in str1:\n",
    "    set1.add(i)\n",
    "print(set1)"
   ]
  },
  {
   "cell_type": "code",
   "execution_count": 167,
   "id": "698b976b",
   "metadata": {},
   "outputs": [
    {
     "name": "stdout",
     "output_type": "stream",
     "text": [
      "text: alligator\n",
      "r 1\n",
      "l 2\n",
      "i 1\n",
      "a 2\n",
      "t 1\n",
      "g 1\n",
      "o 1\n"
     ]
    }
   ],
   "source": [
    "#31.*\n",
    "str1 = str(input('text: '))\n",
    "set1 = set(str1)\n",
    "for s in set1:\n",
    "    count = str1.count(s)\n",
    "    print(s, count)"
   ]
  },
  {
   "cell_type": "code",
   "execution_count": 168,
   "id": "4993e884",
   "metadata": {},
   "outputs": [
    {
     "name": "stdout",
     "output_type": "stream",
     "text": [
      "text: alligator\n",
      "'a' มีจำนวน 2 ตัวอักษร\n",
      "'l' มีจำนวน 2 ตัวอักษร\n",
      "'i' มีจำนวน 1 ตัวอักษร\n",
      "'g' มีจำนวน 1 ตัวอักษร\n",
      "'t' มีจำนวน 1 ตัวอักษร\n",
      "'o' มีจำนวน 1 ตัวอักษร\n",
      "'r' มีจำนวน 1 ตัวอักษร\n"
     ]
    }
   ],
   "source": [
    "#31. * แสดงถึงความลำบากในการคิด\n",
    "str1 = str(input('text: '))\n",
    "list1 = []\n",
    "\n",
    "for i in range (0, len(str1), 1):\n",
    "    if (str1[i] in list1) == False:\n",
    "        list1.append(str1[i])\n",
    "        n = 0\n",
    "        for j in range (0, len(str1), 1):\n",
    "            if str1[i] == str1[j]:\n",
    "                n = n + 1\n",
    "        print(\"'\"+str1[i]+\"'\", \"มีจำนวน\", n, \"ตัวอักษร\")"
   ]
  },
  {
   "cell_type": "code",
   "execution_count": 317,
   "id": "360c087d",
   "metadata": {},
   "outputs": [
    {
     "name": "stdout",
     "output_type": "stream",
     "text": [
      "[0, 1, 2, 3, 4, 5, 6, 7, 8, 9, 10, 11, 12, 13, 14, 15, 16, 17, 18, 19]\n"
     ]
    }
   ],
   "source": [
    "#32.\n",
    "list1 = []\n",
    "\n",
    "for i in range (0, 20, 1):\n",
    "    list1.append(i)\n",
    "print(list1)"
   ]
  },
  {
   "cell_type": "code",
   "execution_count": 318,
   "id": "e71de42b",
   "metadata": {},
   "outputs": [
    {
     "name": "stdout",
     "output_type": "stream",
     "text": [
      "[99, 98, 97, 96, 95, 94, 93, 92, 91, 90, 89, 88, 87, 86, 85, 84, 83, 82, 81, 80]\n"
     ]
    }
   ],
   "source": [
    "#33.\n",
    "list1 = []\n",
    "\n",
    "for i in range (99, 79, -1):\n",
    "    list1.append(i)\n",
    "print(list1)"
   ]
  },
  {
   "cell_type": "code",
   "execution_count": 170,
   "id": "4997719b",
   "metadata": {},
   "outputs": [
    {
     "name": "stdout",
     "output_type": "stream",
     "text": [
      "integer: 5\n",
      "integer: 2\n",
      "integer: 3\n",
      "integer: 4\n",
      "integer: 2\n",
      "[5, 2, 3, 4]\n"
     ]
    }
   ],
   "source": [
    "#34.\n",
    "list1 = []\n",
    "\n",
    "for i in range (0, 5, 1):\n",
    "    num = int(input('integer: '))\n",
    "    if num not in list1:\n",
    "        list1.append(num)\n",
    "print(list1)"
   ]
  },
  {
   "cell_type": "code",
   "execution_count": 171,
   "id": "12e1bbe6",
   "metadata": {},
   "outputs": [
    {
     "name": "stdout",
     "output_type": "stream",
     "text": [
      "text: 1\n",
      "text: 2\n",
      "text: 2\n",
      "text: 1\n",
      "text: 12\n",
      "text: 3\n",
      "text: 5\n",
      "['1', '2', '12', '3', '5']\n"
     ]
    }
   ],
   "source": [
    "#35.\n",
    "list1 = []\n",
    "\n",
    "while len(list1) < 5:\n",
    "    text = str(input('text: '))\n",
    "    if (text in list1) == False:\n",
    "        list1.append(text)\n",
    "print(list1)"
   ]
  },
  {
   "cell_type": "code",
   "execution_count": 320,
   "id": "25a00a65",
   "metadata": {},
   "outputs": [
    {
     "name": "stdout",
     "output_type": "stream",
     "text": [
      "[10, 9, 8, 7, 6, 5, 4, 3, 2, 1]\n"
     ]
    }
   ],
   "source": [
    "#36.\n",
    "list1 = [1, 2, 3, 4, 5, 6, 7, 8, 9, 10]\n",
    "list2 = []\n",
    "\n",
    "for i in range (len(list1)-1, -1, -1):\n",
    "    list2.append(list1[i])\n",
    "print(list2)"
   ]
  },
  {
   "cell_type": "code",
   "execution_count": 322,
   "id": "4efa48e0",
   "metadata": {},
   "outputs": [
    {
     "name": "stdout",
     "output_type": "stream",
     "text": [
      "1\n",
      "3\n",
      "5\n",
      "7\n",
      "9\n"
     ]
    }
   ],
   "source": [
    "#37.\n",
    "list1 = [1, 2, 3, 4, 5, 6, 7, 8, 9, 10]\n",
    "for i in range (0, len(list1), 2):\n",
    "    print(list1[i])"
   ]
  },
  {
   "cell_type": "code",
   "execution_count": 323,
   "id": "89368ebc",
   "metadata": {},
   "outputs": [
    {
     "name": "stdout",
     "output_type": "stream",
     "text": [
      "2\n",
      "4\n",
      "6\n",
      "8\n",
      "10\n"
     ]
    }
   ],
   "source": [
    "#38.\n",
    "list1 = [1, 2, 3, 4, 5, 6, 7, 8, 9, 10]\n",
    "for i in range (1, len(list1), 2):\n",
    "    print(list1[i])"
   ]
  },
  {
   "cell_type": "code",
   "execution_count": 325,
   "id": "4ebf524e",
   "metadata": {},
   "outputs": [
    {
     "name": "stdout",
     "output_type": "stream",
     "text": [
      "3\n",
      "6\n",
      "9\n"
     ]
    }
   ],
   "source": [
    "#39.\n",
    "list1 = [1, 2, 3, 4, 5, 6, 7, 8, 9, 10]\n",
    "for i in list1:\n",
    "    if i%3 == 0:\n",
    "        print(i)"
   ]
  },
  {
   "cell_type": "code",
   "execution_count": 173,
   "id": "769011ac",
   "metadata": {},
   "outputs": [
    {
     "name": "stdout",
     "output_type": "stream",
     "text": [
      "text: surawoot meekong\n",
      "'s' มีจำนวน 1 ตัวอักษร แต่ไม่มีอยู่ใน list2\n",
      "'u' มีจำนวน 1 ตัวอักษร แต่ไม่มีอยู่ใน list2\n",
      "'r' มีจำนวน 1 ตัวอักษร และอยู่ใน list2 ที่ index [8]\n",
      "'a' มีจำนวน 1 ตัวอักษร และอยู่ใน list2 ที่ index [0, 5]\n",
      "'w' มีจำนวน 1 ตัวอักษร แต่ไม่มีอยู่ใน list2\n",
      "'o' มีจำนวน 3 ตัวอักษร และอยู่ใน list2 ที่ index [7]\n",
      "'t' มีจำนวน 1 ตัวอักษร และอยู่ใน list2 ที่ index [6]\n",
      "' ' มีจำนวน 1 ตัวอักษร แต่ไม่มีอยู่ใน list2\n",
      "'m' มีจำนวน 1 ตัวอักษร แต่ไม่มีอยู่ใน list2\n",
      "'e' มีจำนวน 2 ตัวอักษร แต่ไม่มีอยู่ใน list2\n",
      "'k' มีจำนวน 1 ตัวอักษร แต่ไม่มีอยู่ใน list2\n",
      "'n' มีจำนวน 1 ตัวอักษร แต่ไม่มีอยู่ใน list2\n",
      "'g' มีจำนวน 1 ตัวอักษร และอยู่ใน list2 ที่ index [4]\n"
     ]
    }
   ],
   "source": [
    "#40.*\n",
    "list2 = ['a', 'l', 'l', 'i', 'g', 'a', 't', 'o', 'r']\n",
    "text = str(input('text: '))\n",
    "list3 = []\n",
    "\n",
    "for i in range (0, len(text), 1):\n",
    "    if (text[i] in list3) == False:\n",
    "        list3.append(text[i])\n",
    "        n = 0 \n",
    "        for j in range (0, len(text), 1):\n",
    "            if text[i] == text[j]:\n",
    "                n = n + 1\n",
    "        list4 = []\n",
    "        for k in range (0, len(list2), 1):\n",
    "            if text[i] == list2[k]:\n",
    "                list4.append(k)\n",
    "        if len(list4) == 0:\n",
    "            print(\"'\"+text[i]+\"'\", \"มีจำนวน\", n, 'ตัวอักษร แต่ไม่มีอยู่ใน list2')\n",
    "        else:\n",
    "            print(\"'\"+text[i]+\"'\", \"มีจำนวน\", n, 'ตัวอักษร และอยู่ใน list2 ที่ index', list4)"
   ]
  },
  {
   "cell_type": "code",
   "execution_count": 343,
   "id": "d4d87a7b",
   "metadata": {},
   "outputs": [
    {
     "name": "stdout",
     "output_type": "stream",
     "text": [
      "text: surawoot\n",
      "s ไม่มีใน list2\n",
      "u ไม่มีใน list2\n",
      "r อยู่ index ที่ 8 ของ list2\n",
      "a อยู่ index ที่ 0 ของ list2\n",
      "w ไม่มีใน list2\n",
      "o อยู่ index ที่ 7 ของ list2\n",
      "o อยู่ index ที่ 7 ของ list2\n",
      "t อยู่ index ที่ 6 ของ list2\n"
     ]
    }
   ],
   "source": [
    "#40.\n",
    "list2 = ['a', 'l', 'l', 'i', 'g', 'a', 't', 'o', 'r']\n",
    "text = str(input('text: '))\n",
    "\n",
    "for i in range (0, len(text), 1):\n",
    "    if (text[i] in list2) == False:\n",
    "        print(text[i], \"ไม่มีใน list2\")\n",
    "    else:\n",
    "        for j in range (0, len(list2), 1):\n",
    "            if text[i] == list2[j]:\n",
    "                print(text[i], 'อยู่ index ที่', j ,'ของ list2')\n",
    "                break"
   ]
  },
  {
   "cell_type": "code",
   "execution_count": 145,
   "id": "9b434ed6",
   "metadata": {},
   "outputs": [
    {
     "name": "stdout",
     "output_type": "stream",
     "text": [
      "text: surawoot\n",
      "'s' ไม่มีใน list2\n",
      "'u' ไม่มีใน list2\n",
      "'r' อยู่ index ที่ 8 ของ list2\n",
      "'a' อยู่ index ที่ 0 ของ list2\n",
      "'a' อยู่ index ที่ 5 ของ list2\n",
      "'w' ไม่มีใน list2\n",
      "'o' อยู่ index ที่ 7 ของ list2\n",
      "'t' อยู่ index ที่ 6 ของ list2\n",
      "['s', 'u', 'r', 'a', 'w', 'o', 't']\n"
     ]
    }
   ],
   "source": [
    "#40.\n",
    "list2 = ['a', 'l', 'l', 'i', 'g', 'a', 't', 'o', 'r']\n",
    "text = str(input('text: '))\n",
    "list3 = []\n",
    "\n",
    "for i in range (0, len(text), 1):\n",
    "    if (text[i] in list3) == False:\n",
    "        list3.append(text[i])\n",
    "        if (text[i] in list2) == False:\n",
    "            print(\"'\"+text[i]+\"'\", \"ไม่มีใน list2\")\n",
    "        else:\n",
    "            for j in range (0, len(list2), 1):\n",
    "                if text[i] == list2[j]:\n",
    "                    print(\"'\"+text[i]+\"'\", 'อยู่ index ที่', j ,'ของ list2')             \n",
    "print(list3)"
   ]
  },
  {
   "cell_type": "code",
   "execution_count": 163,
   "id": "20ddc17b",
   "metadata": {},
   "outputs": [
    {
     "name": "stdout",
     "output_type": "stream",
     "text": [
      "text: surawoot\n",
      "'s' ไม่มีใน list2\n",
      "'u' ไม่มีใน list2\n",
      "'r' อยู่ใน index [8] ของ list2\n",
      "'a' อยู่ใน index [0, 5] ของ list2\n",
      "'w' ไม่มีใน list2\n",
      "'o' อยู่ใน index [7] ของ list2\n",
      "'t' อยู่ใน index [6] ของ list2\n",
      "['s', 'u', 'r', 'a', 'w', 'o', 't']\n",
      "'s' มีจำนวน 1 ตัวอักษร\n",
      "'u' มีจำนวน 1 ตัวอักษร\n",
      "'r' มีจำนวน 1 ตัวอักษร\n",
      "'a' มีจำนวน 1 ตัวอักษร\n",
      "'w' มีจำนวน 1 ตัวอักษร\n",
      "'o' มีจำนวน 2 ตัวอักษร\n",
      "'t' มีจำนวน 1 ตัวอักษร\n"
     ]
    }
   ],
   "source": [
    "#40.\n",
    "list2 = ['a', 'l', 'l', 'i', 'g', 'a', 't', 'o', 'r']\n",
    "text = str(input('text: '))\n",
    "list3 = []\n",
    "\n",
    "for i in range (0, len(text), 1):\n",
    "    if (text[i] in list3) == False:\n",
    "        list3.append(text[i])\n",
    "        if (text[i] in list2) == False:\n",
    "            print(\"'\"+text[i]+\"'\", \"ไม่มีใน list2\")\n",
    "        else:\n",
    "            list4 = []\n",
    "            for j in range (0, len(list2), 1):\n",
    "                if text[i] == list2[j]:\n",
    "                    list4.append(j)\n",
    "            if len(list4) == 1: \n",
    "                print(\"'\"+text[i]+\"'\", \"อยู่ใน index\", list4, \"ของ list2\")\n",
    "            elif len(list4) > 1:\n",
    "                print(\"'\"+text[i]+\"'\", \"อยู่ใน index\", list4, \"ของ list2\")\n",
    "\n",
    "\n",
    "for k in range (0, len(list3), 1):\n",
    "    n = 0\n",
    "    for m in range (k, len(text), 1):\n",
    "        if list3[k] == text[m]:\n",
    "            n = n + 1\n",
    "    print(\"'\"+list3[k]+\"'\", \"มีจำนวน\", n, \"ตัวอักษร\")"
   ]
  },
  {
   "cell_type": "code",
   "execution_count": 177,
   "id": "c10fd3cc",
   "metadata": {},
   "outputs": [
    {
     "name": "stdout",
     "output_type": "stream",
     "text": [
      "[1, 2, 3, 4, 5, 6, 7, 8, 9, 10, 11, 12, 13, 14, 15, 16, 17, 18, 19, 20, 21, 22, 23, 24, 25]\n",
      "['a', 2, 'a', 4, 'a', 6, 'a', 8, 'a', 10, 'a', 12, 'a', 14, 'a', 16, 'a', 18, 'a', 20, 'a', 22, 'a', 24, 'a']\n"
     ]
    }
   ],
   "source": [
    "#41.\n",
    "list3 = [x for x in range (1, 26, 1)]\n",
    "print(list3)\n",
    "\n",
    "list3 = [1, 2, 3, 4, 5, 6, 7, 8, 9, 10, 11, 12, 13, 14, 15, 16, 17, 18, 19, 20, 21, 22, 23, 24, 25]\n",
    "\n",
    "for j in range (0, len(list3), 2):\n",
    "    list3[j] = 'a'\n",
    "print(list3)"
   ]
  },
  {
   "cell_type": "code",
   "execution_count": 25,
   "id": "0b19e053",
   "metadata": {},
   "outputs": [
    {
     "name": "stdout",
     "output_type": "stream",
     "text": [
      "[1, 'b', 3, 'b', 5, 'b', 7, 'b', 9, 'b', 11, 'b', 13, 'b', 15, 'b', 17, 'b', 19, 'b', 21, 'b', 23, 'b', 25]\n"
     ]
    }
   ],
   "source": [
    "#42.\n",
    "list3 = [1, 2, 3, 4, 5, 6, 7, 8, 9, 10, 11, 12, 13, 14, 15, 16, 17, 18, 19, 20, 21, 22, 23, 24, 25]\n",
    "\n",
    "for j in range (1, len(list3), 2):\n",
    "    list3[j] = 'b'\n",
    "print(list3)"
   ]
  },
  {
   "cell_type": "code",
   "execution_count": 178,
   "id": "7090d719",
   "metadata": {},
   "outputs": [
    {
     "name": "stdout",
     "output_type": "stream",
     "text": [
      "['square', 2, 3, 'square', 5, 6, 7, 8, 'square', 10, 11, 12, 13, 14, 15, 'square', 17, 18, 19, 20, 21, 22, 23, 24, 'square']\n"
     ]
    }
   ],
   "source": [
    "#43.*\n",
    "list3 = [x for x in range (1, 26, 1)]\n",
    "for i in range (0, len(list3), 1):\n",
    "    if (list3[i]**(1/2))%1 == 0:\n",
    "        list3[i] = 'square'\n",
    "print(list3)"
   ]
  },
  {
   "cell_type": "code",
   "execution_count": 446,
   "id": "28697d0f",
   "metadata": {},
   "outputs": [
    {
     "name": "stdout",
     "output_type": "stream",
     "text": [
      "[1, 4, 9, 16, 25]\n",
      "['square', 2, 3, 'square', 5, 6, 7, 8, 'square', 10, 11, 12, 13, 14, 15, 'square', 17, 18, 19, 20, 21, 22, 23, 24, 'square']\n"
     ]
    }
   ],
   "source": [
    "#43.\n",
    "list3 = [1, 2, 3, 4, 5, 6, 7, 8, 9, 10, 11, 12, 13, 14, 15, 16, 17, 18, 19, 20, 21, 22, 23, 24, 25]\n",
    "\n",
    "list2 = []\n",
    "i = 1\n",
    "while i**2 <= max(list3):\n",
    "    list2.append(i**2)\n",
    "    i = i +1\n",
    "print(list2)\n",
    "    \n",
    "for i in range (0,len(list3), 1):\n",
    "    for j in range (0, len(list2), 1):\n",
    "        if list3[i] == list2[j]:\n",
    "            list3[i] = 'square'\n",
    "print(list3)"
   ]
  },
  {
   "cell_type": "code",
   "execution_count": 85,
   "id": "c743e4b2",
   "metadata": {},
   "outputs": [
    {
     "name": "stdout",
     "output_type": "stream",
     "text": [
      "['*', 'a', '*', 'b', '*', 'c', '*', 'd', '*', 'e', 'f']\n"
     ]
    }
   ],
   "source": [
    "#44.\n",
    "listx = [0, 2, 4, 6, 8]\n",
    "list4 = ['a', 'b', 'c', 'd', 'e', 'f']\n",
    "\n",
    "for i in listx:\n",
    "    list4.insert(i, '*')\n",
    "print(list4)"
   ]
  },
  {
   "cell_type": "code",
   "execution_count": 179,
   "id": "c2dc0f66",
   "metadata": {},
   "outputs": [
    {
     "name": "stdout",
     "output_type": "stream",
     "text": [
      "index: 2\n",
      "element: -\n",
      "index: 4\n",
      "element: *\n",
      "index: 5\n",
      "element: ^\n",
      "['a', 'b', '-', 'c', '*', '^', 'd', 'e', 'f']\n"
     ]
    }
   ],
   "source": [
    "#45.\n",
    "list4 = ['a', 'b', 'c', 'd', 'e', 'f']\n",
    "for i in range (0, 3, 1):\n",
    "    index = int(input('index: '))\n",
    "    element = str(input('element: '))\n",
    "    list4.insert(index, element)\n",
    "print(list4)"
   ]
  },
  {
   "cell_type": "code",
   "execution_count": 88,
   "id": "53b90c67",
   "metadata": {},
   "outputs": [
    {
     "name": "stdout",
     "output_type": "stream",
     "text": [
      "index: 5\n",
      "element: a\n",
      "index: 2\n",
      "element: q\n",
      "index: 3\n",
      "element: o\n",
      "['a', 'b', 'q', 'o', 'c', 'd', 'e', 'f']\n"
     ]
    }
   ],
   "source": [
    "#46.\n",
    "list4 = ['a', 'b', 'c', 'd', 'e', 'f']\n",
    "for i in range (0, 3, 1):\n",
    "    index = int(input('index: '))\n",
    "    element = str(input('element: '))\n",
    "    if (element in list4) == False: \n",
    "        list4.insert(index, element)\n",
    "print(list4)"
   ]
  },
  {
   "cell_type": "code",
   "execution_count": 180,
   "id": "6c419ace",
   "metadata": {},
   "outputs": [
    {
     "name": "stdout",
     "output_type": "stream",
     "text": [
      "number: 3\n",
      "['a', 'b', 'c', 'e', 'f']\n"
     ]
    }
   ],
   "source": [
    "#47.\n",
    "list4 = ['a', 'b', 'c', 'd', 'e', 'f']\n",
    "\n",
    "num1 = int(input('number: '))\n",
    "\n",
    "if num1 <= (len(list4)-1):\n",
    "    del list4[num1]\n",
    "print(list4)"
   ]
  },
  {
   "cell_type": "code",
   "execution_count": 181,
   "id": "792a0b36",
   "metadata": {},
   "outputs": [
    {
     "name": "stdout",
     "output_type": "stream",
     "text": [
      "text: d\n",
      "['a', 'b', 'c', 'e', 'f']\n"
     ]
    }
   ],
   "source": [
    "#48.\n",
    "list4 = ['a', 'b', 'c', 'd', 'e', 'f']\n",
    "text = str(input('text: '))\n",
    "\n",
    "if text in list4:\n",
    "    list4.remove(text)\n",
    "print(list4)"
   ]
  },
  {
   "cell_type": "code",
   "execution_count": 182,
   "id": "a18a1fc4",
   "metadata": {},
   "outputs": [
    {
     "name": "stdout",
     "output_type": "stream",
     "text": [
      "number: 3\n",
      "[1, 2, 4, 5, 6, 7, 8, 9, 10]\n"
     ]
    }
   ],
   "source": [
    "#49.\n",
    "list1 = []\n",
    "for i in range (1, 11, 1):\n",
    "    list1.append(i)\n",
    "\n",
    "list1 = [1, 2, 3, 4, 5, 6, 7, 8, 9, 10]\n",
    "num = int(input('number: '))\n",
    "\n",
    "for i in range (0, len(list1), 1):\n",
    "    if list1[i] == num:\n",
    "        del list1[i]\n",
    "    elif (num in list1) == False:\n",
    "        list1.append(num)\n",
    "        \n",
    "print(list1)"
   ]
  },
  {
   "cell_type": "code",
   "execution_count": 119,
   "id": "7046bdc2",
   "metadata": {},
   "outputs": [
    {
     "name": "stdout",
     "output_type": "stream",
     "text": [
      "number: 75\n",
      "[1, 2, 3, 4, 5, 6, 7, 8, 9, 10, 75]\n"
     ]
    }
   ],
   "source": [
    "#50.\n",
    "list1 = [1, 2, 3, 4, 5, 6, 7, 8, 9, 10]\n",
    "num = int(input('number: '))\n",
    "\n",
    "if num in list1:\n",
    "    list1.remove(num)\n",
    "else:\n",
    "    list1.append(num)\n",
    "        \n",
    "print(list1)"
   ]
  },
  {
   "cell_type": "code",
   "execution_count": 196,
   "id": "ca9fb7cf",
   "metadata": {},
   "outputs": [
    {
     "name": "stdout",
     "output_type": "stream",
     "text": [
      "[2, 4, 6, 8, 10]\n"
     ]
    }
   ],
   "source": [
    "#51.*\n",
    "list1 = [1, 2, 3, 4, 5, 6, 7, 8, 9, 10]\n",
    "for i in range (len(list1)-2, -1, -2):\n",
    "    del list1[i]\n",
    "print(list1)"
   ]
  },
  {
   "cell_type": "code",
   "execution_count": 145,
   "id": "c86c1af5",
   "metadata": {},
   "outputs": [
    {
     "name": "stdout",
     "output_type": "stream",
     "text": [
      "[2, 4, 6, 8, 10]\n"
     ]
    }
   ],
   "source": [
    "#51.\n",
    "list1 = [1, 2, 3, 4, 5, 6, 7, 8, 9, 10]\n",
    "\n",
    "for i in range (0, int(len(list1)/2), 1):\n",
    "    del list1[i]\n",
    "print(list1)"
   ]
  },
  {
   "cell_type": "code",
   "execution_count": 148,
   "id": "219822b0",
   "metadata": {},
   "outputs": [
    {
     "name": "stdout",
     "output_type": "stream",
     "text": [
      "[1, 3, 5, 7, 9]\n"
     ]
    }
   ],
   "source": [
    "#52.\n",
    "list1 = [1, 2, 3, 4, 5, 6, 7, 8, 9, 10]\n",
    "\n",
    "for i in range (1, int(len(list1)/2)+1, 1):\n",
    "    del list1[i]\n",
    "print(list1)"
   ]
  },
  {
   "cell_type": "code",
   "execution_count": 209,
   "id": "5364a133",
   "metadata": {},
   "outputs": [
    {
     "name": "stdout",
     "output_type": "stream",
     "text": [
      "[1, 5, 6, 7, 11, 12, 13, 17, 18, 19, 23, 24, 25]\n"
     ]
    }
   ],
   "source": [
    "#53.\n",
    "list3 = [1, 2, 3, 4, 5, 6, 7, 8, 9, 10, 11, 12, 13, 14, 15, 16, 17, 18, 19, 20, 21, 22, 23, 24, 25]\n",
    "\n",
    "for i in range (len(list3)-1, -1, -1):\n",
    "    if (list3[i]%2 == 0 or list3[i]%3 == 0) and (list3[i]%6 != 0):\n",
    "        del list3[i]\n",
    "print(list3)"
   ]
  },
  {
   "cell_type": "code",
   "execution_count": 210,
   "id": "acd70f10",
   "metadata": {},
   "outputs": [
    {
     "name": "stdout",
     "output_type": "stream",
     "text": [
      "[1, 3, 5, 6, 7, 9, 11, 12, 13, 15, 17, 18, 19, 21, 23, 24, 25]\n"
     ]
    }
   ],
   "source": [
    "#54.\n",
    "list1 = [1, 2, 3, 4, 5, 6, 7, 8, 9, 10, 11, 12, 13, 14, 15, 16, 17, 18, 19, 20, 21, 22, 23, 24, 25]\n",
    "\n",
    "for i in list1:\n",
    "    if (i%2==0) and (i%3!=0):\n",
    "        list1.remove(i)\n",
    "print(list1)"
   ]
  },
  {
   "cell_type": "code",
   "execution_count": 211,
   "id": "0152bf9b",
   "metadata": {},
   "outputs": [
    {
     "name": "stdout",
     "output_type": "stream",
     "text": [
      "number: 3\n",
      "number: 3\n",
      "number: 5\n",
      "number: 7\n",
      "[1, 2, 4, 6, 8, 9, 10] 7\n"
     ]
    }
   ],
   "source": [
    "#55.\n",
    "list1 = [1, 2, 3, 4, 5, 6, 7, 8, 9, 10]\n",
    "\n",
    "while len(list1) != 7:\n",
    "    num = int(input('number: '))\n",
    "    if num in list1:\n",
    "        list1.remove(num)\n",
    "print(list1, len(list1))"
   ]
  },
  {
   "cell_type": "code",
   "execution_count": 213,
   "id": "2f12bb3b",
   "metadata": {},
   "outputs": [
    {
     "name": "stdout",
     "output_type": "stream",
     "text": [
      "[[2, 4, 6], [5, 7, 9], [8, 10, 12]]\n"
     ]
    }
   ],
   "source": [
    "#56.* Ans\n",
    "matrix1 = [[1,2,3], [4,5,6], [7,8,9]]\n",
    "matrix2 = [[1,2,3], [1,2,3], [1,2,3]]\n",
    "\n",
    "n_rows = len(matrix1)\n",
    "n_columns = len(matrix1[0])\n",
    "sum_matrix = [[0,0,0], [0,0,0], [0,0,0]]\n",
    "\n",
    "for r in range (0, n_rows, 1):\n",
    "    for c in range (0, n_columns, 1):\n",
    "        sum_matrix[r][c] = matrix1[r][c] + matrix2[r][c]\n",
    "print(sum_matrix)"
   ]
  },
  {
   "cell_type": "code",
   "execution_count": 260,
   "id": "ba26c11e",
   "metadata": {},
   "outputs": [
    {
     "name": "stdout",
     "output_type": "stream",
     "text": [
      "[[2, 4, 6], [5, 7, 9], [8, 10, 12]]\n"
     ]
    }
   ],
   "source": [
    "#56.*\n",
    "matrix1 = [[1,2,3], [4,5,6], [7,8,9]]\n",
    "matrix2 = [[1,2,3], [1,2,3], [1,2,3]]\n",
    "list2 = []\n",
    "\n",
    "\n",
    "for i in range (0, 3, 1):\n",
    "    list1 = []\n",
    "    for j in range (0, 3, 1):\n",
    "        n = matrix1[i][j] + matrix2[i][j]\n",
    "        list1.append(n)\n",
    "    list2.append(list1)\n",
    "print(list2)"
   ]
  },
  {
   "cell_type": "code",
   "execution_count": 261,
   "id": "74b2b477",
   "metadata": {},
   "outputs": [
    {
     "name": "stdout",
     "output_type": "stream",
     "text": [
      "[[1, 4, 9], [4, 10, 18], [7, 16, 27]]\n"
     ]
    }
   ],
   "source": [
    "#57.\n",
    "matrix1 = [[1,2,3], [4,5,6], [7,8,9]]\n",
    "matrix2 = [[1,2,3], [1,2,3], [1,2,3]]\n",
    "list2 = []\n",
    "\n",
    "\n",
    "for i in range (0, 3, 1):\n",
    "    list1 = []\n",
    "    for j in range (0, 3, 1):\n",
    "        n = matrix1[i][j] * matrix2[i][j]\n",
    "        list1.append(n)\n",
    "    list2.append(list1)\n",
    "print(list2)"
   ]
  },
  {
   "cell_type": "code",
   "execution_count": 263,
   "id": "d8d40e4e",
   "metadata": {},
   "outputs": [
    {
     "name": "stdout",
     "output_type": "stream",
     "text": [
      "[[1, 4, 7], [2, 5, 8], [3, 6, 9]]\n"
     ]
    }
   ],
   "source": [
    "#58.\n",
    "matrix1 = [[1,2,3], [4,5,6], [7,8,9]]\n",
    "list2 = []\n",
    "\n",
    "for i in range (0, 3, 1):\n",
    "    list1 = []\n",
    "    for j in range (0, 3, 1):\n",
    "        n = matrix1[j][i]\n",
    "        list1.append(n)\n",
    "    list2.append(list1)\n",
    "print(list2)"
   ]
  },
  {
   "cell_type": "code",
   "execution_count": 300,
   "id": "1dd94dcf",
   "metadata": {},
   "outputs": [
    {
     "name": "stdout",
     "output_type": "stream",
     "text": [
      "4\n",
      "[[1, 5], [2, 6], [3, 7], [4, 8]]\n"
     ]
    }
   ],
   "source": [
    "#59.\n",
    "matrix1 = [[1,2,3,4,], [5,6,7,8]]\n",
    "print(len(matrix1[0]))\n",
    "list2 = []\n",
    "\n",
    "for i in range (0, len(matrix1[1]), 1):\n",
    "    list1 = []\n",
    "    for j in range (0, len(matrix1), 1):\n",
    "        n = matrix1[j][i]\n",
    "        list1.append(n)\n",
    "    list2.append(list1)\n",
    "print(list2)"
   ]
  },
  {
   "cell_type": "code",
   "execution_count": 305,
   "id": "0e5208c9",
   "metadata": {},
   "outputs": [
    {
     "name": "stdout",
     "output_type": "stream",
     "text": [
      "('a', 'b', 'c', 'd', 'e', 'f') <class 'tuple'>\n"
     ]
    }
   ],
   "source": [
    "#60.\n",
    "list1 = ['a', 'b', 'c', 'd', 'e', 'f']\n",
    "tuple1 = tuple(list1)\n",
    "print(tuple1, type(tuple1))"
   ]
  },
  {
   "cell_type": "code",
   "execution_count": 37,
   "id": "9cb5bfa5",
   "metadata": {},
   "outputs": [
    {
     "name": "stdout",
     "output_type": "stream",
     "text": [
      "(1, 2, 3, 4, 5, 6, 7, 8, 9, 10)\n",
      "220\n"
     ]
    }
   ],
   "source": [
    "#61.\n",
    "tuple1 = ()\n",
    "for i in range (1, 11, 1):\n",
    "    tuple1 = tuple1 + (i,)\n",
    "print(tuple1)\n",
    "\n",
    "result = 0\n",
    "tuple1 = (1, 2, 3, 4, 5, 6, 7, 8, 9, 10)\n",
    "for i in range (1, 10, 2):\n",
    "    result = result + (tuple1[i]**2)\n",
    "print(result)"
   ]
  },
  {
   "cell_type": "code",
   "execution_count": 41,
   "id": "43d9fef8",
   "metadata": {},
   "outputs": [
    {
     "name": "stdout",
     "output_type": "stream",
     "text": [
      "165\n"
     ]
    }
   ],
   "source": [
    "#62.\n",
    "result = 0\n",
    "tuple1 = (1, 2, 3, 4, 5, 6, 7, 8, 9, 10)\n",
    "for i in range (0, 10, 2):\n",
    "    result = result + (tuple1[i]**2)\n",
    "print(result)"
   ]
  },
  {
   "cell_type": "code",
   "execution_count": 90,
   "id": "3cdaafa3",
   "metadata": {},
   "outputs": [
    {
     "name": "stdout",
     "output_type": "stream",
     "text": [
      "(1, 2, 3, 4, 5, 6, 7, 8, 9, 10, 11, 12, 13, 14, 15, 16, 17, 18, 19, 20, 21, 22, 23, 24, 25)\n",
      "2\n",
      "3\n",
      "5\n",
      "7\n",
      "11\n",
      "13\n",
      "17\n",
      "19\n",
      "23\n"
     ]
    }
   ],
   "source": [
    "#63.\n",
    "tuple2 = ()\n",
    "for i in range (1, 26, 1):\n",
    "    tuple2 += (i,)\n",
    "print(tuple2)\n",
    "\n",
    "tuple2 = (1, 2, 3, 4, 5, 6, 7, 8, 9, 10, 11, 12, 13, 14, 15, 16, 17, 18, 19, 20, 21, 22, 23, 24, 25)\n",
    "for i in range (0, 24, 1):\n",
    "    list1 = []\n",
    "    for j in range (0, 24, 1):\n",
    "        if (tuple2[i]%tuple2[j]) == 0:\n",
    "            list1.append(tuple2[i])\n",
    "    if len(list1) == 2:\n",
    "        print(tuple2[i])"
   ]
  },
  {
   "cell_type": "code",
   "execution_count": 215,
   "id": "fee11bf8",
   "metadata": {},
   "outputs": [
    {
     "name": "stdout",
     "output_type": "stream",
     "text": [
      "11.11111111111111\n"
     ]
    }
   ],
   "source": [
    "#64.\n",
    "tuple2 = (1, 2, 3, 4, 5, 6, 7, 8, 9, 10, 11, 12, 13, 14, 15, 16, 17, 18, 19, 20, 21, 22, 23, 24, 25)\n",
    "\n",
    "sum1 = 0\n",
    "list2 = []\n",
    "for i in range (0, 25, 1):\n",
    "    list1 = []\n",
    "    for j in range (0, 25, 1):\n",
    "        if (tuple2[i]%tuple2[j]) == 0:\n",
    "            list1.append(tuple2[i])\n",
    "    if len(list1) == 2:\n",
    "        list2.append(tuple2[i])\n",
    "        sum1 += tuple2[i]\n",
    "    \n",
    "print(sum1/len(list2))"
   ]
  },
  {
   "cell_type": "code",
   "execution_count": 116,
   "id": "481d86e8",
   "metadata": {},
   "outputs": [
    {
     "name": "stdout",
     "output_type": "stream",
     "text": [
      "number:5\n",
      "yes\n"
     ]
    }
   ],
   "source": [
    "#65.\n",
    "tuple1 = (1, 2, 3, 4, 5, 6, 7, 8, 9, 10)\n",
    "num = int(input('number:'))\n",
    "\n",
    "if num in tuple1:\n",
    "    print('yes')\n",
    "else:\n",
    "    print('no')"
   ]
  },
  {
   "cell_type": "code",
   "execution_count": 217,
   "id": "05c369b7",
   "metadata": {},
   "outputs": [
    {
     "name": "stdout",
     "output_type": "stream",
     "text": [
      "number: 7\n",
      "มากกว่า\n"
     ]
    }
   ],
   "source": [
    "#66.\n",
    "tuple1 = (1, 2, 3, 4, 5, 6, 7, 8, 9, 10)\n",
    "num = int(input('number: '))\n",
    "\n",
    "if len(tuple1) > num:\n",
    "    print('มากกว่า')\n",
    "elif len(tuple1) > num:\n",
    "    print('น้อยกว่า')\n",
    "else:\n",
    "    print('เท่ากับ')"
   ]
  },
  {
   "cell_type": "code",
   "execution_count": 219,
   "id": "a27fd675",
   "metadata": {},
   "outputs": [
    {
     "name": "stdout",
     "output_type": "stream",
     "text": [
      "{'one': 1, 'two': 2, 'three': 3, 'four': 4}\n"
     ]
    }
   ],
   "source": [
    "#67.\n",
    "list1 = ['one', 'two', 'three', 'four']\n",
    "list2 = [1, 2, 3, 4]\n",
    "\n",
    "dict1 = dict()\n",
    "for i in range (0, len(list1), 1):\n",
    "    dict1[list1[i]] = list2[i]\n",
    "print(dict1)"
   ]
  },
  {
   "cell_type": "code",
   "execution_count": 185,
   "id": "339f4986",
   "metadata": {},
   "outputs": [
    {
     "name": "stdout",
     "output_type": "stream",
     "text": [
      "{1: 'ant', 2: 'bird', 3: 'cat', 4: 'dog'}\n"
     ]
    }
   ],
   "source": [
    "#68.\n",
    "tuple1 = (1, 2, 3, 4)\n",
    "tuple2 = ('ant', 'bird', 'cat', 'dog')\n",
    "\n",
    "dict1 = dict()\n",
    "for i in range (0, len(tuple1), 1):\n",
    "    dict1[tuple1[i]] = tuple2[i]\n",
    "print(dict1)"
   ]
  },
  {
   "cell_type": "code",
   "execution_count": 182,
   "id": "c2bfcada",
   "metadata": {},
   "outputs": [
    {
     "name": "stdout",
     "output_type": "stream",
     "text": [
      "{0: 0, 1: 2, 2: 4, 3: 6, 4: 8, 5: 10, 6: 12, 7: 14, 8: 16, 9: 18}\n"
     ]
    }
   ],
   "source": [
    "#69.\n",
    "dict1 = dict()\n",
    "for i in range (0, 10, 1):\n",
    "    dict1[i] = 2*i\n",
    "print(dict1)"
   ]
  },
  {
   "cell_type": "code",
   "execution_count": 220,
   "id": "279b6015",
   "metadata": {},
   "outputs": [
    {
     "name": "stdout",
     "output_type": "stream",
     "text": [
      "number: 3\n",
      "text: armchair\n",
      "integer: 700\n",
      "text: basketball\n",
      "integer: 500\n",
      "text: candy\n",
      "integer: 3\n",
      "{'armchair': 700, 'basketball': 500, 'candy': 3}\n"
     ]
    }
   ],
   "source": [
    "#70.\n",
    "num = int(input('number: '))\n",
    "\n",
    "list1 = []\n",
    "list2 = []\n",
    "dict1 = dict()\n",
    "for i in range (0, num, 1):\n",
    "    str1 = str(input('text: '))\n",
    "    integer = int(input('integer: '))\n",
    "    list1.append(str1)\n",
    "    list2.append(integer)\n",
    "    dict1[list1[i]] = list2[i]\n",
    "print(dict1)"
   ]
  },
  {
   "cell_type": "code",
   "execution_count": 192,
   "id": "d5be66f6",
   "metadata": {},
   "outputs": [
    {
     "name": "stdout",
     "output_type": "stream",
     "text": [
      "number: 5\n",
      "text: surawoot\n",
      "integer: 8\n",
      "text: meekong\n",
      "integer: 7\n",
      "text: ong\n",
      "integer: 3\n",
      "text: python\n",
      "integer: 6\n",
      "text: book\n",
      "integer: 5\n",
      "{'surawoot': 8, 7: 'meekong', 'ong': 3, 6: 'python', 'book': 5}\n"
     ]
    }
   ],
   "source": [
    "#71.\n",
    "num = int(input('number: '))\n",
    "\n",
    "list1 = []\n",
    "list2 = []\n",
    "dict1 = dict()\n",
    "for i in range (0, num, 1):\n",
    "    str1 = str(input('text: '))\n",
    "    integer = int(input('integer: '))\n",
    "    list1.append(str1)\n",
    "    list2.append(integer)\n",
    "    if i%2 == 0:\n",
    "        dict1[list1[i]] = list2[i]\n",
    "    else:\n",
    "        dict1[list2[i]] = list1[i]\n",
    "print(dict1)"
   ]
  },
  {
   "cell_type": "code",
   "execution_count": 66,
   "id": "ebd60ce0",
   "metadata": {},
   "outputs": [
    {
     "name": "stdout",
     "output_type": "stream",
     "text": [
      "number: 5\n",
      "data: 1\n",
      "data: 2\n",
      "data: 3\n",
      "data: 4\n",
      "data: 5\n",
      "{'mean': 3.0, 'variance': 2.0}\n"
     ]
    }
   ],
   "source": [
    "#72.\n",
    "num = int(input('number: '))\n",
    "\n",
    "list1 = []\n",
    "sum_data = 0\n",
    "sum_var = 0\n",
    "dict1 = dict()\n",
    "\n",
    "for i in range (0, num, 1):\n",
    "    data = float(input('data: '))\n",
    "    sum_data += data\n",
    "    list1.append(data)\n",
    "mean = sum_data/num\n",
    "\n",
    "for j in list1:\n",
    "    a = (j-mean)**2\n",
    "    sum_var += a\n",
    "variance = sum_var/num\n",
    "\n",
    "dict1['mean'] = mean\n",
    "dict1['variance'] = variance\n",
    "print(dict1)"
   ]
  },
  {
   "cell_type": "code",
   "execution_count": 221,
   "id": "649f98c7",
   "metadata": {},
   "outputs": [
    {
     "name": "stdout",
     "output_type": "stream",
     "text": [
      "text: apple\n",
      "52 kcal\n"
     ]
    }
   ],
   "source": [
    "#73.\n",
    "dict1 = {'apple': '52 kcal', 'banana': '132 kcal', 'carrot': '46 kcal'}\n",
    "\n",
    "text = str(input('text: '))\n",
    "\n",
    "if text in dict1:\n",
    "    print(dict1[text])\n",
    "else:\n",
    "    dict1[text] = 'wait for assignment'\n",
    "    print(dict1)"
   ]
  },
  {
   "cell_type": "code",
   "execution_count": 224,
   "id": "61c16ad1",
   "metadata": {},
   "outputs": [
    {
     "name": "stdout",
     "output_type": "stream",
     "text": [
      "text: xxx\n",
      "{'apple': '52 kcal', 'banana': '132 kcal', 'carrot': '46 kcal', 'xxx': 'wait for assignment'}\n"
     ]
    }
   ],
   "source": [
    "#74.\n",
    "dict1 = {'apple': '52 kcal', 'banana': '132 kcal', 'carrot': '46 kcal'}\n",
    "\n",
    "text = str(input('text: '))\n",
    "\n",
    "if text in dict1:\n",
    "    dict1[text] = 'wait for new value'\n",
    "else:\n",
    "    dict1[text] = 'wait for assignment'\n",
    "print(dict1)"
   ]
  },
  {
   "cell_type": "code",
   "execution_count": 225,
   "id": "92f6049f",
   "metadata": {},
   "outputs": [
    {
     "name": "stdout",
     "output_type": "stream",
     "text": [
      "text: 30\n",
      "yes\n"
     ]
    }
   ],
   "source": [
    "#75.\n",
    "dict2 = {'name': 'Mario', 'age': '30', 'job': 'mushroom picker'}\n",
    "\n",
    "text = str(input('text: '))\n",
    "\n",
    "if text in dict2.values():\n",
    "    print('yes')\n",
    "else:\n",
    "    print('no')"
   ]
  },
  {
   "cell_type": "code",
   "execution_count": 227,
   "id": "061b9e68",
   "metadata": {},
   "outputs": [
    {
     "name": "stdout",
     "output_type": "stream",
     "text": [
      "text: mushroom picker\n",
      "job\n"
     ]
    }
   ],
   "source": [
    "#76.\n",
    "dict2 = {'name': 'Mario', 'age': '30', 'job': 'mushroom picker'}\n",
    "\n",
    "text = str(input('text: '))\n",
    "\n",
    "if text in dict2.values():\n",
    "    for i in dict2:\n",
    "        if text == dict2[i]:\n",
    "            print(i)"
   ]
  },
  {
   "cell_type": "code",
   "execution_count": 39,
   "id": "fe903bb4",
   "metadata": {},
   "outputs": [
    {
     "name": "stdout",
     "output_type": "stream",
     "text": [
      "text: Mario\n",
      "{'age': '30', 'job': 'mushroom picker'}\n"
     ]
    }
   ],
   "source": [
    "#77.\n",
    "dict2 = {'name': 'Mario', 'age': '30', 'job': 'mushroom picker'}\n",
    "\n",
    "text = str(input('text: '))\n",
    "\n",
    "if text in dict2.values():\n",
    "    for i in dict2.keys():\n",
    "        if text == dict2[i]:\n",
    "            del dict2[i]\n",
    "            break\n",
    "else:\n",
    "    dict2['new key'] = text\n",
    "print(dict2)"
   ]
  },
  {
   "cell_type": "code",
   "execution_count": 47,
   "id": "a07eb92f",
   "metadata": {},
   "outputs": [
    {
     "name": "stdout",
     "output_type": "stream",
     "text": [
      "{'name': 'Mario'}\n"
     ]
    }
   ],
   "source": [
    "#78.\n",
    "dict2 = {'name': 'Mario', 'age': '30', 'job': 'mushroom picker'}\n",
    "list1 = ['first_name', 'last_name', 'age', 'job']\n",
    "\n",
    "for i in list1:\n",
    "    if i in dict2.keys():\n",
    "        del dict2[i]\n",
    "print(dict2)"
   ]
  },
  {
   "cell_type": "code",
   "execution_count": 229,
   "id": "37e3df97",
   "metadata": {},
   "outputs": [
    {
     "name": "stdout",
     "output_type": "stream",
     "text": [
      "text: a\n",
      "number: 1\n",
      "text: a\n",
      "text: b\n",
      "number: 2\n",
      "text: c\n",
      "number: 3\n",
      "text: d\n",
      "number: 4\n",
      "{'b': 2, 'c': 3, 'd': 4}\n"
     ]
    }
   ],
   "source": [
    "#79.\n",
    "dict1 = dict()\n",
    "\n",
    "while len(dict1) != 3:\n",
    "    text = str(input('text: '))\n",
    "    if text in dict1.keys():\n",
    "        del dict1[text]\n",
    "    else:\n",
    "        num = int(input('number: '))\n",
    "        dict1[text] = num\n",
    "print(dict1)"
   ]
  },
  {
   "cell_type": "code",
   "execution_count": 52,
   "id": "77a1c5a4",
   "metadata": {},
   "outputs": [
    {
     "name": "stdout",
     "output_type": "stream",
     "text": [
      "{'d', 'e', 'c', 'b', 'a', 'f'} <class 'set'>\n"
     ]
    }
   ],
   "source": [
    "#80.\n",
    "list1 = ['a', 'b', 'c', 'd', 'e', 'f']\n",
    "set1 = set(list1)\n",
    "print(set1, type(set1))"
   ]
  },
  {
   "cell_type": "code",
   "execution_count": 236,
   "id": "6e59be56",
   "metadata": {},
   "outputs": [
    {
     "name": "stdout",
     "output_type": "stream",
     "text": [
      "number: 1\n",
      "number: 2\n",
      "number: 1\n",
      "number: 3\n",
      "number: 4\n",
      "{1, 2, 3, 4}\n",
      "4\n"
     ]
    }
   ],
   "source": [
    "#81.\n",
    "set1 = set()\n",
    "for i in range (0, 5, 1):\n",
    "    num = int(input('number: '))\n",
    "    set1.add(num)\n",
    "print(set1)\n",
    "print(len(set1))"
   ]
  },
  {
   "cell_type": "code",
   "execution_count": 235,
   "id": "11150dc0",
   "metadata": {},
   "outputs": [
    {
     "name": "stdout",
     "output_type": "stream",
     "text": [
      "number: 1\n",
      "number: 2\n",
      "number: 3\n",
      "number: 3\n",
      "number: 4\n",
      "number: 5\n",
      "{1, 2, 3, 4, 5}\n"
     ]
    }
   ],
   "source": [
    "#82.\n",
    "set1 = set()\n",
    "\n",
    "while len(set1) != 5:\n",
    "    num = int(input('number: '))\n",
    "    set1.add(num)\n",
    "print(set1)"
   ]
  },
  {
   "cell_type": "code",
   "execution_count": 87,
   "id": "44ee87c6",
   "metadata": {},
   "outputs": [
    {
     "name": "stdout",
     "output_type": "stream",
     "text": [
      "text: 3\n",
      "{1, 2, 3, 'b', 'a', 'c'}\n"
     ]
    }
   ],
   "source": [
    "#83.\n",
    "set1 = {1, 2, 3, 'a', 'b', 'c'}\n",
    "\n",
    "str1 = str(input('text: '))\n",
    "if str1 in set1:\n",
    "    set1.remove(str1)\n",
    "print(set1)"
   ]
  },
  {
   "cell_type": "code",
   "execution_count": 100,
   "id": "d2deb2e9",
   "metadata": {},
   "outputs": [
    {
     "name": "stdout",
     "output_type": "stream",
     "text": [
      "{'t', 'r', 'n'}\n",
      "{'t', 'e', 'n'}\n"
     ]
    }
   ],
   "source": [
    "#84.\n",
    "list1 = ['t', 'u', 'r', 'i', 'n', 'g']\n",
    "tuple1 = ('n', 'e', 'w', 't', 'o', 'n')\n",
    "list_tuple1 = list(tuple1)\n",
    "\n",
    "set1 = set()\n",
    "for i in range (0, len(list1), 2):\n",
    "    set1.add(list1[i])\n",
    "print(set1)\n",
    "\n",
    "set2 = set()\n",
    "for j in range (1, len(list_tuple1), 2):\n",
    "    set2.add(list_tuple1[j])\n",
    "print(set2)"
   ]
  },
  {
   "cell_type": "code",
   "execution_count": 101,
   "id": "dbad72f2",
   "metadata": {},
   "outputs": [
    {
     "name": "stdout",
     "output_type": "stream",
     "text": [
      "{'t', 'r', 'e', 'n'}\n"
     ]
    }
   ],
   "source": [
    "#85.\n",
    "set1 = {'t', 'r', 'n'}\n",
    "set2 = {'t', 'e', 'n'}\n",
    "set3 = set1 | set2\n",
    "print(set3)"
   ]
  },
  {
   "cell_type": "code",
   "execution_count": 102,
   "id": "00cf0860",
   "metadata": {},
   "outputs": [
    {
     "name": "stdout",
     "output_type": "stream",
     "text": [
      "{'t', 'n'}\n"
     ]
    }
   ],
   "source": [
    "#86.\n",
    "set1 = {'t', 'r', 'n'}\n",
    "set2 = {'t', 'e', 'n'}\n",
    "set3 = set1 & set2\n",
    "print(set3)"
   ]
  },
  {
   "cell_type": "code",
   "execution_count": 238,
   "id": "7c78c9a6",
   "metadata": {},
   "outputs": [
    {
     "name": "stdout",
     "output_type": "stream",
     "text": [
      "set1: a\n",
      "set1: b\n",
      "set1: c\n",
      "set2: c\n",
      "set2: d\n",
      "set2: e\n",
      "{'b', 'a'}\n",
      "{'e', 'd'}\n"
     ]
    }
   ],
   "source": [
    "#87.\n",
    "set1 = set()\n",
    "set2 = set()\n",
    "\n",
    "while len(set1) <3:\n",
    "    int_set1 = str(input('set1: '))\n",
    "    set1.add(int_set1)\n",
    "    \n",
    "while len(set2) < 3:\n",
    "    int_set2 = str(input('set2: '))\n",
    "    set2.add(int_set2)\n",
    "    \n",
    "set3 = set1 - set2\n",
    "print(set3)\n",
    "set3 = set2 - set1\n",
    "print(set3)"
   ]
  },
  {
   "cell_type": "code",
   "execution_count": 115,
   "id": "b66407a7",
   "metadata": {},
   "outputs": [
    {
     "name": "stdout",
     "output_type": "stream",
     "text": [
      "number: 45.2\n",
      "number: 12.0\n",
      "number: 0.25\n",
      "number: 4.15\n",
      "number: 7.1\n",
      "45.2\n"
     ]
    }
   ],
   "source": [
    "#88.\n",
    "list1 = []\n",
    "for i in range (0, 5, 1):\n",
    "    number = float(input('number: '))\n",
    "    list1.append(number)\n",
    "print(max(list1))"
   ]
  },
  {
   "cell_type": "code",
   "execution_count": 239,
   "id": "741ff45e",
   "metadata": {},
   "outputs": [
    {
     "name": "stdout",
     "output_type": "stream",
     "text": [
      "number: 1\n",
      "number: 2\n",
      "number: 5\n",
      "number: 5\n",
      "number: 4\n",
      "5.0 2\n"
     ]
    }
   ],
   "source": [
    "#89.\n",
    "list1 = []\n",
    "for i in range (0, 5, 1):\n",
    "    num = float(input('number: '))\n",
    "    list1.append(num)\n",
    "    \n",
    "n = 0\n",
    "for j in range (0, len(list1), 1):\n",
    "    if max(list1) == list1[j]:\n",
    "        n = n + 1\n",
    "print(max(list1), n)"
   ]
  },
  {
   "cell_type": "code",
   "execution_count": 242,
   "id": "1083be91",
   "metadata": {},
   "outputs": [
    {
     "name": "stdout",
     "output_type": "stream",
     "text": [
      "Brazil_income: 3500\n",
      "China_income: 2500\n",
      "Germany_income: 2000\n",
      "Japan_income: 3000\n",
      "Sweden_income: 1500\n",
      "{'Brazil': 3500.0, 'China': 2500.0, 'Germany': 2000.0, 'Japan': 3000.0, 'Sweden': 1500.0}\n",
      "Brazil 3500.0\n"
     ]
    }
   ],
   "source": [
    "#90.\n",
    "country = ['Brazil', 'China', 'Germany', 'Japan', 'Sweden']\n",
    "dict1 = dict()\n",
    "for i in country:\n",
    "    income = float(input(i+'_income: '))\n",
    "    dict1[i] = income\n",
    "print(dict1)\n",
    "\n",
    "for i in dict1:\n",
    "    if max(dict1.values()) == dict1[i]:\n",
    "        print(i, dict1[i])"
   ]
  },
  {
   "cell_type": "code",
   "execution_count": 114,
   "id": "df0e7218",
   "metadata": {},
   "outputs": [
    {
     "name": "stdout",
     "output_type": "stream",
     "text": [
      "number: 56.2\n",
      "number: 10.4\n",
      "number: 522.3\n",
      "number: 15442.2\n",
      "number: 0.25\n",
      "0.25\n"
     ]
    }
   ],
   "source": [
    "#91.\n",
    "list1 = []\n",
    "for i in range (0, 5, 1):\n",
    "    num = float(input('number: '))\n",
    "    list1.append(num)\n",
    "print(min(list1))"
   ]
  },
  {
   "cell_type": "code",
   "execution_count": 118,
   "id": "66c4832c",
   "metadata": {},
   "outputs": [
    {
     "name": "stdout",
     "output_type": "stream",
     "text": [
      "number: 1\n",
      "number: 2\n",
      "number: 1\n",
      "number: 1\n",
      "number: 5\n",
      "1.0 3\n"
     ]
    }
   ],
   "source": [
    "#92.\n",
    "list1 = []\n",
    "for i in range (0, 5, 1):\n",
    "    num = float(input('number: '))\n",
    "    list1.append(num)\n",
    "\n",
    "n = 0\n",
    "for j in list1:\n",
    "    if min(list1) == j:\n",
    "        n = n + 1\n",
    "print(min(list1), n)"
   ]
  },
  {
   "cell_type": "code",
   "execution_count": 249,
   "id": "0da4cc73",
   "metadata": {},
   "outputs": [
    {
     "name": "stdout",
     "output_type": "stream",
     "text": [
      "Brazil_income: 3500\n",
      "China_income: 2500\n",
      "Germany_income: 2000\n",
      "Japan_income: 3000\n",
      "Sweden_income: 1500\n",
      "{'Brazil': 3500.0, 'China': 2500.0, 'Germany': 2000.0, 'Japan': 3000.0, 'Sweden': 1500.0}\n",
      "Sweden 1500.0\n"
     ]
    }
   ],
   "source": [
    "#93.\n",
    "country = ['Brazil', 'China', 'Germany', 'Japan', 'Sweden']\n",
    "dict1 = dict()\n",
    "for i in country:\n",
    "    income = float(input(i+'_income: '))\n",
    "    dict1[i] = income\n",
    "print(dict1)\n",
    "\n",
    "for j in dict1:\n",
    "    if min(dict1.values()) == dict1[j]:\n",
    "        print(j, dict1[j])"
   ]
  },
  {
   "cell_type": "code",
   "execution_count": 251,
   "id": "fc78ee83",
   "metadata": {},
   "outputs": [
    {
     "name": "stdout",
     "output_type": "stream",
     "text": [
      "[1, 1, 2, 3, 5, 7, 7, 8, 9]\n",
      "5\n"
     ]
    }
   ],
   "source": [
    "#94.\n",
    "list1 = [1, 3, 7, 9, 2, 7, 5, 1, 8]\n",
    "list1.sort()\n",
    "print(list1)\n",
    "length = len(list1) + 1\n",
    "center = int(length//2)\n",
    "if length%2 == 0:\n",
    "    median = list1[center-1]\n",
    "else:\n",
    "    median = (list1[center-1] + list1[center])/2\n",
    "print(median)"
   ]
  },
  {
   "cell_type": "code",
   "execution_count": 254,
   "id": "98726660",
   "metadata": {},
   "outputs": [
    {
     "name": "stdout",
     "output_type": "stream",
     "text": [
      "[1, 2, 3, 5, 5, 6, 7, 7, 8, 9]\n",
      "5.5\n"
     ]
    }
   ],
   "source": [
    "#95.\n",
    "list1 = [6, 5, 7, 9, 8, 1, 3, 5, 7, 2]\n",
    "list1.sort()\n",
    "print(list1)\n",
    "length = len(list1) + 1\n",
    "center = int(length//2)\n",
    "if length%2 == 0:\n",
    "    median = list1[center-1]\n",
    "else:\n",
    "    median = (list1[center-1] + list1[center])/2\n",
    "print(median)"
   ]
  },
  {
   "cell_type": "code",
   "execution_count": 278,
   "id": "c4d028f4",
   "metadata": {},
   "outputs": [
    {
     "name": "stdout",
     "output_type": "stream",
     "text": [
      "[17000, 24000, 35000, 42000, 53000]\n",
      "Brazil 35000\n"
     ]
    }
   ],
   "source": [
    "#96.\n",
    "data = {'Brazil':35000, 'China':24000, 'Germany':42000, 'Japan':53000, 'Sweden':17000}\n",
    "\n",
    "list1 = sorted(data.values())\n",
    "print(list1)\n",
    "\n",
    "length = len(list1) + 1\n",
    "center = int(length//2)\n",
    "if length%2 == 0:\n",
    "    median = list1[center-1]\n",
    "else:\n",
    "    median = (list1[center-1] + list1[center])/2\n",
    "\n",
    "for i in data.keys():\n",
    "    if data[i] == median:\n",
    "        print(i, median)"
   ]
  },
  {
   "cell_type": "code",
   "execution_count": 280,
   "id": "af7da94d",
   "metadata": {},
   "outputs": [
    {
     "name": "stdout",
     "output_type": "stream",
     "text": [
      "Number: 5\n",
      "Number: 3\n",
      "Number: 2\n",
      "Number: 3\n",
      "Number: 4\n",
      "{2.0, 3.0, 4.0, 5.0}\n"
     ]
    }
   ],
   "source": [
    "#97.* Ans\n",
    "list1 = []\n",
    "for i in range (5):\n",
    "    number = float(input('Number: '))\n",
    "    list1.append(number)\n",
    "set1 = set(list1)\n",
    "print(set1)"
   ]
  },
  {
   "cell_type": "code",
   "execution_count": 99,
   "id": "d87320b5",
   "metadata": {},
   "outputs": [
    {
     "name": "stdout",
     "output_type": "stream",
     "text": [
      "data: 1\n",
      "data: 2\n",
      "data: 2\n",
      "data: 3\n",
      "data: 3\n",
      "data: 3\n",
      "data: 4\n",
      "data: 4\n",
      "data: 4\n",
      "data: 4\n",
      "data: 5\n",
      "[1.0, 2.0, 2.0, 3.0, 3.0, 3.0, 4.0, 4.0, 4.0, 4.0, 5.0]\n",
      "[1.0, 2.0, 3.0, 4.0, 5.0]\n"
     ]
    }
   ],
   "source": [
    "#97. while\n",
    "list1 = []\n",
    "list2 = []\n",
    "while len(list2) < 5:\n",
    "    data = float(input('data: '))\n",
    "    list1.append(data)\n",
    "    if (data in list2) == False:\n",
    "        list2.append(data)\n",
    "print(list1)\n",
    "print(list2)"
   ]
  },
  {
   "cell_type": "code",
   "execution_count": 106,
   "id": "f540526d",
   "metadata": {},
   "outputs": [
    {
     "name": "stdout",
     "output_type": "stream",
     "text": [
      "data: 1\n",
      "data: 2\n",
      "data: 2\n",
      "data: 3\n",
      "data: 3\n",
      "data: 3\n",
      "data: 4\n",
      "data: 4\n",
      "data: 4\n",
      "data: 4\n",
      "data: 5\n",
      "[1.0, 2.0, 2.0, 3.0, 3.0, 3.0, 4.0, 4.0, 4.0, 4.0, 5.0]\n",
      "[1.0, 2.0, 3.0, 4.0, 5.0]\n"
     ]
    }
   ],
   "source": [
    "#97. for\n",
    "list1 = []\n",
    "list2 = []\n",
    "for i in range (0, 100, 1):\n",
    "    data = float(input('data: '))\n",
    "    list1.append(data)\n",
    "    if (data in list2) == False:\n",
    "        list2.append(data)\n",
    "    if len(list2) == 5:\n",
    "        break\n",
    "print(list1)\n",
    "print(list2)"
   ]
  },
  {
   "cell_type": "code",
   "execution_count": 283,
   "id": "fc3934bd",
   "metadata": {},
   "outputs": [
    {
     "name": "stdout",
     "output_type": "stream",
     "text": [
      "Number:1\n",
      "Number:3\n",
      "Number:3\n",
      "Number:2\n",
      "Number:4\n",
      "{1.0: 1, 2.0: 1, 3.0: 2, 4.0: 1}\n"
     ]
    }
   ],
   "source": [
    "#98.* Ans\n",
    "list1 = []\n",
    "for i in range (5):\n",
    "    number = float(input('Number:' ))\n",
    "    list1.append(number)\n",
    "set1 = set(list1)\n",
    "dict1 = {}\n",
    "for x in set1:\n",
    "    n = list1.count(x)\n",
    "    dict1[x] = n\n",
    "print(dict1)"
   ]
  },
  {
   "cell_type": "code",
   "execution_count": 103,
   "id": "91449af6",
   "metadata": {},
   "outputs": [
    {
     "name": "stdout",
     "output_type": "stream",
     "text": [
      "data: 1\n",
      "data: 2\n",
      "data: 2\n",
      "data: 3\n",
      "data: 3\n",
      "data: 3\n",
      "data: 3\n",
      "data: 4\n",
      "data: 4\n",
      "data: 4\n",
      "data: 44\n",
      "{1.0: 1, 2.0: 2, 3.0: 4, 4.0: 3, 44.0: 1}\n"
     ]
    }
   ],
   "source": [
    "#98. while\n",
    "list1 = []\n",
    "list2 = []\n",
    "while len(list2) < 5:\n",
    "    data = float(input('data: '))\n",
    "    list1.append(data)\n",
    "    if (data in list2) == False:\n",
    "        list2.append(data)\n",
    "dict1 = dict()\n",
    "for i in list2:\n",
    "    n = 0\n",
    "    for j in list1:\n",
    "        if i == j:\n",
    "            n = n + 1\n",
    "    dict1[i] = n\n",
    "print(dict1)"
   ]
  },
  {
   "cell_type": "code",
   "execution_count": 109,
   "id": "0f78c9a0",
   "metadata": {},
   "outputs": [
    {
     "name": "stdout",
     "output_type": "stream",
     "text": [
      "data: 2\n",
      "data: 1\n",
      "data: 2\n",
      "data: 3\n",
      "data: 3\n",
      "data: 3\n",
      "data: 4\n",
      "data: 4\n",
      "data: 4\n",
      "data: 4\n",
      "data: 5\n",
      "{2.0: 2, 1.0: 1, 3.0: 3, 4.0: 4, 5.0: 1}\n"
     ]
    }
   ],
   "source": [
    "#98. for\n",
    "list1 = []\n",
    "list2 = []\n",
    "for i in range (0, 100, 1):\n",
    "    data = float(input('data: '))\n",
    "    list1.append(data)\n",
    "    if (data in list2) == False:\n",
    "        list2.append(data)\n",
    "    if len(list2) == 5:\n",
    "        break\n",
    "        \n",
    "dict1 = dict()\n",
    "for i in list2:\n",
    "    n = 0\n",
    "    for j in list1:\n",
    "        if i == j:\n",
    "            n = n + 1\n",
    "    dict1[i] = n\n",
    "print(dict1)"
   ]
  },
  {
   "cell_type": "code",
   "execution_count": 285,
   "id": "e5592d56",
   "metadata": {},
   "outputs": [
    {
     "name": "stdout",
     "output_type": "stream",
     "text": [
      "number: 3\n",
      "number: 3\n",
      "number: 4\n",
      "number: 4\n",
      "number: 1\n",
      "3.0 2\n",
      "4.0 2\n"
     ]
    }
   ],
   "source": [
    "#99.\n",
    "list1 = []\n",
    "for i in range (0, 5, 1):\n",
    "    num = float(input('number: '))\n",
    "    list1.append(num)\n",
    "\n",
    "set1 = set(list1)\n",
    "dict1 = dict()\n",
    "for j in set1:\n",
    "    n = 0\n",
    "    for k in list1:\n",
    "        if j == k:\n",
    "            n = n + 1\n",
    "    dict1[j] = n\n",
    "\n",
    "for l in dict1:\n",
    "    if max(dict1.values()) == dict1[l]:\n",
    "        print(l, dict1[l])"
   ]
  },
  {
   "cell_type": "code",
   "execution_count": 291,
   "id": "45fcb374",
   "metadata": {},
   "outputs": [
    {
     "name": "stdout",
     "output_type": "stream",
     "text": [
      "xxxxxxxxxx"
     ]
    }
   ],
   "source": [
    "#100. * Ans\n",
    "for i in range(10):\n",
    "    print('x', end = '')"
   ]
  },
  {
   "cell_type": "code",
   "execution_count": 47,
   "id": "701653dd",
   "metadata": {},
   "outputs": [
    {
     "name": "stdout",
     "output_type": "stream",
     "text": [
      "xxxxxxxxxx\n"
     ]
    }
   ],
   "source": [
    "#100. *\n",
    "x = ''\n",
    "for i in range (0, 10, 1):\n",
    "    x += 'x'\n",
    "print(x)"
   ]
  },
  {
   "cell_type": "code",
   "execution_count": 427,
   "id": "2fd98206",
   "metadata": {},
   "outputs": [
    {
     "name": "stdout",
     "output_type": "stream",
     "text": [
      "xxxxxxxxxx\n",
      "xxxxxxxxxx\n",
      "xxxxxxxxxx\n",
      "xxxxxxxxxx\n",
      "xxxxxxxxxx\n",
      "xxxxxxxxxx\n",
      "xxxxxxxxxx\n",
      "xxxxxxxxxx\n",
      "xxxxxxxxxx\n",
      "xxxxxxxxxx\n"
     ]
    }
   ],
   "source": [
    "#101.\n",
    "for i in range (0, 10, 1):\n",
    "    x = 'x'*10\n",
    "    print(x)"
   ]
  },
  {
   "cell_type": "code",
   "execution_count": 430,
   "id": "e87740f3",
   "metadata": {},
   "outputs": [
    {
     "name": "stdout",
     "output_type": "stream",
     "text": [
      "x\n",
      "xx\n",
      "xxx\n",
      "xxxx\n",
      "xxxxx\n",
      "xxxxxx\n",
      "xxxxxxx\n",
      "xxxxxxxx\n",
      "xxxxxxxxx\n",
      "xxxxxxxxxx\n"
     ]
    }
   ],
   "source": [
    "#102.\n",
    "for i in range (1, 11, 1):\n",
    "    x = 'x' * i\n",
    "    print(x)"
   ]
  },
  {
   "cell_type": "code",
   "execution_count": 404,
   "id": "7606e74d",
   "metadata": {},
   "outputs": [
    {
     "name": "stdout",
     "output_type": "stream",
     "text": [
      "xxxxxxxxxx\n",
      "xxxxxxxxx\n",
      "xxxxxxxx\n",
      "xxxxxxx\n",
      "xxxxxx\n",
      "xxxxx\n",
      "xxxx\n",
      "xxx\n",
      "xx\n",
      "x\n"
     ]
    }
   ],
   "source": [
    "#103.\n",
    "for i in range (10, 0, -1):\n",
    "    x = 'x' * i\n",
    "    print(x)"
   ]
  },
  {
   "cell_type": "code",
   "execution_count": 483,
   "id": "1aaec45b",
   "metadata": {},
   "outputs": [
    {
     "name": "stdout",
     "output_type": "stream",
     "text": [
      "---x\n",
      "--xxx\n",
      "-xxxxx\n",
      "xxxxxxx\n"
     ]
    }
   ],
   "source": [
    "#104.\n",
    "j = 1\n",
    "for i in range (3, -1, -1):\n",
    "    text = ('-'*i) + ('x'*j)\n",
    "    j = j + 2\n",
    "    print(text)"
   ]
  },
  {
   "cell_type": "code",
   "execution_count": 485,
   "id": "0a1507e6",
   "metadata": {},
   "outputs": [
    {
     "name": "stdout",
     "output_type": "stream",
     "text": [
      "xxxxxxx\n",
      "-xxxxx\n",
      "--xxx\n",
      "---x\n"
     ]
    }
   ],
   "source": [
    "#105.\n",
    "j = 0\n",
    "for i in range (7, 0, -2):\n",
    "    text = ('-'*j) + ('x'*i)\n",
    "    j = j + 1\n",
    "    print(text)"
   ]
  },
  {
   "cell_type": "code",
   "execution_count": 292,
   "id": "08be8a8c",
   "metadata": {},
   "outputs": [
    {
     "name": "stdout",
     "output_type": "stream",
     "text": [
      "x-----x\n",
      "-x---x-\n",
      "--x-x--\n",
      "---x---\n",
      "--x-x--\n",
      "-x---x-\n",
      "x-----x\n"
     ]
    }
   ],
   "source": [
    "#106. * Ans\n",
    "for i in range (7):\n",
    "    for j in range (7):\n",
    "        if (i==j) or (i+j == 6):\n",
    "            print('x', end = '')\n",
    "        else:\n",
    "            print('-', end = '')\n",
    "    print()"
   ]
  },
  {
   "cell_type": "code",
   "execution_count": 525,
   "id": "41cf0016",
   "metadata": {},
   "outputs": [
    {
     "name": "stdout",
     "output_type": "stream",
     "text": [
      "x-----x\n",
      "-x---x-\n",
      "--x-x--\n",
      "---x---\n",
      "--x-x--\n",
      "-x---x-\n",
      "x-----x\n"
     ]
    }
   ],
   "source": [
    "#106. *\n",
    "for i in range (0, 7, 1):\n",
    "    list1 = list('-'*7)\n",
    "    list1[0+i] = 'x'\n",
    "    list1[(len(list1)-1) - i] = 'x'\n",
    "    text = ''.join(list1)\n",
    "    print(text)"
   ]
  },
  {
   "cell_type": "code",
   "execution_count": 293,
   "id": "fd25fd04",
   "metadata": {},
   "outputs": [
    {
     "name": "stdout",
     "output_type": "stream",
     "text": [
      "---x---\n",
      "--x-x--\n",
      "-x---x-\n",
      "x-----x\n",
      "-x---x-\n",
      "--x-x--\n",
      "---x---\n"
     ]
    }
   ],
   "source": [
    "#107.* Ans.\n",
    "for i in range (7):\n",
    "    for j in range (7):\n",
    "        if (j == abs(3-i)) or (j == 6 - abs(3-i)):\n",
    "            print('x', end = '')\n",
    "        else:\n",
    "            print('-', end = '')\n",
    "    print()"
   ]
  },
  {
   "cell_type": "code",
   "execution_count": 80,
   "id": "a4773973",
   "metadata": {},
   "outputs": [
    {
     "name": "stdout",
     "output_type": "stream",
     "text": [
      "---x---\n",
      "--x-x--\n",
      "-x---x-\n",
      "x-----x\n",
      "-x---x-\n",
      "--x-x--\n",
      "---x---\n"
     ]
    }
   ],
   "source": [
    "#107. for\n",
    "for i in range (0, 4, 1):\n",
    "    list1 = list('-'*7)\n",
    "    list1[3-i] = 'x'\n",
    "    list1[3+i] = 'x'\n",
    "    text = ''.join(list1)\n",
    "    print(text)\n",
    "for j in range (0, 3, 1):\n",
    "    list1 = list('-'*7)\n",
    "    list1[j+1] = 'x'\n",
    "    list1[5-j] = 'x'\n",
    "    text = ''.join(list1)\n",
    "    print(text)"
   ]
  },
  {
   "cell_type": "code",
   "execution_count": 86,
   "id": "66768181",
   "metadata": {},
   "outputs": [
    {
     "name": "stdout",
     "output_type": "stream",
     "text": [
      "---x---\n",
      "--x-x--\n",
      "-x---x-\n",
      "x-----x\n",
      "-x---x-\n",
      "--x-x--\n",
      "---x---\n"
     ]
    }
   ],
   "source": [
    "#107. while\n",
    "i = 0\n",
    "while i <= 3:\n",
    "    list1 = list('-'*7)\n",
    "    list1[3-i] = 'x'\n",
    "    list1[3+i] = 'x'\n",
    "    text = ''.join(list1)\n",
    "    i = i + 1\n",
    "    print(text)\n",
    "\n",
    "j = 0\n",
    "while j <= 2:\n",
    "    list1 = list('-'*7)\n",
    "    list1[j+1] = 'x'\n",
    "    list1[5-j] = 'x'\n",
    "    text = ''.join(list1)\n",
    "    j = j + 1\n",
    "    print(text)"
   ]
  },
  {
   "cell_type": "code",
   "execution_count": 550,
   "id": "b5b3d119",
   "metadata": {},
   "outputs": [
    {
     "name": "stdout",
     "output_type": "stream",
     "text": [
      "---------x\n",
      "--------x\n",
      "-------x\n",
      "------x\n",
      "-----x\n",
      "----x\n",
      "---x\n",
      "--x\n",
      "-x\n",
      "x\n"
     ]
    }
   ],
   "source": [
    "#108.* for\n",
    "for i in range (9, -1, -1):\n",
    "    text = ('-'*i) + 'x'\n",
    "    print(text)"
   ]
  },
  {
   "cell_type": "code",
   "execution_count": 557,
   "id": "8982e625",
   "metadata": {},
   "outputs": [
    {
     "name": "stdout",
     "output_type": "stream",
     "text": [
      "---------x\n",
      "--------x\n",
      "-------x\n",
      "------x\n",
      "-----x\n",
      "----x\n",
      "---x\n",
      "--x\n",
      "-x\n",
      "x\n"
     ]
    }
   ],
   "source": [
    "#108. while\n",
    "i = 9\n",
    "while i >= 0:\n",
    "    text = ('-'*i) + 'x'\n",
    "    print(text)\n",
    "    i = i - 1"
   ]
  },
  {
   "cell_type": "code",
   "execution_count": 561,
   "id": "dcdd152d",
   "metadata": {},
   "outputs": [
    {
     "name": "stdout",
     "output_type": "stream",
     "text": [
      "---------x\n",
      "--------xx\n",
      "-------xxx\n",
      "------xxxx\n",
      "-----xxxxx\n",
      "----xxxxxx\n",
      "---xxxxxxx\n",
      "--xxxxxxxx\n",
      "-xxxxxxxxx\n",
      "xxxxxxxxxx\n"
     ]
    }
   ],
   "source": [
    "#109.\n",
    "for i in range (0, 10, 1):\n",
    "    text = ('-'*(9-i)) + ('x'*(1+i))\n",
    "    print(text)"
   ]
  },
  {
   "cell_type": "code",
   "execution_count": 563,
   "id": "770ab80d",
   "metadata": {},
   "outputs": [
    {
     "name": "stdout",
     "output_type": "stream",
     "text": [
      "---------x\n",
      "--------xxx\n",
      "-------xxxxx\n",
      "------xxxxxxx\n",
      "-----xxxxxxxxx\n",
      "----xxxxxxxxxxx\n",
      "---xxxxxxxxxxxxx\n",
      "--xxxxxxxxxxxxxxx\n",
      "-xxxxxxxxxxxxxxxxx\n",
      "xxxxxxxxxxxxxxxxxxx\n"
     ]
    }
   ],
   "source": [
    "#110.\n",
    "j = 1\n",
    "for i in range (0, 10, 1):\n",
    "    text = ('-'*(9-i)) + ('x'*j)\n",
    "    j = j + 2\n",
    "    print(text)"
   ]
  },
  {
   "cell_type": "code",
   "execution_count": 294,
   "id": "1da42e13",
   "metadata": {},
   "outputs": [
    {
     "name": "stdout",
     "output_type": "stream",
     "text": [
      "---------x----------\n",
      "--------xxx---------\n",
      "-------xxxxx--------\n",
      "------xxxxxxx-------\n",
      "-----xxxxxxxxx------\n",
      "----xxxxxxxxxxx-----\n",
      "---xxxxxxxxxxxxx----\n",
      "--xxxxxxxxxxxxxxx---\n",
      "-xxxxxxxxxxxxxxxxx--\n",
      "xxxxxxxxxxxxxxxxxxx-\n"
     ]
    }
   ],
   "source": [
    "#111.* Ans\n",
    "for i in range (10):\n",
    "    for j in range (20):\n",
    "        if 9-i <= j <= 9+i:\n",
    "            print('x', end = '')\n",
    "        else:\n",
    "            print('-', end = '')\n",
    "    print()"
   ]
  },
  {
   "cell_type": "code",
   "execution_count": 566,
   "id": "3346872b",
   "metadata": {},
   "outputs": [
    {
     "name": "stdout",
     "output_type": "stream",
     "text": [
      "---------x----------\n",
      "--------xxx---------\n",
      "-------xxxxx--------\n",
      "------xxxxxxx-------\n",
      "-----xxxxxxxxx------\n",
      "----xxxxxxxxxxx-----\n",
      "---xxxxxxxxxxxxx----\n",
      "--xxxxxxxxxxxxxxx---\n",
      "-xxxxxxxxxxxxxxxxx--\n",
      "xxxxxxxxxxxxxxxxxxx-\n"
     ]
    }
   ],
   "source": [
    "#111.*\n",
    "list1 = list('-'*20)\n",
    "for i in range (0, 10, 1):\n",
    "    list1[9+i] = 'x'\n",
    "    list1[9-i] = 'x'\n",
    "    text = ''.join(list1)\n",
    "    print(text)"
   ]
  },
  {
   "cell_type": "code",
   "execution_count": 600,
   "id": "61163450",
   "metadata": {},
   "outputs": [
    {
     "name": "stdout",
     "output_type": "stream",
     "text": [
      "--------1\n",
      "-------12\n",
      "------123\n",
      "-----1234\n",
      "----12345\n",
      "---123456\n",
      "--1234567\n",
      "-12345678\n",
      "123456789\n"
     ]
    }
   ],
   "source": [
    "#112.* for\n",
    "for i in range (0, 9, 1):\n",
    "    text1 = ('-'*(8-i))\n",
    "    for j in range (1, 10, 1):\n",
    "        text1 = text1 + str(j)\n",
    "        if len(text1) == 9:\n",
    "            break\n",
    "    print(text1)"
   ]
  },
  {
   "cell_type": "code",
   "execution_count": 614,
   "id": "bcb00ca7",
   "metadata": {},
   "outputs": [
    {
     "name": "stdout",
     "output_type": "stream",
     "text": [
      "--------1\n",
      "-------12\n",
      "------123\n",
      "-----1234\n",
      "----12345\n",
      "---123456\n",
      "--1234567\n",
      "-12345678\n",
      "123456789\n"
     ]
    }
   ],
   "source": [
    "#112.* while\n",
    "i = 9\n",
    "while i > 0:\n",
    "    text1 = ('-'*(i-1))\n",
    "    i = i - 1\n",
    "    j = 1\n",
    "    while len(text1) < 9:\n",
    "        text1 = text1 + str(j)\n",
    "        j = j + 1\n",
    "    print(text1)\n",
    "    "
   ]
  },
  {
   "cell_type": "code",
   "execution_count": 31,
   "id": "0eb016e3",
   "metadata": {},
   "outputs": [
    {
     "name": "stdout",
     "output_type": "stream",
     "text": [
      "--------1\n",
      "-------121\n",
      "------12321\n",
      "-----1234321\n",
      "----123454321\n",
      "---12345654321\n",
      "--1234567654321\n",
      "-123456787654321\n",
      "12345678987654321\n"
     ]
    }
   ],
   "source": [
    "#113.* for\n",
    "for n in range (1, 10, 1):\n",
    "    text = '-'*(9-n)\n",
    "    for i in range (1, n+1, 1):\n",
    "        text = text + str(i)\n",
    "    for j in range (n-1, 0 , -1):\n",
    "        text = text + str(j)\n",
    "    print(text)"
   ]
  },
  {
   "cell_type": "code",
   "execution_count": 301,
   "id": "ce4de15d",
   "metadata": {},
   "outputs": [
    {
     "name": "stdout",
     "output_type": "stream",
     "text": [
      "โปรดระบุความยาว(เลขคี่): 10\n",
      "123454321\n"
     ]
    }
   ],
   "source": [
    "#113. extra palindrom\n",
    "length = int(input('โปรดระบุความยาว(เลขคี่): '))\n",
    "center = int((length+1)/2)\n",
    "text = ''\n",
    "for i in range (1, center+1, 1):\n",
    "    text = text + str(i)\n",
    "for j in range (center-1, 0, -1):\n",
    "    text = text + str(j)\n",
    "print(text)"
   ]
  },
  {
   "cell_type": "code",
   "execution_count": 32,
   "id": "bf574089",
   "metadata": {},
   "outputs": [
    {
     "name": "stdout",
     "output_type": "stream",
     "text": [
      "--------1\n",
      "-------121\n",
      "------12321\n",
      "-----1234321\n",
      "----123454321\n",
      "---12345654321\n",
      "--1234567654321\n",
      "-123456787654321\n",
      "12345678987654321\n"
     ]
    }
   ],
   "source": [
    "#113. while\n",
    "n = 1\n",
    "while n <= 9:\n",
    "    text = '-'*(9-n)\n",
    "    i = 1\n",
    "    while i <= n:\n",
    "        text = text + str(i)\n",
    "        i = i + 1\n",
    "    j = n - 1\n",
    "    while j >= 1:\n",
    "        text = text + str(j)\n",
    "        j = j - 1\n",
    "    n = n + 1\n",
    "    print(text)"
   ]
  },
  {
   "cell_type": "code",
   "execution_count": 1,
   "id": "72af153c",
   "metadata": {},
   "outputs": [
    {
     "name": "stdout",
     "output_type": "stream",
     "text": [
      "--------1\n",
      "-------121\n",
      "------12321\n",
      "-----1234321\n",
      "----123454321\n",
      "---12345654321\n",
      "--1234567654321\n",
      "-123456787654321\n",
      "12345678987654321\n"
     ]
    }
   ],
   "source": [
    "#114.*\n",
    "for i in range (9):\n",
    "    number = 0\n",
    "    for j in range (9+i):\n",
    "        if (i+j >= 8) and (j <= 8):\n",
    "            number = number + 1\n",
    "            print(number, end = '')\n",
    "        elif (i+j >= 8) and (j > 8):\n",
    "            number = number - 1\n",
    "            print(number, end = '')\n",
    "        else: \n",
    "            print('-', end = '')\n",
    "    print()"
   ]
  },
  {
   "cell_type": "code",
   "execution_count": 40,
   "id": "d51a6535",
   "metadata": {},
   "outputs": [
    {
     "name": "stdout",
     "output_type": "stream",
     "text": [
      "----1\n",
      "---123\n",
      "--54321\n",
      "-1234567\n",
      "987654321\n"
     ]
    }
   ],
   "source": [
    "#114.* Ans.\n",
    "for n in range (1, 6, 1):\n",
    "    text = '-'*(5-n)\n",
    "    if n%2 == 0:\n",
    "        for i in range (1, n*2, 1):\n",
    "            text = text + str(i)\n",
    "    else:\n",
    "        for j in range ((n*2)-1, 0, -1):\n",
    "            text = text + str(j)\n",
    "    print(text)"
   ]
  },
  {
   "cell_type": "code",
   "execution_count": 46,
   "id": "f57223c4",
   "metadata": {},
   "outputs": [
    {
     "name": "stdout",
     "output_type": "stream",
     "text": [
      "----1\n",
      "---12\n",
      "--543\n",
      "-1234\n",
      "98765\n"
     ]
    }
   ],
   "source": [
    "#115.\n",
    "for n in range (1, 6, 1):\n",
    "    text = '-'*(5-n)\n",
    "    if n%2 == 0:\n",
    "        for i in range (1, n+1, 1):\n",
    "            text = text + str(i)\n",
    "    else:\n",
    "        for j in range ((n*2)-1, n-1, -1):\n",
    "            text = text + str(j)\n",
    "    print(text)"
   ]
  }
 ],
 "metadata": {
  "kernelspec": {
   "display_name": "Python 3 (ipykernel)",
   "language": "python",
   "name": "python3"
  },
  "language_info": {
   "codemirror_mode": {
    "name": "ipython",
    "version": 3
   },
   "file_extension": ".py",
   "mimetype": "text/x-python",
   "name": "python",
   "nbconvert_exporter": "python",
   "pygments_lexer": "ipython3",
   "version": "3.9.13"
  }
 },
 "nbformat": 4,
 "nbformat_minor": 5
}
