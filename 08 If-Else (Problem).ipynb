{
 "cells": [
  {
   "cell_type": "markdown",
   "id": "006a0bad",
   "metadata": {},
   "source": [
    "# Problem"
   ]
  },
  {
   "cell_type": "code",
   "execution_count": 1,
   "id": "b9ec08aa",
   "metadata": {},
   "outputs": [
    {
     "name": "stdout",
     "output_type": "stream",
     "text": [
      "Please insert integer: 3\n",
      "3 เป็นจำนวนคี่\n"
     ]
    }
   ],
   "source": [
    "#1.\n",
    "number = int(input('Please insert integer: '))\n",
    "if number%2 == 0:\n",
    "    print(number, 'เป็นจำนวนคู่')\n",
    "else:\n",
    "    print(number, \"เป็นจำนวนคี่\")"
   ]
  },
  {
   "cell_type": "code",
   "execution_count": 2,
   "id": "5069ad50",
   "metadata": {},
   "outputs": [
    {
     "name": "stdout",
     "output_type": "stream",
     "text": [
      "Please insert integer: 8\n",
      "8 มากกว่า 0\n"
     ]
    }
   ],
   "source": [
    "#2.\n",
    "n = int(input('Please insert integer: '))\n",
    "if n > 0:\n",
    "    print(n, 'มากกว่า 0')\n",
    "else:\n",
    "    print(n, 'น้อยกว่าหรือเท่ากับ 0')"
   ]
  },
  {
   "cell_type": "code",
   "execution_count": 17,
   "id": "a5f18ed7",
   "metadata": {},
   "outputs": [
    {
     "name": "stdout",
     "output_type": "stream",
     "text": [
      "Please insert number: 0\n",
      "0.0 is zero\n"
     ]
    }
   ],
   "source": [
    "#3.\n",
    "real = float(input('Please insert number: '))\n",
    "if real > 0:\n",
    "    print(real, 'is positive')\n",
    "elif real < 0:\n",
    "    print(real, 'is negative')\n",
    "else:\n",
    "    print(real, 'is zero')"
   ]
  },
  {
   "cell_type": "code",
   "execution_count": 26,
   "id": "fc9056c3",
   "metadata": {},
   "outputs": [
    {
     "name": "stdout",
     "output_type": "stream",
     "text": [
      "Please insert integer: 78\n",
      "78 is positive even\n"
     ]
    }
   ],
   "source": [
    "#4.\n",
    "n = int(input('Please insert integer: '))\n",
    "if n > 0:\n",
    "    if n%2 == 0:\n",
    "        print(n, 'is positive even')\n",
    "    else:\n",
    "        print(n, 'is positive odd')\n",
    "elif n < 0:\n",
    "    if n%2 == 0:\n",
    "        print(n, 'is negative even')\n",
    "    else:\n",
    "        print(n, 'is negative odd')\n",
    "else:\n",
    "    if n == 0:\n",
    "        print(n, 'is zero')"
   ]
  },
  {
   "cell_type": "code",
   "execution_count": 5,
   "id": "7e7c5efc",
   "metadata": {},
   "outputs": [
    {
     "name": "stdout",
     "output_type": "stream",
     "text": [
      "Please insert width: 4\n",
      "Please insert lenght: 2\n",
      "พื้นที่สี่เหลี่ยมเท่ากับ 8\n"
     ]
    }
   ],
   "source": [
    "#5.\n",
    "width = int(input('Please insert width: '))\n",
    "length = int(input('Please insert lenght: '))\n",
    "if (width <= 0) or (length <= 0):\n",
    "    print(\"กรุณากรอกจำนวนเต็มบวก\")\n",
    "else:\n",
    "    print(\"พื้นที่สี่เหลี่ยมเท่ากับ\", width * length)"
   ]
  },
  {
   "cell_type": "code",
   "execution_count": 8,
   "id": "fb2348df",
   "metadata": {},
   "outputs": [
    {
     "name": "stdout",
     "output_type": "stream",
     "text": [
      "Please insert ค.ศ.: 1994\n",
      "พ.ศ. 2537\n"
     ]
    }
   ],
   "source": [
    "#6.\n",
    "year = int(input('Please insert ค.ศ.: '))\n",
    "if year >= 0:\n",
    "    year = year + 543\n",
    "    print('พ.ศ.', year)\n",
    "else:\n",
    "    print(\"กรุณากรอกข้อมูลที่มากกว่าหรือเท่ากับ 0\")"
   ]
  },
  {
   "cell_type": "code",
   "execution_count": 52,
   "id": "9206d069",
   "metadata": {},
   "outputs": [
    {
     "name": "stdout",
     "output_type": "stream",
     "text": [
      "Please insert temperature(F): 12\n",
      "cold\n"
     ]
    }
   ],
   "source": [
    "#7.\n",
    "F = float(input('Please insert temperature(F): '))\n",
    "if F >= 32:\n",
    "    C = (5*(F-32))/9\n",
    "    print('%.1f' %C, 'Celsius')\n",
    "else:\n",
    "    print('cold')"
   ]
  },
  {
   "cell_type": "code",
   "execution_count": 11,
   "id": "959f21c2",
   "metadata": {},
   "outputs": [
    {
     "name": "stdout",
     "output_type": "stream",
     "text": [
      "Please insert money(USD): 75\n",
      "2437.5 บาท\n"
     ]
    }
   ],
   "source": [
    "#8.\n",
    "USD = float(input('Please insert money(USD): '))\n",
    "if USD > 0:\n",
    "    THB = USD*32.5\n",
    "    print(THB, 'บาท')\n",
    "else:\n",
    "    print('you don\\'t have have money')"
   ]
  },
  {
   "cell_type": "code",
   "execution_count": 13,
   "id": "39dc88de",
   "metadata": {},
   "outputs": [
    {
     "name": "stdout",
     "output_type": "stream",
     "text": [
      "Please insert your money(bath): 100\n",
      "คุณได้รับเงินจำนวน 3.05 ดอลล่า\n",
      "ธนาคารได้รับกำไร 0.91 บาท\n"
     ]
    }
   ],
   "source": [
    "#9.\n",
    "bath = float(input('Please insert your money(bath): '))\n",
    "if bath > 0:\n",
    "    dollar = bath/32.8\n",
    "    profit = (dollar * 0.30)\n",
    "    print(\"คุณได้รับเงินจำนวน\", '%.2f' %dollar, \"ดอลล่า\")\n",
    "    print(\"ธนาคารได้รับกำไร\", '%.2f' %profit, \"บาท\")\n",
    "else:\n",
    "    print('you don\\'t have have money')"
   ]
  },
  {
   "cell_type": "code",
   "execution_count": 17,
   "id": "fd8c831d",
   "metadata": {},
   "outputs": [
    {
     "name": "stdout",
     "output_type": "stream",
     "text": [
      "Please insert number: 10\n",
      "Please insert number: 10\n",
      "10.0 เท่ากับ 10.0\n"
     ]
    }
   ],
   "source": [
    "#10.\n",
    "a = float(input(\"Please insert number: \"))\n",
    "b = float(input(\"Please insert number: \"))\n",
    "if a > b:\n",
    "    print(a, 'มากกว่า', b)\n",
    "elif a < b:\n",
    "    print(a, 'น้อยกว่า', b)\n",
    "else:\n",
    "    print(a, 'เท่ากับ', b)"
   ]
  },
  {
   "cell_type": "code",
   "execution_count": 68,
   "id": "2c1db776",
   "metadata": {},
   "outputs": [
    {
     "name": "stdout",
     "output_type": "stream",
     "text": [
      "Please insert text: dog\n",
      "Please insert text: cats\n",
      "not same\n"
     ]
    }
   ],
   "source": [
    "#11.\n",
    "str1 = str(input('Please insert text: '))\n",
    "str2 = str(input('Please insert text: '))\n",
    "if len(str1) == len(str2):\n",
    "    print('same')\n",
    "else:\n",
    "    print('not same')"
   ]
  },
  {
   "cell_type": "code",
   "execution_count": 19,
   "id": "6b925570",
   "metadata": {},
   "outputs": [
    {
     "name": "stdout",
     "output_type": "stream",
     "text": [
      "Please insert integer: 20\n",
      "20 หารด้วย 3 ไม่ลงตัว\n"
     ]
    }
   ],
   "source": [
    "#12.\n",
    "n = int(input('Please insert integer: '))\n",
    "if n%3 == 0:\n",
    "    print(n, 'หารด้วย 3 ลงตัว')\n",
    "else:\n",
    "    print(n, \"หารด้วย 3 ไม่ลงตัว\")"
   ]
  },
  {
   "cell_type": "code",
   "execution_count": 21,
   "id": "b196c60b",
   "metadata": {},
   "outputs": [
    {
     "name": "stdout",
     "output_type": "stream",
     "text": [
      "Please insert integer: 14\n",
      "14 หารด้วย 3 หรือ 5 ไม่ลงตัว\n"
     ]
    }
   ],
   "source": [
    "#13.\n",
    "n = int(input('Please insert integer: '))\n",
    "if n%3==0 and n%5==0:\n",
    "    print(n, 'หารด้วย 3 และ 5 ลงตัว')\n",
    "else:\n",
    "    print(n, \"หารด้วย 3 หรือ 5 ไม่ลงตัว\")"
   ]
  },
  {
   "cell_type": "code",
   "execution_count": 22,
   "id": "be926773",
   "metadata": {},
   "outputs": [
    {
     "name": "stdout",
     "output_type": "stream",
     "text": [
      "Please insert integer: 11\n",
      "11 หารด้วย 3 และ 5 ไม่ลงตัว\n"
     ]
    }
   ],
   "source": [
    "#14.\n",
    "n = int(input('Please insert integer: '))\n",
    "if n%3==0 or n%5==0:\n",
    "    print(n, 'หารด้วย 3 หรือ 5 ลงตัว')\n",
    "else:\n",
    "    print(n, \"หารด้วย 3 และ 5 ไม่ลงตัว\")"
   ]
  },
  {
   "cell_type": "code",
   "execution_count": 23,
   "id": "51041ad1",
   "metadata": {},
   "outputs": [
    {
     "name": "stdout",
     "output_type": "stream",
     "text": [
      "Please insert number: 1\n",
      "Please insert number: 2\n",
      "Please insert number: 0.5\n",
      "3.0 > 0.5\n"
     ]
    }
   ],
   "source": [
    "#15.\n",
    "a = float(input(\"Please insert number: \"))\n",
    "b = float(input(\"Please insert number: \"))\n",
    "c = float(input(\"Please insert number: \"))\n",
    "if a+b > c:\n",
    "    print(a+b, '>', c)"
   ]
  },
  {
   "cell_type": "code",
   "execution_count": 35,
   "id": "24cfa1d2",
   "metadata": {},
   "outputs": [
    {
     "name": "stdout",
     "output_type": "stream",
     "text": [
      "Please insert hour: 2\n",
      "Please insert minute: 0\n",
      "30\n"
     ]
    }
   ],
   "source": [
    "#16. (Ans.)\n",
    "hour = int(input('Please insert hour: '))\n",
    "minute = int(input('Please insert minute: '))\n",
    "if minute >0:\n",
    "    hour = hour + 1\n",
    "fee = (hour - 1) * 30\n",
    "print(fee)"
   ]
  },
  {
   "cell_type": "code",
   "execution_count": 31,
   "id": "3c34bf58",
   "metadata": {},
   "outputs": [
    {
     "name": "stdout",
     "output_type": "stream",
     "text": [
      "Please insert hour: 1\n",
      "Please insert minute: 2\n",
      "ค่าจอดรถเท่ากับ 30 บาท\n"
     ]
    }
   ],
   "source": [
    "#16. (2)\n",
    "hour = int(input('Please insert hour: '))\n",
    "minute = int(input('Please insert minute: '))\n",
    "time = (hour*60) + minute\n",
    "if time <= 60:\n",
    "    print('ไม่เสียค่าจอดรถ')\n",
    "else:l\n",
    "    time = time - 60\n",
    "    if time%60 == 0:\n",
    "        price = (time/60) *30\n",
    "        print(\"ค่าจอดรถเท่ากับ\", price, \"บาท\")\n",
    "    else:\n",
    "        price = ((time//60)+1) * 30\n",
    "        print(\"ค่าจอดรถเท่ากับ\", price, \"บาท\")"
   ]
  },
  {
   "cell_type": "code",
   "execution_count": 36,
   "id": "c0eb2204",
   "metadata": {},
   "outputs": [
    {
     "name": "stdout",
     "output_type": "stream",
     "text": [
      "Please insert hour: 4\n",
      "Please insert minute: 2\n",
      "60\n"
     ]
    }
   ],
   "source": [
    "#17. (Ans.)\n",
    "hour = int(input('Please insert hour: '))\n",
    "minute = int(input('Please insert minute: '))\n",
    "if hour < 0 or minute <0:\n",
    "    print('โปรดใส่ข้อมูลที่ไม่ติดลบ')\n",
    "else:\n",
    "    if minute > 0:\n",
    "        hour = hour - 1\n",
    "    fee = (hour - 1) * 30\n",
    "    print(fee)"
   ]
  },
  {
   "cell_type": "code",
   "execution_count": null,
   "id": "bed1f510",
   "metadata": {},
   "outputs": [],
   "source": [
    "#17. (2)\n",
    "hour = int(input('Please insert hour: '))\n",
    "minute = int(input('Please insert minute: '))\n",
    "time = (hour*60) + minute\n",
    "if hour < 0 or minute <0:\n",
    "    print('โปรดใส่ข้อมูลที่ไม่ติดลบ')\n",
    "elif time <= 60:\n",
    "    print('ไม่เสียค่าจอดรถ')\n",
    "else:\n",
    "    time = time - 60\n",
    "    if total%60 == 0:\n",
    "        price = (time/60) *30\n",
    "        print(\"ค่าจอดรถเท่ากับ\", price, \"บาท\")\n",
    "    else:\n",
    "        price = ((time//60)+1) * 30\n",
    "        print(\"ค่าจอดรถเท่ากับ\", price, \"บาท\")"
   ]
  },
  {
   "cell_type": "code",
   "execution_count": 43,
   "id": "4c82122d",
   "metadata": {},
   "outputs": [
    {
     "name": "stdout",
     "output_type": "stream",
     "text": [
      "Please insert bill: 15000\n",
      "Please insert hour: 0\n",
      "Please insert minute: 0\n",
      "0\n"
     ]
    }
   ],
   "source": [
    "#18. (Ans.)\n",
    "bill = int(input('Please insert bill: '))\n",
    "hour = int(input('Please insert hour: '))\n",
    "minute = int(input('Please insert minute: '))\n",
    "if minute > 0:\n",
    "    hour = hour + 1\n",
    "    \n",
    "if bill >= 1000:\n",
    "    fee = (hour - 4) * 30\n",
    "    if fee < 0 :\n",
    "        fee = 0\n",
    "else: \n",
    "    fee = (hour - 1) * 30\n",
    "print(fee)"
   ]
  },
  {
   "cell_type": "code",
   "execution_count": null,
   "id": "43560213",
   "metadata": {},
   "outputs": [],
   "source": [
    "#18. (2)\n",
    "bill = float(input('bill: '))\n",
    "hr = int(input('hour: '))\n",
    "min = int(input('min: '))\n",
    "\n",
    "if bill >= 0 and hr >= 0 and min >= 0:\n",
    "  if min >= 60:\n",
    "    if (min%60) == 0:\n",
    "      hr = hr + (min//60)\n",
    "    else:\n",
    "      hr = hr + (min//60) + 1\n",
    "  else:\n",
    "    if min > 0:\n",
    "      hr = hr + 1\n",
    "  if bill > 1000:\n",
    "    hr = hr - 4\n",
    "  else:\n",
    "    hr = hr -1\n",
    "  if hr > 0:\n",
    "    fee = hr * 30\n",
    "    print(\"ค่าบริการจอดรถ\", fee, \"บาท\")\n",
    "  else:\n",
    "    print('ไม่คิดค่าบริการ')\n",
    "else:\n",
    "  print(\"ไม่ใส่จำนวนที่ติดลบ\")"
   ]
  },
  {
   "cell_type": "code",
   "execution_count": 46,
   "id": "6ee2d8a0",
   "metadata": {},
   "outputs": [
    {
     "name": "stdout",
     "output_type": "stream",
     "text": [
      "Please insert bill: 50000\n",
      "ราคาเหลือ 40000.0 บาท\n"
     ]
    }
   ],
   "source": [
    "#19. (Ans.)\n",
    "bill = float(input('Please insert bill: '))\n",
    "if bill >= 50000:\n",
    "    discount = bill * 0.20\n",
    "elif bill > 10000:\n",
    "    discount = bill * 0.15\n",
    "elif bill > 1000:\n",
    "    discount = bill * 0.10\n",
    "else: \n",
    "    discount = 0\n",
    "bill = bill - discount\n",
    "print('ราคาเหลือ', bill, 'บาท')"
   ]
  },
  {
   "cell_type": "code",
   "execution_count": null,
   "id": "7e6874ea",
   "metadata": {},
   "outputs": [],
   "source": [
    "#19. (2)\n",
    "bill = float(input('Please insert bill: '))\n",
    "if bill >= 50000:\n",
    "    bill = bill * 0.80\n",
    "elif bill > 10000:\n",
    "    bill = bill * 0.85\n",
    "elif bill > 1000:\n",
    "    bill = bill * 0.90\n",
    "print('ราคาเหลือ', bill, 'บาท')"
   ]
  },
  {
   "cell_type": "code",
   "execution_count": 182,
   "id": "27cd121c",
   "metadata": {},
   "outputs": [
    {
     "name": "stdout",
     "output_type": "stream",
     "text": [
      "Please insert gender(male or female): female\n",
      "Please insert weight(kg): -9\n",
      "Please insert height(cm): 180\n",
      "คุณผู้หญิงหุ่นดีเยี่ยม\n"
     ]
    }
   ],
   "source": [
    "#20.\n",
    "gender = str(input('Please insert gender(male or female): '))\n",
    "weight = float(input('Please insert weight(kg): '))\n",
    "height = int(input('Please insert height(cm): '))\n",
    "if gender == 'male':\n",
    "    if weight > height - 100:\n",
    "        print(\"ควรออกกำลังกาย\")\n",
    "    else: \n",
    "        print(\"คุณผู้ชายหุ่นดีเยี่ยม\")\n",
    "elif gender == 'female':\n",
    "    if weight > height - 110:\n",
    "        print(\"ควรออกกำลังกาย\")\n",
    "    else: \n",
    "        print(\"คุณผู้หญิงหุ่นดีเยี่ยม\")\n",
    "else: \n",
    "    print(\"โปรดพิมพ์ข้อมูลให้ถูกต้อง\")"
   ]
  },
  {
   "cell_type": "code",
   "execution_count": 194,
   "id": "d2ddcfb1",
   "metadata": {},
   "outputs": [
    {
     "name": "stdout",
     "output_type": "stream",
     "text": [
      "Please insert velocity: 180\n",
      "ออกใบสั่ง\n"
     ]
    }
   ],
   "source": [
    "##21.\n",
    "velocity = float(input('Please insert velocity: '))\n",
    "if velocity > 120:\n",
    "    print(\"ออกใบสั่ง\")"
   ]
  },
  {
   "cell_type": "code",
   "execution_count": 197,
   "id": "c74df9a5",
   "metadata": {},
   "outputs": [
    {
     "name": "stdout",
     "output_type": "stream",
     "text": [
      "Please insert velocity: 20\n"
     ]
    }
   ],
   "source": [
    "##22.\n",
    "velocity = float(input('Please insert velocity: '))\n",
    "if velocity > 120:\n",
    "    print('ปรับ 1,000 บาท')\n",
    "elif velocity > 80:\n",
    "    print('ปรับ 500 บาท')"
   ]
  },
  {
   "cell_type": "code",
   "execution_count": 200,
   "id": "5e1d2f53",
   "metadata": {},
   "outputs": [
    {
     "name": "stdout",
     "output_type": "stream",
     "text": [
      "Please insert time(hr): 2\n",
      "ขอให้มีความสุขกับการฟังเพลง\n"
     ]
    }
   ],
   "source": [
    "#23.\n",
    "listen_time = float(input('Please insert time(hr): '))\n",
    "if listen_time > 4:\n",
    "    print('อันตรายต่อหู')\n",
    "else:\n",
    "    print(\"ขอให้มีความสุขกับการฟังเพลง\")"
   ]
  },
  {
   "cell_type": "code",
   "execution_count": 50,
   "id": "0cff3f3b",
   "metadata": {},
   "outputs": [
    {
     "name": "stdout",
     "output_type": "stream",
     "text": [
      "โปรดเลือกสภาพจราจร \"คล่องตัว\" or \"ปานกลาง\" or \"หนาแน่น\": ฟ\n",
      "โปรดระบุระยะทาง(กม.): 3\n",
      "ค่าโดยสาร 90.0 บาท\n"
     ]
    }
   ],
   "source": [
    "#24. (Ans.)\n",
    "status = str(input('โปรดเลือกสภาพจราจร \\\"คล่องตัว\\\" or \\\"ปานกลาง\\\" or \\\"หนาแน่น\\\": '))\n",
    "distance = float(input('โปรดระบุระยะทาง(กม.): '))\n",
    "\n",
    "if status == 'คล่องตัว':\n",
    "    price = distance * 10\n",
    "elif status == 'ปานกลาง':\n",
    "    price = distance * 12\n",
    "elif status == 'หนาแน่น':\n",
    "    price = distance * 15\n",
    "print('ค่าโดยสาร', price, 'บาท')"
   ]
  },
  {
   "cell_type": "code",
   "execution_count": null,
   "id": "25e9f14e",
   "metadata": {},
   "outputs": [],
   "source": [
    "#24. (2)\n",
    "status = str(input('โปรดเลือกสภาพจราจร \\\"คล่องตัว\\\" or \\\"ปานกลาง\\\" or \\\"หนาแน่น\\\": '))\n",
    "distance = float(input('โปรดระบุระยะทาง(กม.): '))\n",
    "if status != 'คล่องตัว' and status != 'ปานกลาง' and status != 'หนาแน่น':\n",
    "    print('โปรดเลือกสภาพจราจรให้ถูกต้อง')\n",
    "else:\n",
    "    if status == 'คล่องตัว':\n",
    "        price = distance * 10\n",
    "    elif status == 'ปานกลาง':\n",
    "        price = distance * 12\n",
    "    elif status == 'หนาแน่น':\n",
    "        price = distance * 15\n",
    "    print('ค่าโดยสาร', price, 'บาท')"
   ]
  },
  {
   "cell_type": "code",
   "execution_count": 55,
   "id": "6f3fece9",
   "metadata": {},
   "outputs": [
    {
     "name": "stdout",
     "output_type": "stream",
     "text": [
      "โปรดเลือกสภาพจราจร \"คล่องตัว\" or \"ปานกลาง\" or \"หนาแน่น\": คล่องตัว\n",
      "โปรดระบุระยะทาง(กม.): 20\n",
      "ค่าโดยสาร 200.0 บาท\n"
     ]
    }
   ],
   "source": [
    "#24. (3)\n",
    "status = str(input('โปรดเลือกสภาพจราจร \\\"คล่องตัว\\\" or \\\"ปานกลาง\\\" or \\\"หนาแน่น\\\": '))\n",
    "list_status = [\"คล่องตัว\", \"ปานกลาง\", \"หนาแน่น\"]\n",
    "distance = float(input('โปรดระบุระยะทาง(กม.): '))\n",
    "\n",
    "if (status in list_status) == True:\n",
    "    if status == list_status[0]:\n",
    "        price = distance * 10\n",
    "    elif status == list_status[1]:\n",
    "        price = distance * 12\n",
    "    elif status == list_status[2]:\n",
    "        price = distance * 15\n",
    "    print('ค่าโดยสาร', price, 'บาท')\n",
    "else:\n",
    "    print('โปรดเลือกสภาพจราจรให้ถูกต้อง')"
   ]
  },
  {
   "cell_type": "code",
   "execution_count": 54,
   "id": "76aeec48",
   "metadata": {},
   "outputs": [
    {
     "name": "stdout",
     "output_type": "stream",
     "text": [
      "score: 78\n",
      "Pass\n"
     ]
    }
   ],
   "source": [
    "#25.\n",
    "score = int(input('score: '))\n",
    "if score >= 50:\n",
    "    print('Pass')\n",
    "else:\n",
    "    print('Fail')"
   ]
  },
  {
   "cell_type": "code",
   "execution_count": 53,
   "id": "ec8d3e0a",
   "metadata": {},
   "outputs": [
    {
     "name": "stdout",
     "output_type": "stream",
     "text": [
      "score: 84\n",
      "A\n"
     ]
    }
   ],
   "source": [
    "#26.\n",
    "score = int(input('score: '))\n",
    "if score >= 80:\n",
    "    print('A')\n",
    "elif score >= 70:\n",
    "    print('B')\n",
    "elif score >= 60:\n",
    "    print('C')\n",
    "elif score >= 50:\n",
    "    print('D')\n",
    "else:\n",
    "    print('F')"
   ]
  },
  {
   "cell_type": "code",
   "execution_count": 73,
   "id": "22e636df",
   "metadata": {},
   "outputs": [
    {
     "name": "stdout",
     "output_type": "stream",
     "text": [
      "Are you the membership, Yes or No: yes\n",
      "Bill: 6900\n",
      "1035.0\n"
     ]
    }
   ],
   "source": [
    "#27. (Ans)\n",
    "isMember = str(input('Are you the membership, Yes or No: ').lower())\n",
    "bill = float(input('Bill: '))\n",
    "               \n",
    "if isMember == 'yes':\n",
    "    if bill >= 5000:\n",
    "        discount = bill * 0.15\n",
    "    elif bill >= 1000:\n",
    "        discount  bill * 0.10\n",
    "    elif bill >= 500:\n",
    "        discount = bill * 0.05\n",
    "    else:\n",
    "        discount = 0\n",
    "    print(discount)\n",
    "elif isMember == 'no':\n",
    "    discount = 0\n",
    "    print(discount)"
   ]
  },
  {
   "cell_type": "code",
   "execution_count": 76,
   "id": "7502b09c",
   "metadata": {},
   "outputs": [
    {
     "name": "stdout",
     "output_type": "stream",
     "text": [
      "Are you the membership, Yes or No: no\n",
      "Bill: 60\n",
      "0\n"
     ]
    }
   ],
   "source": [
    "#27. (2)\n",
    "isMember = str(input('Are you the membership, Yes or No: ').lower())\n",
    "bill = float(input('Bill: '))\n",
    "               \n",
    "if isMember == 'yes':\n",
    "    if bill >= 5000:\n",
    "        discount = bill * 0.15\n",
    "    elif bill >= 1000:\n",
    "        discount = bill * 0.10\n",
    "    elif bill >= 500:\n",
    "        discount = bill * 0.05\n",
    "    else:\n",
    "        discount = 0\n",
    "elif isMember == 'no':\n",
    "    discount = 0\n",
    "print(discount)"
   ]
  },
  {
   "cell_type": "code",
   "execution_count": 21,
   "id": "3a90959b",
   "metadata": {},
   "outputs": [
    {
     "name": "stdout",
     "output_type": "stream",
     "text": [
      "Are you the membership, Yes or No: no\n",
      "Bill: 900\n",
      "ราคา 900.0 บาท\n"
     ]
    }
   ],
   "source": [
    "#27. (3)\n",
    "isMember = str(input('Are you the membership, Yes or No: ').lower())\n",
    "bill = float(input('Bill: '))\n",
    "               \n",
    "if isMember == 'yes':\n",
    "    if bill >= 5000:\n",
    "        bill = bill * 0.85\n",
    "    elif bill >= 1000:\n",
    "        bill = bill * 0.9\n",
    "    elif bill >= 500:\n",
    "        bill = bill * 0.95 \n",
    "print(\"ราคา\", bill, \"บาท\")"
   ]
  },
  {
   "cell_type": "code",
   "execution_count": 77,
   "id": "9d15e5bb",
   "metadata": {},
   "outputs": [
    {
     "name": "stdout",
     "output_type": "stream",
     "text": [
      "คุณต้องการแลกเงิน USD หรือ JPY: usd\n",
      "ระบุจำนวนที่ต้องการแลก: 500\n",
      "คุณได้รับเงินจำนวน 16250.0 บาท\n"
     ]
    }
   ],
   "source": [
    "#28. (Ans.)\n",
    "currency = str(input('คุณต้องการแลกเงิน USD หรือ JPY: ').upper())\n",
    "amount = float(input('ระบุจำนวนที่ต้องการแลก: '))\n",
    "\n",
    "\n",
    "if currency == 'USD':\n",
    "    THB = amount*32.5\n",
    "elif currency == 'JPY':\n",
    "    THB = amount*0.29\n",
    "print('คุณได้รับเงินจำนวน', THB, 'บาท')"
   ]
  },
  {
   "cell_type": "code",
   "execution_count": null,
   "id": "fd1a8efd",
   "metadata": {},
   "outputs": [],
   "source": [
    "#28. (2)\n",
    "currency = str(input('คุณต้องการแลกเงิน USD หรือ JPY: ').upper())\n",
    "amount = float(input('ระบุจำนวนที่ต้องการแลก: '))\n",
    "if currency != 'USD' and currency != 'JPY':\n",
    "    print('ไม่สามารถแลกเงินสกุล', currency)\n",
    "else:\n",
    "    if currency == 'USD':\n",
    "        THB = amount*32.5\n",
    "    elif currency == 'JPY':\n",
    "        THB = amount*0.29\n",
    "    print('คุณได้รับเงินจำนวน', THB, 'บาท')"
   ]
  },
  {
   "cell_type": "code",
   "execution_count": 7,
   "id": "d8c7a1da",
   "metadata": {},
   "outputs": [
    {
     "name": "stdout",
     "output_type": "stream",
     "text": [
      "คุณต้องการแลกเงิน USD หรือ JPY: thb\n",
      "ระบุจำนวนที่ต้องการแลก: 500\n",
      "ไม่สามารถแลกเงินสกุล THB\n"
     ]
    }
   ],
   "source": [
    "#28. (3)\n",
    "currency = str(input('คุณต้องการแลกเงิน USD หรือ JPY: ').upper())\n",
    "amount = float(input('ระบุจำนวนที่ต้องการแลก: '))\n",
    "if currency == 'USD' or currency == 'JPY':\n",
    "    if currency == 'USD':\n",
    "        THB = amount*32.5\n",
    "    if currency == 'JPY':\n",
    "        THB = amount*0.29\n",
    "    print('คุณได้รับเงินจำนวน', THB, 'บาท')\n",
    "else:\n",
    "    print('ไม่สามารถแลกเงินสกุล', currency)\n",
    "        "
   ]
  },
  {
   "cell_type": "code",
   "execution_count": 94,
   "id": "7f2d91fa",
   "metadata": {},
   "outputs": [
    {
     "name": "stdout",
     "output_type": "stream",
     "text": [
      "Please order \"ไข่ดาว\", \"ไข่เจียว\", \"ไข่ต้ม\": ไข่ดาว\n",
      "ระบุจำนวนที่ต้องการ: 7\n",
      "ราคา 49 บาท\n"
     ]
    }
   ],
   "source": [
    "#29. (Ans.)\n",
    "order = str(input('Please order \"ไข่ดาว\", \"ไข่เจียว\", \"ไข่ต้ม\": '))\n",
    "amount = int(input(\"ระบุจำนวนที่ต้องการ: \"))\n",
    "\n",
    "if order == 'ไข่ดาว':\n",
    "    price = amount * 7\n",
    "    print(\"ราคา\", price, 'บาท')\n",
    "elif order == \"ไข่เจียว\":\n",
    "    price = amount * 10\n",
    "    print(\"ราคา\", price, 'บาท')\n",
    "elif order == \"ไข่ต้ม\":\n",
    "    price = amount * 5\n",
    "    print(\"ราคา\", price, 'บาท')\n",
    "else:\n",
    "    print(\"ร้านเรามีไข่ดาว, ไข่เจียว, ไข่ต้ม\")"
   ]
  },
  {
   "cell_type": "code",
   "execution_count": null,
   "id": "6f51b6c9",
   "metadata": {},
   "outputs": [],
   "source": [
    "#29. (3)\n",
    "order = str(input('Please order \"ไข่ดาว\", \"ไข่เจียว\", \"ไข่ต้ม\": '))\n",
    "order_list = [\"ไข่ดาว\", \"ไข่เจียว\", \"ไข่ต้ม\"]\n",
    "amount = int(input(\"ระบุจำนวนที่ต้องการ: \"))\n",
    "if (order in order_list) == True:\n",
    "    if order == order_list[0]:\n",
    "        price = amount * 7\n",
    "    elif order == order_list[1]:\n",
    "        price = amount * 10\n",
    "    elif order == order_list[2]:\n",
    "        price = amount * 5\n",
    "    print(\"ราคา\", price, 'บาท')\n",
    "else:\n",
    "    print(\"ร้านเรามีไข่ดาว, ไข่เจียว, ไข่ต้ม\")"
   ]
  },
  {
   "cell_type": "code",
   "execution_count": 272,
   "id": "c1dd0226",
   "metadata": {},
   "outputs": [
    {
     "name": "stdout",
     "output_type": "stream",
     "text": [
      "Please order \"ไข่ดาว\", \"ไข่เจียว\", \"ไข่ต้ม\": ไข่เจียว\n",
      "แนะนำให้สั่งคู่กับไข่ลูกเขย\n"
     ]
    }
   ],
   "source": [
    "#30.\n",
    "order = str(input('Please order \"ไข่ดาว\", \"ไข่เจียว\", \"ไข่ต้ม\": '))\n",
    "\n",
    "if order == 'ไข่ดาว':\n",
    "    print(\"แนะนำให้สั่งคู่กับต้มจืดไข่น้ำ\")\n",
    "elif order == 'ไข่เจียว':\n",
    "    print(\"แนะนำให้สั่งคู่กับไข่ลูกเขย\")\n",
    "elif order == 'ไข่ต้ม':\n",
    "    print(\"แนะนำให้สั่งคู่กับยำไข่ดาว\")\n",
    "else:\n",
    "    print(\"ร้านเรามีไข่ดาว, ไข่เจียว, ไข่ต้ม\")"
   ]
  }
 ],
 "metadata": {
  "kernelspec": {
   "display_name": "Python 3 (ipykernel)",
   "language": "python",
   "name": "python3"
  },
  "language_info": {
   "codemirror_mode": {
    "name": "ipython",
    "version": 3
   },
   "file_extension": ".py",
   "mimetype": "text/x-python",
   "name": "python",
   "nbconvert_exporter": "python",
   "pygments_lexer": "ipython3",
   "version": "3.9.13"
  }
 },
 "nbformat": 4,
 "nbformat_minor": 5
}
