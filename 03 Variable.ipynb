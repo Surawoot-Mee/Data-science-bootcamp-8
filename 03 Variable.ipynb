{
 "cells": [
  {
   "cell_type": "markdown",
   "id": "11127f0a",
   "metadata": {},
   "source": [
    "# จงพิจารณาตัวแปรต่อไปนี้ว่าสามารถประกาศได้หรือไม่ ถ้าไม่ได้จงบอกเหตุผล\n",
    "กฎการประกาศตัวแปรทั้ง 3 ข้อ ได้แก่\n",
    "1. ขึ้นต้นด้วย character หรือ underscore\n",
    "2. ไม่มีอักขระพิเศษหรือเว้นวรรคในชื่อตัวแปร\n",
    "    อักขระพิเศษในภาษา python มีดังนี้ {,}, [,], !, @, #, $, %, &, ^, &, *, (,), -, =, /, |, \\, ., <, >\n",
    "3. ไม่มีคำสงวนในภาษา Python\n",
    "    คำสงวนในภาษา python มีดังนี้ and, assert, break, class, continue, def, del, elif, else, except, exec, finally, for, from, global, if, import, in, is, lambda, not, or, pass, print, raise, return, try, while, yield"
   ]
  },
  {
   "cell_type": "code",
   "execution_count": 7,
   "id": "b5b858a0",
   "metadata": {},
   "outputs": [
    {
     "name": "stdout",
     "output_type": "stream",
     "text": [
      "Ong\n"
     ]
    }
   ],
   "source": [
    "name = 'Ong'\n",
    "print(name)"
   ]
  },
  {
   "cell_type": "code",
   "execution_count": 8,
   "id": "c367336a",
   "metadata": {},
   "outputs": [
    {
     "name": "stdout",
     "output_type": "stream",
     "text": [
      "Ong\n"
     ]
    }
   ],
   "source": [
    "_name = 'Ong'\n",
    "print(_name)"
   ]
  },
  {
   "cell_type": "code",
   "execution_count": 10,
   "id": "1dc78557",
   "metadata": {},
   "outputs": [
    {
     "name": "stdout",
     "output_type": "stream",
     "text": [
      "Ong\n"
     ]
    }
   ],
   "source": [
    "name1 = 'Ong'\n",
    "print(name1)"
   ]
  },
  {
   "cell_type": "code",
   "execution_count": 11,
   "id": "e24408ae",
   "metadata": {},
   "outputs": [
    {
     "ename": "SyntaxError",
     "evalue": "invalid syntax (1150321912.py, line 1)",
     "output_type": "error",
     "traceback": [
      "\u001b[0;36m  File \u001b[0;32m\"/var/folders/s8/shrmzzp97z77vt451v71ct700000gn/T/ipykernel_2373/1150321912.py\"\u001b[0;36m, line \u001b[0;32m1\u001b[0m\n\u001b[0;31m    name! = 'ong'\u001b[0m\n\u001b[0m        ^\u001b[0m\n\u001b[0;31mSyntaxError\u001b[0m\u001b[0;31m:\u001b[0m invalid syntax\n"
     ]
    }
   ],
   "source": [
    "name! = 'ong'\n",
    "print(name!)\n",
    "# มีอักขระพิเศษ (!) ในชื่อตัวแปร\n",
    "# อักขระพิเศษในภาษา python มีดังนี้ {,}, [,], !, @, #, $, %, &, ^, &, *, (,), -, =, /, |, \\, ., <, >"
   ]
  },
  {
   "cell_type": "code",
   "execution_count": 12,
   "id": "76717c30",
   "metadata": {},
   "outputs": [
    {
     "ename": "SyntaxError",
     "evalue": "invalid syntax (3939427796.py, line 2)",
     "output_type": "error",
     "traceback": [
      "\u001b[0;36m  File \u001b[0;32m\"/var/folders/s8/shrmzzp97z77vt451v71ct700000gn/T/ipykernel_2373/3939427796.py\"\u001b[0;36m, line \u001b[0;32m2\u001b[0m\n\u001b[0;31m    print(!name)\u001b[0m\n\u001b[0m          ^\u001b[0m\n\u001b[0;31mSyntaxError\u001b[0m\u001b[0;31m:\u001b[0m invalid syntax\n"
     ]
    }
   ],
   "source": [
    "!name = 'ong'\n",
    "print(!name)\n",
    "# มีอักขระพิเศษ (!) ในชื่อตัวแปร\n",
    "# อักขระพิเศษในภาษา python มีดังนี้ {,}, [,], !, @, #, $, %, &, ^, &, *, (,), -, =, /, |, \\, ., <, >"
   ]
  },
  {
   "cell_type": "code",
   "execution_count": 14,
   "id": "49692a3b",
   "metadata": {},
   "outputs": [
    {
     "name": "stdout",
     "output_type": "stream",
     "text": [
      "20\n"
     ]
    }
   ],
   "source": [
    "number = 20\n",
    "print(number)"
   ]
  },
  {
   "cell_type": "code",
   "execution_count": 18,
   "id": "1abd18d8",
   "metadata": {},
   "outputs": [
    {
     "name": "stdout",
     "output_type": "stream",
     "text": [
      "20\n"
     ]
    }
   ],
   "source": [
    "_number = 20\n",
    "print(_number)"
   ]
  },
  {
   "cell_type": "code",
   "execution_count": 19,
   "id": "2e057104",
   "metadata": {},
   "outputs": [
    {
     "ename": "SyntaxError",
     "evalue": "invalid syntax (1456739794.py, line 1)",
     "output_type": "error",
     "traceback": [
      "\u001b[0;36m  File \u001b[0;32m\"/var/folders/s8/shrmzzp97z77vt451v71ct700000gn/T/ipykernel_2373/1456739794.py\"\u001b[0;36m, line \u001b[0;32m1\u001b[0m\n\u001b[0;31m    @number = 20\u001b[0m\n\u001b[0m            ^\u001b[0m\n\u001b[0;31mSyntaxError\u001b[0m\u001b[0;31m:\u001b[0m invalid syntax\n"
     ]
    }
   ],
   "source": [
    "@number = 20\n",
    "print(@number)\n",
    "# มีอักขระพิเศษ (@) ในชื่อตัวแปร\n",
    "# อักขระพิเศษในภาษา python มีดังนี้ {,}, [,], !, @, #, $, %, &, ^, &, *, (,), -, =, /, |, \\, ., <, >"
   ]
  },
  {
   "cell_type": "code",
   "execution_count": 20,
   "id": "4d44a5e5",
   "metadata": {},
   "outputs": [
    {
     "ename": "SyntaxError",
     "evalue": "invalid syntax (1343614411.py, line 1)",
     "output_type": "error",
     "traceback": [
      "\u001b[0;36m  File \u001b[0;32m\"/var/folders/s8/shrmzzp97z77vt451v71ct700000gn/T/ipykernel_2373/1343614411.py\"\u001b[0;36m, line \u001b[0;32m1\u001b[0m\n\u001b[0;31m    number@ = 20\u001b[0m\n\u001b[0m            ^\u001b[0m\n\u001b[0;31mSyntaxError\u001b[0m\u001b[0;31m:\u001b[0m invalid syntax\n"
     ]
    }
   ],
   "source": [
    "number@ = 20\n",
    "print(number@)\n",
    "# มีอักขระพิเศษ (@) ในชื่อตัวแปร\n",
    "# อักขระพิเศษในภาษา python มีดังนี้ {,}, [,], !, @, #, $, %, &, ^, &, *, (,), -, =, /, |, \\, ., <, >"
   ]
  },
  {
   "cell_type": "code",
   "execution_count": 21,
   "id": "0da121fa",
   "metadata": {},
   "outputs": [
    {
     "name": "stdout",
     "output_type": "stream",
     "text": [
      "20\n"
     ]
    }
   ],
   "source": [
    "a5 = 20\n",
    "print(a5)"
   ]
  },
  {
   "cell_type": "code",
   "execution_count": 22,
   "id": "8a1c2072",
   "metadata": {},
   "outputs": [
    {
     "ename": "SyntaxError",
     "evalue": "invalid syntax (3952403040.py, line 1)",
     "output_type": "error",
     "traceback": [
      "\u001b[0;36m  File \u001b[0;32m\"/var/folders/s8/shrmzzp97z77vt451v71ct700000gn/T/ipykernel_2373/3952403040.py\"\u001b[0;36m, line \u001b[0;32m1\u001b[0m\n\u001b[0;31m    5a = 20\u001b[0m\n\u001b[0m     ^\u001b[0m\n\u001b[0;31mSyntaxError\u001b[0m\u001b[0;31m:\u001b[0m invalid syntax\n"
     ]
    }
   ],
   "source": [
    "5a = 20\n",
    "print(5a)\n",
    "# ตัวแปรตั้งขึ้นต้นด้วย character หรือ underscore ไม่ใช่ตัวเลข"
   ]
  },
  {
   "cell_type": "code",
   "execution_count": 23,
   "id": "b11d51f0",
   "metadata": {},
   "outputs": [
    {
     "name": "stdout",
     "output_type": "stream",
     "text": [
      "Hamburger\n"
     ]
    }
   ],
   "source": [
    "favorite_food = 'Hamburger'\n",
    "print(favorite_food)"
   ]
  },
  {
   "cell_type": "code",
   "execution_count": 25,
   "id": "4834dc4f",
   "metadata": {},
   "outputs": [
    {
     "name": "stdout",
     "output_type": "stream",
     "text": [
      "Hamburger\n"
     ]
    }
   ],
   "source": [
    "Favorite_food = 'Hamburger'\n",
    "print(Favorite_food)"
   ]
  },
  {
   "cell_type": "code",
   "execution_count": 27,
   "id": "f37ce97b",
   "metadata": {},
   "outputs": [
    {
     "ename": "SyntaxError",
     "evalue": "invalid syntax (1756760475.py, line 1)",
     "output_type": "error",
     "traceback": [
      "\u001b[0;36m  File \u001b[0;32m\"/var/folders/s8/shrmzzp97z77vt451v71ct700000gn/T/ipykernel_2373/1756760475.py\"\u001b[0;36m, line \u001b[0;32m1\u001b[0m\n\u001b[0;31m    favorite food = 'Hamburger'\u001b[0m\n\u001b[0m             ^\u001b[0m\n\u001b[0;31mSyntaxError\u001b[0m\u001b[0;31m:\u001b[0m invalid syntax\n"
     ]
    }
   ],
   "source": [
    "favorite food = 'Hamburger'\n",
    "print(favorite food)\n",
    "# ต้องไม่มีเว้นวรรคในชื่อตัวแปร"
   ]
  },
  {
   "cell_type": "code",
   "execution_count": 39,
   "id": "724187ec",
   "metadata": {},
   "outputs": [
    {
     "ename": "SyntaxError",
     "evalue": "invalid syntax (2501537915.py, line 1)",
     "output_type": "error",
     "traceback": [
      "\u001b[0;36m  File \u001b[0;32m\"/var/folders/s8/shrmzzp97z77vt451v71ct700000gn/T/ipykernel_2373/2501537915.py\"\u001b[0;36m, line \u001b[0;32m1\u001b[0m\n\u001b[0;31m    if = 7\u001b[0m\n\u001b[0m       ^\u001b[0m\n\u001b[0;31mSyntaxError\u001b[0m\u001b[0;31m:\u001b[0m invalid syntax\n"
     ]
    }
   ],
   "source": [
    "if = 7\n",
    "print(if)\n",
    "# มีคำสงวนในภาษา Python\n",
    "# คำสงวนในภาษา python มีดังนี้ and, assert, break, class, continue, def, del, elif, else, except, exec, finally, \n",
    "# for, from, global, if, import, in, is, lambda, not, or, pass, print, raise, return, try, while, yield"
   ]
  },
  {
   "cell_type": "code",
   "execution_count": 29,
   "id": "5a6401ae",
   "metadata": {},
   "outputs": [
    {
     "ename": "SyntaxError",
     "evalue": "invalid syntax (4178289213.py, line 1)",
     "output_type": "error",
     "traceback": [
      "\u001b[0;36m  File \u001b[0;32m\"/var/folders/s8/shrmzzp97z77vt451v71ct700000gn/T/ipykernel_2373/4178289213.py\"\u001b[0;36m, line \u001b[0;32m1\u001b[0m\n\u001b[0;31m    else = 5\u001b[0m\n\u001b[0m    ^\u001b[0m\n\u001b[0;31mSyntaxError\u001b[0m\u001b[0;31m:\u001b[0m invalid syntax\n"
     ]
    }
   ],
   "source": [
    "else = 5\n",
    "print(else)\n",
    "# มีคำสงวนในภาษา Python\n",
    "# คำสงวนในภาษา python มีดังนี้ and, assert, break, class, continue, def, del, elif, else, except, exec, finally, \n",
    "# for, from, global, if, import, in, is, lambda, not, or, pass, print, raise, return, try, while, yield"
   ]
  },
  {
   "cell_type": "code",
   "execution_count": 30,
   "id": "d3e59a8d",
   "metadata": {},
   "outputs": [
    {
     "ename": "SyntaxError",
     "evalue": "invalid syntax (2988366279.py, line 1)",
     "output_type": "error",
     "traceback": [
      "\u001b[0;36m  File \u001b[0;32m\"/var/folders/s8/shrmzzp97z77vt451v71ct700000gn/T/ipykernel_2373/2988366279.py\"\u001b[0;36m, line \u001b[0;32m1\u001b[0m\n\u001b[0;31m    for = 6\u001b[0m\n\u001b[0m        ^\u001b[0m\n\u001b[0;31mSyntaxError\u001b[0m\u001b[0;31m:\u001b[0m invalid syntax\n"
     ]
    }
   ],
   "source": [
    "for = 6\n",
    "print(for)\n",
    "# มีคำสงวนในภาษา Python\n",
    "# คำสงวนในภาษา python มีดังนี้ and, assert, break, class, continue, def, del, elif, else, except, exec, finally, \n",
    "# for, from, global, if, import, in, is, lambda, not, or, pass, print, raise, return, try, while, yield"
   ]
  },
  {
   "cell_type": "code",
   "execution_count": 36,
   "id": "fc64a69e",
   "metadata": {},
   "outputs": [
    {
     "ename": "SyntaxError",
     "evalue": "cannot assign to literal (2874318038.py, line 1)",
     "output_type": "error",
     "traceback": [
      "\u001b[0;36m  File \u001b[0;32m\"/var/folders/s8/shrmzzp97z77vt451v71ct700000gn/T/ipykernel_2373/2874318038.py\"\u001b[0;36m, line \u001b[0;32m1\u001b[0m\n\u001b[0;31m    a = 5, b = 6, c = 7\u001b[0m\n\u001b[0m        ^\u001b[0m\n\u001b[0;31mSyntaxError\u001b[0m\u001b[0;31m:\u001b[0m cannot assign to literal\n"
     ]
    }
   ],
   "source": [
    "a = 5, b = 6, c = 7\n",
    "print(a, b, c)\n",
    "# ไม่ได้ เพราะ ไม่เป็นไปตามกฎการประกาศตัวแปรหลายตัวพร้อมกัน"
   ]
  },
  {
   "cell_type": "code",
   "execution_count": 37,
   "id": "c084cc21",
   "metadata": {},
   "outputs": [
    {
     "name": "stdout",
     "output_type": "stream",
     "text": [
      "5 6 7\n"
     ]
    }
   ],
   "source": [
    "a, b, c = 5, 6, 7\n",
    "print(a, b, c)\n",
    "# ได้ เพราะ เป็นไปตามกฎการประกาศตัวแปรหลายตัวพร้อมกัน"
   ]
  },
  {
   "cell_type": "code",
   "execution_count": 38,
   "id": "491aea21",
   "metadata": {},
   "outputs": [
    {
     "name": "stdout",
     "output_type": "stream",
     "text": [
      "5 6 7\n"
     ]
    }
   ],
   "source": [
    "a =5; b =6; c=7\n",
    "print(a, b, c)\n",
    "#  ได้ เพราะ การใช้ ; เป็นการบอกขอบเขตคำสั่ง"
   ]
  }
 ],
 "metadata": {
  "kernelspec": {
   "display_name": "Python 3 (ipykernel)",
   "language": "python",
   "name": "python3"
  },
  "language_info": {
   "codemirror_mode": {
    "name": "ipython",
    "version": 3
   },
   "file_extension": ".py",
   "mimetype": "text/x-python",
   "name": "python",
   "nbconvert_exporter": "python",
   "pygments_lexer": "ipython3",
   "version": "3.9.13"
  }
 },
 "nbformat": 4,
 "nbformat_minor": 5
}
