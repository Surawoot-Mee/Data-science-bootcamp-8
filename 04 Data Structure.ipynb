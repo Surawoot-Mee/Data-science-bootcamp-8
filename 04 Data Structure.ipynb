{
 "cells": [
  {
   "cell_type": "markdown",
   "id": "7ede085b",
   "metadata": {},
   "source": [
    "# Data Structure"
   ]
  },
  {
   "cell_type": "markdown",
   "id": "ee47819d",
   "metadata": {},
   "source": [
    "## Numeric"
   ]
  },
  {
   "cell_type": "markdown",
   "id": "13b2fd85",
   "metadata": {},
   "source": [
    "1. เขียนโปรแกรมสร้างตัวแปรชื่อ numeric1 และกำหนดค่าให้เท่ากับ 5 หลังจากนั้นให้ทำการพิมพ์ค่าและชริดข้อมูลของ numeric1 ออกมา"
   ]
  },
  {
   "cell_type": "code",
   "execution_count": 1,
   "id": "bbf15061",
   "metadata": {},
   "outputs": [
    {
     "name": "stdout",
     "output_type": "stream",
     "text": [
      "5 <class 'int'>\n"
     ]
    }
   ],
   "source": [
    "numeric1 = 5\n",
    "print(numeric1, type(numeric1))"
   ]
  },
  {
   "cell_type": "markdown",
   "id": "d2ee695e",
   "metadata": {},
   "source": [
    "2. เขียนโปรแกรมสร้างตัวแปรชื่อ numeric2 และกำหนดค่าให้เท่ากับ -3 หลังจากนั้นให้ทำการพิมพ์ค่าและชนิดข้อมูลของ numeric2 ออกมา"
   ]
  },
  {
   "cell_type": "code",
   "execution_count": 2,
   "id": "bfcf67d4",
   "metadata": {},
   "outputs": [
    {
     "name": "stdout",
     "output_type": "stream",
     "text": [
      "-3 <class 'int'>\n"
     ]
    }
   ],
   "source": [
    "numeric2 = -3\n",
    "print(numeric2, type(numeric2))"
   ]
  },
  {
   "cell_type": "markdown",
   "id": "eaa79f93",
   "metadata": {},
   "source": [
    "3. เขียนโปรแกรมสร้างตัวแปรชื่อ numeric3 และกำหนดค่าให้เท่ากับ 0 หลังจากนั้นให้ทำการพิมพ์ค่าและชนิดข้อมูลของ numeric3 ออกมา"
   ]
  },
  {
   "cell_type": "code",
   "execution_count": 3,
   "id": "33ffc722",
   "metadata": {},
   "outputs": [
    {
     "name": "stdout",
     "output_type": "stream",
     "text": [
      "0 <class 'int'>\n"
     ]
    }
   ],
   "source": [
    "numeric3 = 0\n",
    "print(numeric3, type(numeric3))"
   ]
  },
  {
   "cell_type": "markdown",
   "id": "13211d8b",
   "metadata": {},
   "source": [
    "4. เขียนโปรแกรมรับอินพุต 1 ตัวที่เป็นจำนวนเต็ม หลังจากนั้นให้ทำการพิมพ์ค่า และชนิดข้อมูลของจำนวนที่รับออกมา"
   ]
  },
  {
   "cell_type": "code",
   "execution_count": 5,
   "id": "318d98a2",
   "metadata": {},
   "outputs": [
    {
     "name": "stdout",
     "output_type": "stream",
     "text": [
      "Please insert integer: 60\n",
      "60\n",
      "<class 'int'>\n"
     ]
    }
   ],
   "source": [
    "a = int(input('Please insert integer: '))\n",
    "print(a)\n",
    "print(type(a))"
   ]
  },
  {
   "cell_type": "markdown",
   "id": "079007f6",
   "metadata": {},
   "source": [
    "5. เขียนโปรแกรมสร้างตัวแปรชื่อ numeric1 และกำหนดค่าให้เท่ากับ 5.0 หลังจากนั้นให้ทำการพิมพ์ค่าและชนิดข้อมูลของ numeric1 ออกมา"
   ]
  },
  {
   "cell_type": "code",
   "execution_count": 6,
   "id": "7c8592c9",
   "metadata": {},
   "outputs": [
    {
     "name": "stdout",
     "output_type": "stream",
     "text": [
      "5.0\n",
      "<class 'float'>\n"
     ]
    }
   ],
   "source": [
    "numeric1 = 5.0\n",
    "print(numeric1)\n",
    "print(type(numeric1))"
   ]
  },
  {
   "cell_type": "markdown",
   "id": "9f1ead79",
   "metadata": {},
   "source": [
    "6. เขียนโปรแกรมสร้างตัวแปรชื่อ numeric2 และกำหนดค่าให้เท่ากับ -3.1 หลังจากนั้นให้ทำการพิมพ์ค่าและชนิดข้อมูลของ numeric2 ออกมา"
   ]
  },
  {
   "cell_type": "code",
   "execution_count": 7,
   "id": "5d74a6ab",
   "metadata": {},
   "outputs": [
    {
     "name": "stdout",
     "output_type": "stream",
     "text": [
      "-3.1\n",
      "<class 'float'>\n"
     ]
    }
   ],
   "source": [
    "numeric2 = -3.1\n",
    "print(numeric2)\n",
    "print(type(numeric2))"
   ]
  },
  {
   "cell_type": "markdown",
   "id": "50ed8487",
   "metadata": {},
   "source": [
    "7. เขียนโปรแกรมสร้างตัวแปรชื่อ numeric3 และกำหนดค่าให้เท่ากับ 0.0 หลังจากนั้นให้ทำการพิมพ์ค่าและชนิดข้อมูลของ numeric3 ออกมา"
   ]
  },
  {
   "cell_type": "code",
   "execution_count": 8,
   "id": "020dde7a",
   "metadata": {},
   "outputs": [
    {
     "name": "stdout",
     "output_type": "stream",
     "text": [
      "0.0\n",
      "<class 'float'>\n"
     ]
    }
   ],
   "source": [
    "numeric3 = 0.0\n",
    "print(numeric3)\n",
    "print(type(numeric3))"
   ]
  },
  {
   "cell_type": "markdown",
   "id": "b4b004ef",
   "metadata": {},
   "source": [
    "8. เขียนโปรแกรมรับอินพุต 1 ตัวที่เป็นจำนวนจริง หลังจากนั้นให้ทำการพิมพ์ค่า และชนิดข้อมูลของจำนวนที่รับออกมา"
   ]
  },
  {
   "cell_type": "code",
   "execution_count": 10,
   "id": "44956c96",
   "metadata": {},
   "outputs": [
    {
     "name": "stdout",
     "output_type": "stream",
     "text": [
      "Please insert floating number: 6.25\n",
      "6.25\n"
     ]
    },
    {
     "data": {
      "text/plain": [
       "float"
      ]
     },
     "execution_count": 10,
     "metadata": {},
     "output_type": "execute_result"
    }
   ],
   "source": [
    "f = float(input('Please insert floating number: '))\n",
    "print(f)\n",
    "type(f)"
   ]
  },
  {
   "cell_type": "markdown",
   "id": "e6ba3db6",
   "metadata": {},
   "source": [
    "9. เขียนโปรแกรมรับอินพุต 2 ตัวที่เป็นจำนวนเต็ม (int1, int2) ให้คำนวณผลบวก, ผลลบ, ผลคูณ และผลหารของจำนวนที่รับมา หลังจากนั้นให้พิมพ์ค่าและชนิดข้อมูลของทุกผลลัพธ์ออกมา"
   ]
  },
  {
   "cell_type": "code",
   "execution_count": 12,
   "id": "0ef935ac",
   "metadata": {},
   "outputs": [
    {
     "name": "stdout",
     "output_type": "stream",
     "text": [
      "Please insert int1: 5\n",
      "Please insert int2: 114\n",
      "int1 =  5 <class 'int'>\n",
      "int2 =  114 <class 'int'>\n",
      "ผลบวก 119 <class 'int'>\n",
      "ผลลบ -109 <class 'int'>\n",
      "ผลคูณ 570 <class 'int'>\n",
      "ผลหาร 0.043859649122807015 <class 'float'>\n"
     ]
    }
   ],
   "source": [
    "int1 = int(input('Please insert int1: '))\n",
    "int2 = int(input('Please insert int2: '))\n",
    "\n",
    "add = int1 + int2\n",
    "minus = int1 - int2\n",
    "multiply = int1 * int2\n",
    "divided = int1 / int2\n",
    "\n",
    "print('int1 = ', int1, type(int1))\n",
    "print('int2 = ', int2, type(int2))\n",
    "\n",
    "print('ผลบวก', add, type(add))\n",
    "print(\"ผลลบ\", minus, type(minus))\n",
    "print(\"ผลคูณ\", multiply, type(multiply))\n",
    "print(\"ผลหาร\", divided, type(divided))"
   ]
  },
  {
   "cell_type": "markdown",
   "id": "84049ea2",
   "metadata": {},
   "source": [
    "10. เขียนโปรแกรมรับอินพุต 2 ตัวที่เป็นจำนวนจริง (float1, float2) ให้คำนวณผลบวก, ผลลบ, ผลคูณ และผลหารของจำนวนที่รับมา หลังจากนั้นให้พิมพ์ค่าและชนิดข้อมูลของทุกผลลัพธ์ออกมา"
   ]
  },
  {
   "cell_type": "code",
   "execution_count": 13,
   "id": "01fe693a",
   "metadata": {},
   "outputs": [
    {
     "name": "stdout",
     "output_type": "stream",
     "text": [
      "float1: 5.47\n",
      "float2: 4\n",
      "float1 =  5.47 <class 'float'>\n",
      "float2 =  4.0 <class 'float'>\n",
      "ผลบวก 9.469999999999999 <class 'float'>\n",
      "ผลลบ 1.4699999999999998 <class 'float'>\n",
      "ผลคูณ 21.88 <class 'float'>\n",
      "ผลหาร 1.3675 <class 'float'>\n"
     ]
    }
   ],
   "source": [
    "float1 = float(input('float1: '))\n",
    "float2 = float(input('float2: '))\n",
    "\n",
    "add = float1 + float2\n",
    "minus = float1 - float2\n",
    "multiply = float1 * float2\n",
    "divided = float1 / float2\n",
    "\n",
    "print('float1 = ', float1, type(float1))\n",
    "print('float2 = ', float2, type(float2))\n",
    "\n",
    "print('ผลบวก', add, type(add))\n",
    "print(\"ผลลบ\", minus, type(minus))\n",
    "print(\"ผลคูณ\", multiply, type(multiply))\n",
    "print(\"ผลหาร\", divided, type(divided))"
   ]
  },
  {
   "cell_type": "markdown",
   "id": "6331e0b6",
   "metadata": {},
   "source": [
    "11. เขียนโปรแกรมรับอินพุต 2 ตัวที่เป็นจำนวนจริง (int1, float1) ให้คำนวณผลบวก, ผลลบ, ผลคูณ และผลหารของจำนวนที่รับมา หลังจากนั้นให้พิมพ์ค่าและชนิดข้อมูลของทุกผลลัพธ์ออกมา"
   ]
  },
  {
   "cell_type": "code",
   "execution_count": 14,
   "id": "89636fcd",
   "metadata": {},
   "outputs": [
    {
     "name": "stdout",
     "output_type": "stream",
     "text": [
      "int1: 5\n",
      "float1: 4.57\n",
      "int1 =  5 <class 'int'>\n",
      "float2 =  4.0 <class 'float'>\n",
      "ผลบวก 9.57 <class 'float'>\n",
      "ผลลบ 0.4299999999999997 <class 'float'>\n",
      "ผลคูณ 22.85 <class 'float'>\n",
      "ผลหาร 1.0940919037199124 <class 'float'>\n"
     ]
    }
   ],
   "source": [
    "int1 = int(input('int1: '))\n",
    "float1 = float(input('float1: '))\n",
    "\n",
    "add = int1 + float1\n",
    "minus = int1 - float1\n",
    "multiply = int1 * float1\n",
    "divided = int1 / float1\n",
    "\n",
    "print('int1 = ', int1, type(int1))\n",
    "print('float2 = ', float2, type(float2))\n",
    "\n",
    "print('ผลบวก', add, type(add))\n",
    "print(\"ผลลบ\", minus, type(minus))\n",
    "print(\"ผลคูณ\", multiply, type(multiply))\n",
    "print(\"ผลหาร\", divided, type(divided))"
   ]
  },
  {
   "cell_type": "markdown",
   "id": "597b4e67",
   "metadata": {},
   "source": [
    "12. เขียนโปรแกรมสร้างตัวแปรชื่อ logic1 และกำหนดค่าให้เท่ากับ True หลังจากนั้นทำให้การพิมพ์ค่าและชนิดข้อมูลของ logic1 ออกมา"
   ]
  },
  {
   "cell_type": "code",
   "execution_count": 33,
   "id": "1437a783",
   "metadata": {},
   "outputs": [
    {
     "name": "stdout",
     "output_type": "stream",
     "text": [
      "True <class 'bool'>\n"
     ]
    }
   ],
   "source": [
    "logic1 = True\n",
    "print(logic1 , type(logic1))"
   ]
  },
  {
   "cell_type": "markdown",
   "id": "cb6534fc",
   "metadata": {},
   "source": [
    "13."
   ]
  },
  {
   "cell_type": "code",
   "execution_count": 34,
   "id": "0f856648",
   "metadata": {},
   "outputs": [
    {
     "name": "stdout",
     "output_type": "stream",
     "text": [
      "False <class 'bool'>\n"
     ]
    }
   ],
   "source": [
    "logic2 = False\n",
    "print(logic2 , type(logic1))"
   ]
  },
  {
   "cell_type": "markdown",
   "id": "e2ea6627",
   "metadata": {},
   "source": [
    "14."
   ]
  },
  {
   "cell_type": "code",
   "execution_count": 16,
   "id": "513e85ea",
   "metadata": {},
   "outputs": [
    {
     "name": "stdout",
     "output_type": "stream",
     "text": [
      "False\n",
      "False\n",
      "False\n"
     ]
    }
   ],
   "source": [
    "logic1 = True\n",
    "logic2 = False\n",
    "a = logic1 & logic2\n",
    "print(a)\n",
    "print(logic1 and logic2)\n",
    "print(logic1 & logic2)"
   ]
  },
  {
   "cell_type": "markdown",
   "id": "c17751b5",
   "metadata": {},
   "source": [
    "15."
   ]
  },
  {
   "cell_type": "code",
   "execution_count": 18,
   "id": "751521bb",
   "metadata": {},
   "outputs": [
    {
     "name": "stdout",
     "output_type": "stream",
     "text": [
      "True\n",
      "True\n",
      "True\n"
     ]
    }
   ],
   "source": [
    "logic1 = True\n",
    "logic2 = False\n",
    "b = logic1 | logic2\n",
    "print(b)\n",
    "print(logic1 or logic2)\n",
    "print(logic1 | logic2)"
   ]
  },
  {
   "cell_type": "markdown",
   "id": "6b72b580",
   "metadata": {},
   "source": [
    "16."
   ]
  },
  {
   "cell_type": "code",
   "execution_count": 37,
   "id": "5a94cd41",
   "metadata": {},
   "outputs": [
    {
     "name": "stdout",
     "output_type": "stream",
     "text": [
      "(1+2j) <class 'complex'>\n"
     ]
    }
   ],
   "source": [
    "complex1 = 1 + 2j\n",
    "print(complex1, type(complex1))"
   ]
  },
  {
   "cell_type": "markdown",
   "id": "7ab38baa",
   "metadata": {},
   "source": [
    "17."
   ]
  },
  {
   "cell_type": "code",
   "execution_count": 44,
   "id": "194529a1",
   "metadata": {},
   "outputs": [
    {
     "name": "stdout",
     "output_type": "stream",
     "text": [
      "1.0\n"
     ]
    }
   ],
   "source": [
    "complex1 = 1 + 2j\n",
    "print(complex1.real)"
   ]
  },
  {
   "cell_type": "markdown",
   "id": "9723d504",
   "metadata": {},
   "source": [
    "18. "
   ]
  },
  {
   "cell_type": "code",
   "execution_count": 45,
   "id": "2063be6f",
   "metadata": {},
   "outputs": [
    {
     "name": "stdout",
     "output_type": "stream",
     "text": [
      "2.0\n"
     ]
    }
   ],
   "source": [
    "complex1 = 1 + 2j\n",
    "print(complex1.imag)"
   ]
  },
  {
   "cell_type": "markdown",
   "id": "9df312c0",
   "metadata": {},
   "source": [
    "## String\n"
   ]
  },
  {
   "cell_type": "markdown",
   "id": "eba826b6",
   "metadata": {},
   "source": [
    "19. "
   ]
  },
  {
   "cell_type": "code",
   "execution_count": 47,
   "id": "898afd68",
   "metadata": {},
   "outputs": [
    {
     "name": "stdout",
     "output_type": "stream",
     "text": [
      "Python <class 'str'>\n"
     ]
    }
   ],
   "source": [
    "string1 = 'Python'\n",
    "print(string1, type(string1))"
   ]
  },
  {
   "cell_type": "markdown",
   "id": "dfb02f86",
   "metadata": {},
   "source": [
    "20."
   ]
  },
  {
   "cell_type": "code",
   "execution_count": 53,
   "id": "a95bdc02",
   "metadata": {},
   "outputs": [
    {
     "name": "stdout",
     "output_type": "stream",
     "text": [
      "P\n"
     ]
    }
   ],
   "source": [
    "string1 = 'Python'\n",
    "print(string1[0])"
   ]
  },
  {
   "cell_type": "markdown",
   "id": "584a7b59",
   "metadata": {},
   "source": [
    "21."
   ]
  },
  {
   "cell_type": "code",
   "execution_count": 54,
   "id": "e2b85796",
   "metadata": {},
   "outputs": [
    {
     "name": "stdout",
     "output_type": "stream",
     "text": [
      "y\n"
     ]
    }
   ],
   "source": [
    "string1 = 'Python'\n",
    "print(string1[1])"
   ]
  },
  {
   "cell_type": "markdown",
   "id": "65ed005e",
   "metadata": {},
   "source": [
    "22."
   ]
  },
  {
   "cell_type": "code",
   "execution_count": 55,
   "id": "45e085ad",
   "metadata": {},
   "outputs": [
    {
     "name": "stdout",
     "output_type": "stream",
     "text": [
      "n\n"
     ]
    }
   ],
   "source": [
    "string1 = 'Python'\n",
    "print(string1[-1])"
   ]
  },
  {
   "cell_type": "markdown",
   "id": "52f0415c",
   "metadata": {},
   "source": [
    "23."
   ]
  },
  {
   "cell_type": "code",
   "execution_count": 60,
   "id": "c85444e9",
   "metadata": {},
   "outputs": [
    {
     "name": "stdout",
     "output_type": "stream",
     "text": [
      "o\n"
     ]
    }
   ],
   "source": [
    "string1 = 'Python'\n",
    "print(string1[-2])"
   ]
  },
  {
   "cell_type": "markdown",
   "id": "529e91bd",
   "metadata": {},
   "source": [
    "24."
   ]
  },
  {
   "cell_type": "code",
   "execution_count": 19,
   "id": "d6d27ee8",
   "metadata": {},
   "outputs": [
    {
     "name": "stdout",
     "output_type": "stream",
     "text": [
      "t\n",
      "t\n"
     ]
    }
   ],
   "source": [
    "string1 = 'Python'\n",
    "print(string1[2])\n",
    "print(string1[-4])"
   ]
  },
  {
   "cell_type": "markdown",
   "id": "ee87c692",
   "metadata": {},
   "source": [
    "25."
   ]
  },
  {
   "cell_type": "code",
   "execution_count": 20,
   "id": "43283d4c",
   "metadata": {},
   "outputs": [
    {
     "name": "stdout",
     "output_type": "stream",
     "text": [
      "h\n",
      "h\n"
     ]
    }
   ],
   "source": [
    "string1 = 'Python'\n",
    "print(string1[3])\n",
    "print(string1[-3])"
   ]
  },
  {
   "cell_type": "markdown",
   "id": "7cc3ec48",
   "metadata": {},
   "source": [
    "26."
   ]
  },
  {
   "cell_type": "code",
   "execution_count": 21,
   "id": "f3913fee",
   "metadata": {},
   "outputs": [
    {
     "name": "stdout",
     "output_type": "stream",
     "text": [
      "yth\n"
     ]
    }
   ],
   "source": [
    "#26. index 1 to index 3\n",
    "string1 = 'Python'\n",
    "print(string1[1:4])\n",
    "#ถ้าจะเอา index 1-3 ต้องสั่ง 1:4 ไม่เอาตัวสุดท้ายคือ 4 ไม่รู้ทำไม"
   ]
  },
  {
   "cell_type": "markdown",
   "id": "05746803",
   "metadata": {},
   "source": [
    "27."
   ]
  },
  {
   "cell_type": "code",
   "execution_count": 24,
   "id": "ce1a7125",
   "metadata": {},
   "outputs": [
    {
     "name": "stdout",
     "output_type": "stream",
     "text": [
      "tho\n"
     ]
    }
   ],
   "source": [
    "#27. index 2 to index -1\n",
    "string1 = 'Python'\n",
    "print(string1[2:-1])"
   ]
  },
  {
   "cell_type": "markdown",
   "id": "a665ac11",
   "metadata": {},
   "source": [
    "28."
   ]
  },
  {
   "cell_type": "code",
   "execution_count": 27,
   "id": "8768c3b6",
   "metadata": {},
   "outputs": [
    {
     "name": "stdout",
     "output_type": "stream",
     "text": [
      "thon\n"
     ]
    }
   ],
   "source": [
    "#28. index 2 to index -1\n",
    "string1 = 'Python'\n",
    "print(string1[2:])"
   ]
  },
  {
   "cell_type": "markdown",
   "id": "8e2f54e1",
   "metadata": {},
   "source": [
    "29."
   ]
  },
  {
   "cell_type": "code",
   "execution_count": 23,
   "id": "8dd31b84",
   "metadata": {},
   "outputs": [
    {
     "name": "stdout",
     "output_type": "stream",
     "text": [
      "tho\n"
     ]
    }
   ],
   "source": [
    "#29. index -4 to index 4\n",
    "string1 = 'Python'\n",
    "print(string1[-4:5])"
   ]
  },
  {
   "cell_type": "markdown",
   "id": "ed46ffea",
   "metadata": {},
   "source": [
    "30."
   ]
  },
  {
   "cell_type": "code",
   "execution_count": 29,
   "id": "3746907c",
   "metadata": {},
   "outputs": [
    {
     "name": "stdout",
     "output_type": "stream",
     "text": [
      "Pytho\n",
      "Pytho\n"
     ]
    }
   ],
   "source": [
    "#30. index -6 to index 4\n",
    "string1 = 'Python'\n",
    "print(string1[-6:5])\n",
    "print(string1[:5])"
   ]
  },
  {
   "cell_type": "markdown",
   "id": "052f1d12",
   "metadata": {},
   "source": [
    "31."
   ]
  },
  {
   "cell_type": "code",
   "execution_count": 30,
   "id": "546f157f",
   "metadata": {},
   "outputs": [
    {
     "name": "stdout",
     "output_type": "stream",
     "text": [
      "tho\n"
     ]
    }
   ],
   "source": [
    "#31. index -4 to index -2\n",
    "string1 = 'Python'\n",
    "print(string1[-4:-1])"
   ]
  },
  {
   "cell_type": "markdown",
   "id": "84ca3989",
   "metadata": {},
   "source": [
    "32."
   ]
  },
  {
   "cell_type": "code",
   "execution_count": 31,
   "id": "b9da2e17",
   "metadata": {},
   "outputs": [
    {
     "name": "stdout",
     "output_type": "stream",
     "text": [
      "a: dad\n",
      "3\n"
     ]
    }
   ],
   "source": [
    "a = str(input('a: '))\n",
    "print(len(a))"
   ]
  },
  {
   "cell_type": "markdown",
   "id": "dc359ec3",
   "metadata": {},
   "source": [
    "33."
   ]
  },
  {
   "cell_type": "code",
   "execution_count": 86,
   "id": "1235f1b7",
   "metadata": {},
   "outputs": [
    {
     "name": "stdout",
     "output_type": "stream",
     "text": [
      "a: สุรวุฒิ\n",
      "False\n"
     ]
    }
   ],
   "source": [
    "a = str(input('a: '))\n",
    "print('ก' in a)"
   ]
  },
  {
   "cell_type": "markdown",
   "id": "95324163",
   "metadata": {},
   "source": [
    "34."
   ]
  },
  {
   "cell_type": "code",
   "execution_count": 88,
   "id": "9f7fe7b3",
   "metadata": {},
   "outputs": [
    {
     "name": "stdout",
     "output_type": "stream",
     "text": [
      "string1: happy\n",
      "string2: pi\n",
      "False\n"
     ]
    }
   ],
   "source": [
    "string1 = str(input('string1: '))\n",
    "string2 = str(input('string2: '))\n",
    "print(string2 in string1)"
   ]
  },
  {
   "cell_type": "markdown",
   "id": "b513fea3",
   "metadata": {},
   "source": [
    "35."
   ]
  },
  {
   "cell_type": "code",
   "execution_count": 92,
   "id": "68290b93",
   "metadata": {},
   "outputs": [
    {
     "name": "stdout",
     "output_type": "stream",
     "text": [
      "txt: banana\n",
      "bAnAnA\n"
     ]
    }
   ],
   "source": [
    "txt = str(input('txt: '))\n",
    "print(txt.replace('a', 'A'))"
   ]
  },
  {
   "cell_type": "markdown",
   "id": "5b34eca5",
   "metadata": {},
   "source": [
    "36."
   ]
  },
  {
   "cell_type": "code",
   "execution_count": 93,
   "id": "9def67b6",
   "metadata": {},
   "outputs": [
    {
     "name": "stdout",
     "output_type": "stream",
     "text": [
      "txt: surawoot\n",
      "surAwoot\n"
     ]
    }
   ],
   "source": [
    "txt = str(input('txt: '))\n",
    "string2 = txt.replace('a', 'A')\n",
    "print(string2)"
   ]
  },
  {
   "cell_type": "markdown",
   "id": "b0b49bcc",
   "metadata": {},
   "source": [
    "37."
   ]
  },
  {
   "cell_type": "code",
   "execution_count": 34,
   "id": "03b8b65c",
   "metadata": {},
   "outputs": [
    {
     "name": "stdout",
     "output_type": "stream",
     "text": [
      "Please insert sentence: I love python.\n",
      "['I', 'love', 'python.']\n",
      "['I', 'love', 'python.']\n"
     ]
    }
   ],
   "source": [
    "sentence = str(input('Please insert sentence: '))\n",
    "a = sentence.split()\n",
    "b = sentence.split(' ')\n",
    "print(a)\n",
    "print(b)"
   ]
  },
  {
   "cell_type": "markdown",
   "id": "46f8dcd7",
   "metadata": {},
   "source": [
    "38."
   ]
  },
  {
   "cell_type": "code",
   "execution_count": 35,
   "id": "a0678aae",
   "metadata": {},
   "outputs": [
    {
     "name": "stdout",
     "output_type": "stream",
     "text": [
      "Please insert sentence: I don't like you.\n",
      "Please insert: '\n",
      "['I don', 't like you.']\n"
     ]
    }
   ],
   "source": [
    "sentence = input('Please insert sentence: ')\n",
    "c = input('Please insert: ')\n",
    "a = sentence.split(c)\n",
    "print(a)"
   ]
  },
  {
   "cell_type": "code",
   "execution_count": 37,
   "id": "5530d44f",
   "metadata": {},
   "outputs": [
    {
     "name": "stdout",
     "output_type": "stream",
     "text": [
      "Please insert: Fri\n",
      "Please insert: day\n",
      "Friday\n",
      "Fri day\n"
     ]
    }
   ],
   "source": [
    "#39.\n",
    "str1 = input('Please insert: ')\n",
    "str2 = input('Please insert: ')\n",
    "print(str1 + str2)\n",
    "print(str1, str2)"
   ]
  },
  {
   "cell_type": "markdown",
   "id": "52752665",
   "metadata": {},
   "source": [
    "## List"
   ]
  },
  {
   "cell_type": "code",
   "execution_count": 104,
   "id": "b437e766",
   "metadata": {},
   "outputs": [
    {
     "name": "stdout",
     "output_type": "stream",
     "text": [
      "[0, 1, 2, 'a', 'b', 'c'] <class 'list'>\n"
     ]
    }
   ],
   "source": [
    "#40.\n",
    "list = [0, 1, 2, 'a', 'b', 'c']\n",
    "print(list, type(list))"
   ]
  },
  {
   "cell_type": "code",
   "execution_count": 105,
   "id": "2b3edee9",
   "metadata": {},
   "outputs": [
    {
     "name": "stdout",
     "output_type": "stream",
     "text": [
      "2\n"
     ]
    }
   ],
   "source": [
    "#41.\n",
    "list1 = [0, 1, 2, 'a', 'b', 'c']\n",
    "print(list1[2])"
   ]
  },
  {
   "cell_type": "code",
   "execution_count": 106,
   "id": "b5244e69",
   "metadata": {},
   "outputs": [
    {
     "name": "stdout",
     "output_type": "stream",
     "text": [
      "a\n"
     ]
    }
   ],
   "source": [
    "#42.\n",
    "list1 = [0, 1, 2, 'a', 'b', 'c']\n",
    "print(list1[-3])"
   ]
  },
  {
   "cell_type": "code",
   "execution_count": 38,
   "id": "a0f1f786",
   "metadata": {},
   "outputs": [
    {
     "name": "stdout",
     "output_type": "stream",
     "text": [
      "0\n",
      "0\n"
     ]
    }
   ],
   "source": [
    "#43.\n",
    "list1 = [0, 1, 2, 'a', 'b', 'c']\n",
    "print(list1[0])\n",
    "print(list1[-6])"
   ]
  },
  {
   "cell_type": "code",
   "execution_count": 39,
   "id": "359644e0",
   "metadata": {},
   "outputs": [
    {
     "name": "stdout",
     "output_type": "stream",
     "text": [
      "b\n",
      "b\n"
     ]
    }
   ],
   "source": [
    "#44.\n",
    "list1 = [0, 1, 2, 'a', 'b', 'c']\n",
    "print(list1[-2])\n",
    "print(list1[4])"
   ]
  },
  {
   "cell_type": "code",
   "execution_count": 40,
   "id": "d33b00de",
   "metadata": {},
   "outputs": [
    {
     "name": "stdout",
     "output_type": "stream",
     "text": [
      "[2, 'a']\n"
     ]
    }
   ],
   "source": [
    "#45. index2 to index 3\n",
    "list1 = [0, 1, 2, 'a', 'b', 'c']\n",
    "print(list1[2:4])"
   ]
  },
  {
   "cell_type": "code",
   "execution_count": 42,
   "id": "d796773a",
   "metadata": {},
   "outputs": [
    {
     "name": "stdout",
     "output_type": "stream",
     "text": [
      "[1, 2, 'a', 'b']\n"
     ]
    }
   ],
   "source": [
    "#46. index1 to index -2\n",
    "list1 = [0, 1, 2, 'a', 'b', 'c']\n",
    "print(list1[1:-1])"
   ]
  },
  {
   "cell_type": "code",
   "execution_count": 46,
   "id": "707e3286",
   "metadata": {},
   "outputs": [
    {
     "name": "stdout",
     "output_type": "stream",
     "text": [
      "[1, 2, 'a', 'b']\n",
      "[1, 2, 'a', 'b']\n",
      "[1, 2, 'a', 'b']\n",
      "[1, 2, 'a', 'b']\n"
     ]
    }
   ],
   "source": [
    "#47. \n",
    "list1 = [0, 1, 2, 'a', 'b', 'c']\n",
    "print(list1[1:5])\n",
    "print(list1[1:-1])\n",
    "print(list1[-5:5])\n",
    "print(list1[-5:-1])"
   ]
  },
  {
   "cell_type": "code",
   "execution_count": 49,
   "id": "ac4758a9",
   "metadata": {},
   "outputs": [
    {
     "name": "stdout",
     "output_type": "stream",
     "text": [
      "['a', 'b', 'c']\n",
      "['a', 'b', 'c']\n",
      "['a', 'b', 'c']\n"
     ]
    }
   ],
   "source": [
    "#48.\n",
    "list1 = [0, 1, 2, 'a', 'b', 'c']\n",
    "print(list1[3:])\n",
    "print(list1[3:6])\n",
    "print(list1[-3:])"
   ]
  },
  {
   "cell_type": "code",
   "execution_count": 51,
   "id": "f8ea00e4",
   "metadata": {},
   "outputs": [
    {
     "name": "stdout",
     "output_type": "stream",
     "text": [
      "[0, 1, 2]\n",
      "[0, 1, 2]\n",
      "[0, 1, 2]\n",
      "[0, 1, 2]\n"
     ]
    }
   ],
   "source": [
    "#49.\n",
    "list1 = [0, 1, 2, 'a', 'b', 'c']\n",
    "print(list1[0:3])\n",
    "print(list1[:3])\n",
    "print(list1[0:-3])\n",
    "print(list1[0:-3])"
   ]
  },
  {
   "cell_type": "code",
   "execution_count": 128,
   "id": "1184a762",
   "metadata": {},
   "outputs": [
    {
     "name": "stdout",
     "output_type": "stream",
     "text": [
      "['ant', 'bird', 'cat', 'duck', 'eagle']\n"
     ]
    }
   ],
   "source": [
    "#50.\n",
    "list2 = ['ant', 'bird', 'cat', 'dog', 'eagle']\n",
    "list2[3] = 'duck'\n",
    "print(list2)"
   ]
  },
  {
   "cell_type": "code",
   "execution_count": 129,
   "id": "6b8440b0",
   "metadata": {},
   "outputs": [
    {
     "name": "stdout",
     "output_type": "stream",
     "text": [
      "['ape', 'bird', 'cat', 'dog', 'eagle']\n"
     ]
    }
   ],
   "source": [
    "#51.\n",
    "list2 = ['ant', 'bird', 'cat', 'dog', 'eagle']\n",
    "list2[0] = 'ape'\n",
    "print(list2)"
   ]
  },
  {
   "cell_type": "code",
   "execution_count": 130,
   "id": "fb3b63f2",
   "metadata": {},
   "outputs": [
    {
     "name": "stdout",
     "output_type": "stream",
     "text": [
      "['ant', 'bird', 'cat', 'dog', 'eagle', 'fish']\n"
     ]
    }
   ],
   "source": [
    "#52.\n",
    "list2 = ['ant', 'bird', 'cat', 'dog', 'eagle']\n",
    "list2.append('fish')\n",
    "print(list2)"
   ]
  },
  {
   "cell_type": "code",
   "execution_count": 52,
   "id": "699dc76e",
   "metadata": {},
   "outputs": [
    {
     "name": "stdout",
     "output_type": "stream",
     "text": [
      "str1: ong\n",
      "str2: surawoot\n",
      "str3: meekong\n",
      "['ong', 'surawoot', 'meekong']\n"
     ]
    }
   ],
   "source": [
    "#53.\n",
    "list2 = []\n",
    "str1 = str(input('str1: '))\n",
    "str2 = str(input('str2: '))\n",
    "str3 = str(input('str3: '))\n",
    "list2.append(str1)\n",
    "list2.append(str2)\n",
    "list2.append(str3)\n",
    "print(list2)"
   ]
  },
  {
   "cell_type": "code",
   "execution_count": 149,
   "id": "01137cfa",
   "metadata": {},
   "outputs": [
    {
     "name": "stdout",
     "output_type": "stream",
     "text": [
      "['apple', 'banana', 'cherry', 'eggfruit']\n"
     ]
    }
   ],
   "source": [
    "#54.\n",
    "list3 = ['apple', 'cherry', 'eggfruit']\n",
    "list3.insert(1, 'banana')\n",
    "print(list3)"
   ]
  },
  {
   "cell_type": "code",
   "execution_count": 150,
   "id": "21bf1470",
   "metadata": {},
   "outputs": [
    {
     "name": "stdout",
     "output_type": "stream",
     "text": [
      "['apple', 'banana', 'cherry', 'kiwi', 'eggfruit']\n"
     ]
    }
   ],
   "source": [
    "#55.\n",
    "list3 = ['apple', 'banana', 'cherry', 'eggfruit']\n",
    "list3.insert(-1, 'kiwi')\n",
    "print(list3)"
   ]
  },
  {
   "cell_type": "code",
   "execution_count": 151,
   "id": "84a671aa",
   "metadata": {},
   "outputs": [
    {
     "name": "stdout",
     "output_type": "stream",
     "text": [
      "[0, 1, 2, 3, 4]\n"
     ]
    }
   ],
   "source": [
    "#56.\n",
    "list4 = [0, 4, 2, 3, 1]\n",
    "list4.sort()\n",
    "print(list4)"
   ]
  },
  {
   "cell_type": "code",
   "execution_count": 158,
   "id": "e0d067d5",
   "metadata": {},
   "outputs": [
    {
     "name": "stdout",
     "output_type": "stream",
     "text": [
      "[4, 3, 2, 1, 0]\n"
     ]
    }
   ],
   "source": [
    "#57.\n",
    "list4 = [0, 4, 2, 3, 1]\n",
    "list4.sort(reverse = True)\n",
    "print(list4)"
   ]
  },
  {
   "cell_type": "code",
   "execution_count": 55,
   "id": "660b99fc",
   "metadata": {},
   "outputs": [
    {
     "name": "stdout",
     "output_type": "stream",
     "text": [
      "[0, 1, 2, 3, 4]\n",
      "[0, 1, 2, 3, 4]\n"
     ]
    }
   ],
   "source": [
    "#58.\n",
    "list4 = [0, 4, 2, 3, 1]\n",
    "list4.sort()\n",
    "sorted_list4 = sorted(list4)\n",
    "print(sorted_list4)\n",
    "print(list4)"
   ]
  },
  {
   "cell_type": "code",
   "execution_count": 57,
   "id": "13f99e95",
   "metadata": {},
   "outputs": [
    {
     "name": "stdout",
     "output_type": "stream",
     "text": [
      "[4, 3, 2, 1, 0]\n",
      "[4, 3, 2, 1, 0]\n"
     ]
    }
   ],
   "source": [
    "#59.\n",
    "list4 = [0, 4, 2, 3, 1]\n",
    "list4.sort(reverse = True)\n",
    "sorted_list4 = sorted(list4, reverse = True)\n",
    "print(sorted_list4)\n",
    "print(list4)"
   ]
  },
  {
   "cell_type": "code",
   "execution_count": 166,
   "id": "6d546987",
   "metadata": {},
   "outputs": [
    {
     "name": "stdout",
     "output_type": "stream",
     "text": [
      "['a', 'b', 'c', 'd', 'e']\n"
     ]
    }
   ],
   "source": [
    "#60.\n",
    "list5 = ['d', 'a', 'c', 'b', 'e']\n",
    "list5.sort()\n",
    "print(list5)"
   ]
  },
  {
   "cell_type": "code",
   "execution_count": 58,
   "id": "15ba32f8",
   "metadata": {},
   "outputs": [
    {
     "name": "stdout",
     "output_type": "stream",
     "text": [
      "['e', 'd', 'c', 'b', 'a']\n",
      "['e', 'd', 'c', 'b', 'a']\n"
     ]
    }
   ],
   "source": [
    "#61.\n",
    "list5 = ['d', 'a', 'c', 'b', 'e']\n",
    "list5.sort(reverse = True)\n",
    "sorted_list5 = sorted(list5, reverse = True)\n",
    "print(sorted_list5)\n",
    "print(list5)"
   ]
  },
  {
   "cell_type": "code",
   "execution_count": 171,
   "id": "66b06bb8",
   "metadata": {},
   "outputs": [
    {
     "name": "stdout",
     "output_type": "stream",
     "text": [
      "['a', 'b', 'c', 0, 1, 2]\n",
      "[0, 1, 2]\n"
     ]
    }
   ],
   "source": [
    "#62.\n",
    "list1 = ['a', 'b', 'c']\n",
    "list2 = [0, 1, 2,]\n",
    "list1.extend(list2)\n",
    "print(list1)\n",
    "print(list2)"
   ]
  },
  {
   "cell_type": "code",
   "execution_count": 174,
   "id": "403aebed",
   "metadata": {},
   "outputs": [
    {
     "name": "stdout",
     "output_type": "stream",
     "text": [
      "['a', 'b', 'c']\n",
      "[0, 1, 2]\n",
      "['a', 'b', 'c', 0, 1, 2]\n"
     ]
    }
   ],
   "source": [
    "#63.\n",
    "list1 = ['a', 'b', 'c']\n",
    "list2 = [0, 1, 2,]\n",
    "list3 = list1 + list2\n",
    "print(list1)\n",
    "print(list2)\n",
    "print(list3)"
   ]
  },
  {
   "cell_type": "code",
   "execution_count": 1,
   "id": "2501a90e",
   "metadata": {},
   "outputs": [
    {
     "name": "stdout",
     "output_type": "stream",
     "text": [
      "[1, 3, 1, 2, 3]\n"
     ]
    }
   ],
   "source": [
    "#64.\n",
    "list1 = [1, 2, 3, 1, 2, 3]\n",
    "del list1[1]\n",
    "print(list1)"
   ]
  },
  {
   "cell_type": "code",
   "execution_count": 59,
   "id": "35c54a95",
   "metadata": {},
   "outputs": [
    {
     "name": "stdout",
     "output_type": "stream",
     "text": [
      "[1, 2, 1, 2]\n"
     ]
    }
   ],
   "source": [
    "#65.\n",
    "list1 = [1, 2, 3, 1, 2, 3]\n",
    "del list1[-1] #del ลบที่ละตัว แล้วได้ใหม่ที่ลดลง ดังนั้นต้องดูลำดับ list ใหม่หลัง del\n",
    "del list1[2]\n",
    "print(list1)"
   ]
  },
  {
   "cell_type": "code",
   "execution_count": 206,
   "id": "f5300544",
   "metadata": {},
   "outputs": [
    {
     "name": "stdout",
     "output_type": "stream",
     "text": [
      "[2, 3, 1, 2, 3]\n"
     ]
    }
   ],
   "source": [
    "#66.\n",
    "list1 = [1, 2, 3, 1, 2, 3]\n",
    "list1.remove(1) #ระบุตัวที่เอาออกที่ละตัว ตามลำดับ 0 ->\n",
    "print(list1)"
   ]
  },
  {
   "cell_type": "code",
   "execution_count": 207,
   "id": "6418dcd6",
   "metadata": {},
   "outputs": [
    {
     "name": "stdout",
     "output_type": "stream",
     "text": [
      "[2, 3, 2, 3]\n"
     ]
    }
   ],
   "source": [
    "#67.\n",
    "list1 = [1, 2, 3, 1, 2, 3]\n",
    "list1.remove(1)\n",
    "list1.remove(1)\n",
    "print(list1)\n",
    "#จะลบ 1 ทั้งสองตัวต้องสั่งทีละครั้ง"
   ]
  },
  {
   "cell_type": "code",
   "execution_count": 211,
   "id": "ad6a9cec",
   "metadata": {},
   "outputs": [
    {
     "name": "stdout",
     "output_type": "stream",
     "text": [
      "[]\n"
     ]
    }
   ],
   "source": [
    "#68.\n",
    "list1 = [1, 2, 3, 1, 2, 3]\n",
    "list1.clear()\n",
    "print(list1)"
   ]
  },
  {
   "cell_type": "code",
   "execution_count": 212,
   "id": "7fbf38e9",
   "metadata": {},
   "outputs": [
    {
     "name": "stdout",
     "output_type": "stream",
     "text": [
      "6\n"
     ]
    }
   ],
   "source": [
    "#69.\n",
    "list1 = [1, 2, 3, 'a', 'b', 'c']\n",
    "print(len(list1))"
   ]
  },
  {
   "cell_type": "code",
   "execution_count": 217,
   "id": "b9065554",
   "metadata": {},
   "outputs": [
    {
     "name": "stdout",
     "output_type": "stream",
     "text": [
      "n: 0\n",
      "False\n"
     ]
    }
   ],
   "source": [
    "#70.\n",
    "list1 = [1, 2, 3, 4, 5]\n",
    "n = int(input('n: '))\n",
    "print(n in list1)"
   ]
  },
  {
   "cell_type": "markdown",
   "id": "63ff06b1",
   "metadata": {},
   "source": [
    "## Tuple"
   ]
  },
  {
   "cell_type": "code",
   "execution_count": 1,
   "id": "9604e19a",
   "metadata": {},
   "outputs": [
    {
     "name": "stdout",
     "output_type": "stream",
     "text": [
      "('America', 'Brazil', 'China', 'Dominican', 'Egypt') <class 'tuple'>\n"
     ]
    }
   ],
   "source": [
    "#71.\n",
    "tuple = ('America', 'Brazil', 'China', 'Dominican', 'Egypt')\n",
    "print(tuple, type(tuple))"
   ]
  },
  {
   "cell_type": "code",
   "execution_count": 3,
   "id": "5cd18a0f",
   "metadata": {},
   "outputs": [
    {
     "name": "stdout",
     "output_type": "stream",
     "text": [
      "Brazil\n"
     ]
    }
   ],
   "source": [
    "#72.\n",
    "tuple1 = ('America', 'Brazil', 'China', 'Dominican', 'Egypt')\n",
    "print(tuple1[1])"
   ]
  },
  {
   "cell_type": "code",
   "execution_count": 4,
   "id": "288a02f7",
   "metadata": {},
   "outputs": [
    {
     "name": "stdout",
     "output_type": "stream",
     "text": [
      "Dominican\n"
     ]
    }
   ],
   "source": [
    "#73.\n",
    "tuple1 = ('America', 'Brazil', 'China', 'Dominican', 'Egypt')\n",
    "print(tuple1[-2])"
   ]
  },
  {
   "cell_type": "code",
   "execution_count": 60,
   "id": "84faab45",
   "metadata": {},
   "outputs": [
    {
     "name": "stdout",
     "output_type": "stream",
     "text": [
      "China\n",
      "China\n"
     ]
    }
   ],
   "source": [
    "#74.\n",
    "tuple1 = ('America', 'Brazil', 'China', 'Dominican', 'Egypt')\n",
    "print(tuple1[2])\n",
    "print(tuple1[-3])"
   ]
  },
  {
   "cell_type": "code",
   "execution_count": 61,
   "id": "3a57133a",
   "metadata": {},
   "outputs": [
    {
     "name": "stdout",
     "output_type": "stream",
     "text": [
      "Egypt\n",
      "Egypt\n"
     ]
    }
   ],
   "source": [
    "#75.\n",
    "tuple1 = ('America', 'Brazil', 'China', 'Dominican', 'Egypt')\n",
    "print(tuple1[-1])\n",
    "print(tuple1[4])"
   ]
  },
  {
   "cell_type": "code",
   "execution_count": 62,
   "id": "58529287",
   "metadata": {},
   "outputs": [
    {
     "name": "stdout",
     "output_type": "stream",
     "text": [
      "('two', 'three', 1)\n"
     ]
    }
   ],
   "source": [
    "#76. index1 to index3\n",
    "tuple2 = ('one', 'two', 'three' , 1, 2, 3)\n",
    "print(tuple2[1:4])"
   ]
  },
  {
   "cell_type": "code",
   "execution_count": 63,
   "id": "40d9edc6",
   "metadata": {},
   "outputs": [
    {
     "name": "stdout",
     "output_type": "stream",
     "text": [
      "('three', 1, 2)\n"
     ]
    }
   ],
   "source": [
    "#77. index2 to index-2\n",
    "tuple2 = ('one', 'two', 'three' , 1, 2, 3)\n",
    "print(tuple2[2:-1])"
   ]
  },
  {
   "cell_type": "code",
   "execution_count": 66,
   "id": "488527c2",
   "metadata": {},
   "outputs": [
    {
     "name": "stdout",
     "output_type": "stream",
     "text": [
      "('three', 1)\n",
      "('three', 1)\n",
      "('three', 1)\n",
      "('three', 1)\n"
     ]
    }
   ],
   "source": [
    "#78. \n",
    "tuple2 = ('one', 'two', 'three' , 1, 2, 3)\n",
    "print(tuple2[2:4])\n",
    "print(tuple2[2:-2])\n",
    "print(tuple2[-4:4])\n",
    "print(tuple2[-4:-2])"
   ]
  },
  {
   "cell_type": "code",
   "execution_count": 68,
   "id": "091e9b46",
   "metadata": {},
   "outputs": [
    {
     "name": "stdout",
     "output_type": "stream",
     "text": [
      "('one', 'two', 'three')\n",
      "('one', 'two', 'three')\n"
     ]
    }
   ],
   "source": [
    "#79.\n",
    "tuple2 = ('one', 'two', 'three' , 1, 2, 3)\n",
    "print(tuple2[:3])\n",
    "print(tuple2[:-3])"
   ]
  },
  {
   "cell_type": "code",
   "execution_count": 71,
   "id": "c75762b7",
   "metadata": {},
   "outputs": [
    {
     "name": "stdout",
     "output_type": "stream",
     "text": [
      "(1, 2, 3)\n",
      "(1, 2, 3)\n"
     ]
    }
   ],
   "source": [
    "#80.\n",
    "tuple2 = ('one', 'two', 'three' , 1, 2, 3)\n",
    "print(tuple2[3:])\n",
    "print(tuple2[-3:])"
   ]
  },
  {
   "cell_type": "code",
   "execution_count": 14,
   "id": "f539f76a",
   "metadata": {},
   "outputs": [
    {
     "name": "stdout",
     "output_type": "stream",
     "text": [
      "5\n"
     ]
    }
   ],
   "source": [
    "#81.\n",
    "tuple3 = ('one', 'two', 'three', 'four', 'five')\n",
    "print(len(tuple3))\n"
   ]
  },
  {
   "cell_type": "code",
   "execution_count": 16,
   "id": "817ebdcb",
   "metadata": {},
   "outputs": [
    {
     "name": "stdout",
     "output_type": "stream",
     "text": [
      "str1: ten\n"
     ]
    },
    {
     "data": {
      "text/plain": [
       "False"
      ]
     },
     "execution_count": 16,
     "metadata": {},
     "output_type": "execute_result"
    }
   ],
   "source": [
    "#82.\n",
    "tuple3 = ('one', 'two', 'three', 'four', 'five')\n",
    "str1 = str(input('str1: '))\n",
    "str1 in tuple3"
   ]
  },
  {
   "cell_type": "markdown",
   "id": "f96e4525",
   "metadata": {},
   "source": [
    "## Dictonary"
   ]
  },
  {
   "cell_type": "code",
   "execution_count": 25,
   "id": "6edbf92a",
   "metadata": {},
   "outputs": [
    {
     "name": "stdout",
     "output_type": "stream",
     "text": [
      "{'first_name': 'John', 'last_name': 'Doe'} <class 'dict'>\n"
     ]
    }
   ],
   "source": [
    "#83.\n",
    "dictionary = {'first_name': 'John',\n",
    "             'last_name' : 'Doe'}\n",
    "print(dictionary, type(dictionary))"
   ]
  },
  {
   "cell_type": "code",
   "execution_count": 26,
   "id": "03cf32ed",
   "metadata": {},
   "outputs": [
    {
     "name": "stdout",
     "output_type": "stream",
     "text": [
      "John\n"
     ]
    }
   ],
   "source": [
    "#84.\n",
    "dict1 = {'first_name': 'John',\n",
    "             'last_name' : 'Doe'}\n",
    "print(dict1['first_name'])"
   ]
  },
  {
   "cell_type": "code",
   "execution_count": 27,
   "id": "18baf66d",
   "metadata": {},
   "outputs": [
    {
     "name": "stdout",
     "output_type": "stream",
     "text": [
      "Doe\n"
     ]
    }
   ],
   "source": [
    "#85.\n",
    "dict1 = {'first_name': 'John',\n",
    "             'last_name' : 'Doe'}\n",
    "print(dict1['last_name'])"
   ]
  },
  {
   "cell_type": "code",
   "execution_count": 38,
   "id": "dd4db8cc",
   "metadata": {},
   "outputs": [
    {
     "name": "stdout",
     "output_type": "stream",
     "text": [
      "dict_keys(['first_name', 'last_name'])\n"
     ]
    }
   ],
   "source": [
    "#86.\n",
    "dict1 = {'first_name': 'John',\n",
    "             'last_name' : 'Doe'}\n",
    "print(dict1.keys())"
   ]
  },
  {
   "cell_type": "code",
   "execution_count": 31,
   "id": "97d11e77",
   "metadata": {},
   "outputs": [
    {
     "name": "stdout",
     "output_type": "stream",
     "text": [
      "dict_values(['John', 'Doe'])\n"
     ]
    }
   ],
   "source": [
    "#87.\n",
    "dict1 = {'first_name': 'John',\n",
    "             'last_name' : 'Doe'}\n",
    "print(dict1.values())"
   ]
  },
  {
   "cell_type": "code",
   "execution_count": 72,
   "id": "dac96196",
   "metadata": {},
   "outputs": [
    {
     "name": "stdout",
     "output_type": "stream",
     "text": [
      "{'first_name': 'Jane', 'last_name': 'Doe'}\n"
     ]
    }
   ],
   "source": [
    "#88.\n",
    "dict1 = {'first_name': 'John',\n",
    "             'last_name' : 'Doe'}\n",
    "dict1['first_name'] = 'Jane'\n",
    "#dict1.update({'first_name': 'Jane'})\n",
    "print(dict1)"
   ]
  },
  {
   "cell_type": "code",
   "execution_count": 34,
   "id": "26d51930",
   "metadata": {},
   "outputs": [
    {
     "name": "stdout",
     "output_type": "stream",
     "text": [
      "{'first_name': 'John', 'last_name': 'Doe', 'age': 32}\n"
     ]
    }
   ],
   "source": [
    "#89.\n",
    "dict1 = {'first_name': 'John',\n",
    "             'last_name' : 'Doe'}\n",
    "dict1['age'] = 32\n",
    "print(dict1)"
   ]
  },
  {
   "cell_type": "code",
   "execution_count": 35,
   "id": "800c3f4c",
   "metadata": {},
   "outputs": [
    {
     "name": "stdout",
     "output_type": "stream",
     "text": [
      "{'first_name': 'John', 'last_name': 'Doe', 'age': 32, 'hobby': ['coding', 'studying']}\n"
     ]
    }
   ],
   "source": [
    "#90.\n",
    "dict1 = {'first_name': 'John',\n",
    "             'last_name' : 'Doe'}\n",
    "dict1['age'] = 32\n",
    "dict1['hobby'] = ['coding', 'studying']\n",
    "print(dict1)"
   ]
  },
  {
   "cell_type": "code",
   "execution_count": 74,
   "id": "c61b14d0",
   "metadata": {},
   "outputs": [
    {
     "name": "stdout",
     "output_type": "stream",
     "text": [
      "str1: ong\n",
      "str2: mee\n",
      "{'ong': 'mee'} <class 'dict'>\n",
      "{'ong': 'mee'} <class 'dict'>\n"
     ]
    }
   ],
   "source": [
    "#91. \n",
    "dict1 = { }\n",
    "str1 = str(input('str1: '))\n",
    "str2 = str(input('str2: '))\n",
    "dict1[str1] = str2\n",
    "dict2 = {str1: str2}\n",
    "print(dict1, type(dict1))\n",
    "print(dict2, type(dict2))"
   ]
  },
  {
   "cell_type": "code",
   "execution_count": 75,
   "id": "81e15a6c",
   "metadata": {},
   "outputs": [
    {
     "name": "stdout",
     "output_type": "stream",
     "text": [
      "{'first_name': 'John', 'last_name': 'Doe'}\n"
     ]
    }
   ],
   "source": [
    "#92.\n",
    "dict1 = {'first_name': 'John', \n",
    "         'last_name': 'Doe', \n",
    "         'age': 32}\n",
    "del dict1['age']\n",
    "#dict1.pop('age')\n",
    "print(dict1)"
   ]
  },
  {
   "cell_type": "code",
   "execution_count": 43,
   "id": "b0a5538d",
   "metadata": {},
   "outputs": [
    {
     "name": "stdout",
     "output_type": "stream",
     "text": [
      "{}\n"
     ]
    }
   ],
   "source": [
    "#93.\n",
    "dict1 = {'first_name': 'John', \n",
    "         'last_name': 'Doe', \n",
    "         'age': 32}\n",
    "dict1.clear()\n",
    "print(dict1)"
   ]
  },
  {
   "cell_type": "code",
   "execution_count": 76,
   "id": "ecd61df3",
   "metadata": {},
   "outputs": [
    {
     "name": "stdout",
     "output_type": "stream",
     "text": [
      "3\n",
      "3\n"
     ]
    }
   ],
   "source": [
    "#94.\n",
    "dict1 = {'first_name': 'John', \n",
    "         'last_name': 'Doe', \n",
    "         'age': 32}\n",
    "print(len(dict1))\n",
    "print(len(dict1.keys()))"
   ]
  },
  {
   "cell_type": "code",
   "execution_count": 78,
   "id": "aab94c6a",
   "metadata": {},
   "outputs": [
    {
     "name": "stdout",
     "output_type": "stream",
     "text": [
      "str1: age\n",
      "True\n",
      "True\n"
     ]
    }
   ],
   "source": [
    "#95. \n",
    "dict1 = {'first_name': 'John', \n",
    "         'last_name': 'Doe', \n",
    "         'age': 32}\n",
    "str1 = str(input('str1: '))\n",
    "print(str1 in dict1)\n",
    "print(str1 in dict1.keys())"
   ]
  },
  {
   "cell_type": "code",
   "execution_count": 79,
   "id": "427eaecc",
   "metadata": {},
   "outputs": [
    {
     "name": "stdout",
     "output_type": "stream",
     "text": [
      "str1: 65\n",
      "False\n"
     ]
    }
   ],
   "source": [
    "#96. \n",
    "dict1 = {'first_name': 'John', \n",
    "         'last_name': 'Doe', \n",
    "         'age': 32}\n",
    "str1 = str(input('str1: '))\n",
    "print(str1 in dict1.values())"
   ]
  },
  {
   "cell_type": "markdown",
   "id": "5ce285a2",
   "metadata": {},
   "source": [
    "## Set"
   ]
  },
  {
   "cell_type": "code",
   "execution_count": 80,
   "id": "ed9c0b6f",
   "metadata": {},
   "outputs": [
    {
     "name": "stdout",
     "output_type": "stream",
     "text": [
      "{1, 2, 3, 'i', 'ii', 'iii'} <class 'set'>\n"
     ]
    }
   ],
   "source": [
    "#97.\n",
    "set1 = {1, 2, 3, 'i', 'ii', 'iii'}\n",
    "print(set1, type(set1))"
   ]
  },
  {
   "cell_type": "code",
   "execution_count": 81,
   "id": "ce259075",
   "metadata": {},
   "outputs": [
    {
     "name": "stdout",
     "output_type": "stream",
     "text": [
      "1\n",
      "2\n",
      "3\n",
      "i\n",
      "ii\n",
      "iii\n"
     ]
    }
   ],
   "source": [
    "#98. พิมพ์สมาชิกทุกตัวใน set1\n",
    "set1 = {1, 2, 3, 'i', 'ii', 'iii'}\n",
    "for s in set1:\n",
    "    print(s)"
   ]
  },
  {
   "cell_type": "code",
   "execution_count": 136,
   "id": "4820dcfb",
   "metadata": {},
   "outputs": [
    {
     "name": "stdout",
     "output_type": "stream",
     "text": [
      "{1, 2, 3, 'ii', 'i', 'iv', 'iii'}\n"
     ]
    }
   ],
   "source": [
    "#99.\n",
    "set1 = {1, 2, 3, 'i', 'ii', 'iii'}\n",
    "set1.add('iv')\n",
    "print(set1)"
   ]
  },
  {
   "cell_type": "code",
   "execution_count": 137,
   "id": "63cd2132",
   "metadata": {},
   "outputs": [
    {
     "name": "stdout",
     "output_type": "stream",
     "text": [
      "{1, 2, 3, 'ii', 'i', 'iii'}\n"
     ]
    }
   ],
   "source": [
    "#100.\n",
    "set1 = {1, 2, 3, 'i', 'ii', 'iii'}\n",
    "set1.add(1)\n",
    "print(set1) #มี 1 แล้ว เพิ่ม 1 ในเซต ก็ไม่ได้เพิ่มจำนวนสมาชิก"
   ]
  },
  {
   "cell_type": "code",
   "execution_count": 83,
   "id": "159016a4",
   "metadata": {},
   "outputs": [
    {
     "name": "stdout",
     "output_type": "stream",
     "text": [
      "st1: ong\n",
      "str2: surawoot\n",
      "sts3: meekong\n",
      "{'surawoot', 'ong', 'meekong'} <class 'set'>\n",
      "{'surawoot', 'ong', 'meekong'} <class 'set'>\n"
     ]
    }
   ],
   "source": [
    "#101.\n",
    "set1 = set()\n",
    "str1 = str(input('st1: '))\n",
    "str2 = str(input('str2: '))\n",
    "str3 = str(input('sts3: '))  \n",
    "\n",
    "set1.add(str1)\n",
    "set1.add(str2)\n",
    "set1.add(str3)\n",
    "\n",
    "set2 = {str1, str2, str3}\n",
    "\n",
    "print(set1, type(set1))\n",
    "print(set2, type(set2))"
   ]
  },
  {
   "cell_type": "code",
   "execution_count": 85,
   "id": "58f399f0",
   "metadata": {},
   "outputs": [
    {
     "name": "stdout",
     "output_type": "stream",
     "text": [
      "str1: ong\n",
      "str2: surawoot\n",
      "sts3: meekong\n",
      "{'surawoot', 'ong', 'meekong'}\n"
     ]
    }
   ],
   "source": [
    "#102.\n",
    "set1 = set()\n",
    "str1 = str(input('str1: '))\n",
    "str2 = str(input('str2: ')) \n",
    "str3 = str(input('sts3: '))\n",
    "set1.update({str1, str2, str3})\n",
    "print(set1)"
   ]
  },
  {
   "cell_type": "code",
   "execution_count": 148,
   "id": "1bcc554d",
   "metadata": {},
   "outputs": [
    {
     "name": "stdout",
     "output_type": "stream",
     "text": [
      "{1, 2, 3, 'ii', 'iii'}\n"
     ]
    }
   ],
   "source": [
    "#103.\n",
    "set1 = {1, 2, 3, 'i', 'ii', 'iii'}\n",
    "set1.remove('i')\n",
    "print(set1)"
   ]
  },
  {
   "cell_type": "code",
   "execution_count": 149,
   "id": "53fd3fa7",
   "metadata": {},
   "outputs": [
    {
     "name": "stdout",
     "output_type": "stream",
     "text": [
      "6\n"
     ]
    }
   ],
   "source": [
    "#104.\n",
    "set1 = {1, 2, 3, 'i', 'ii', 'iii'}\n",
    "print(len(set1))"
   ]
  },
  {
   "cell_type": "code",
   "execution_count": 152,
   "id": "56d17294",
   "metadata": {},
   "outputs": [
    {
     "name": "stdout",
     "output_type": "stream",
     "text": [
      "n: 6\n",
      "False\n"
     ]
    }
   ],
   "source": [
    "#105.\n",
    "set1 = {1, 2, 3, 'i', 'ii', 'iii'}\n",
    "n = int(input('n: '))\n",
    "print(n in set1)"
   ]
  },
  {
   "cell_type": "code",
   "execution_count": 88,
   "id": "36c8cc04",
   "metadata": {},
   "outputs": [
    {
     "name": "stdout",
     "output_type": "stream",
     "text": [
      "{1, 2, 3, 4, 5, 6}\n",
      "{1, 2, 3, 4, 5, 6}\n"
     ]
    }
   ],
   "source": [
    "#106. union set\n",
    "set1 = {1, 2, 3, 4, 5}\n",
    "set2 = {3, 4, 5, 6}\n",
    "set3 = set1.union(set2)\n",
    "print(set1 | set2)\n",
    "print(set3)"
   ]
  },
  {
   "cell_type": "code",
   "execution_count": 89,
   "id": "fe842b50",
   "metadata": {},
   "outputs": [
    {
     "name": "stdout",
     "output_type": "stream",
     "text": [
      "{3, 4, 5}\n",
      "{3, 4, 5, 6}\n"
     ]
    }
   ],
   "source": [
    "#107. intersection set\n",
    "set1 = {1, 2, 3, 4, 5}\n",
    "set2 = {3, 4, 5, 6}\n",
    "print(set1 & set2)"
   ]
  },
  {
   "cell_type": "code",
   "execution_count": 90,
   "id": "00080ef2",
   "metadata": {},
   "outputs": [
    {
     "name": "stdout",
     "output_type": "stream",
     "text": [
      "{1, 2}\n"
     ]
    }
   ],
   "source": [
    "#108. different set1 - set2\n",
    "set1 = {1, 2, 3, 4, 5}\n",
    "set2 = {3, 4, 5, 6}\n",
    "set3 = set1 - set2\n",
    "print(set3)"
   ]
  },
  {
   "cell_type": "code",
   "execution_count": 164,
   "id": "b62d8a9e",
   "metadata": {},
   "outputs": [
    {
     "name": "stdout",
     "output_type": "stream",
     "text": [
      "{6}\n"
     ]
    }
   ],
   "source": [
    "#109. different set2 - set1\n",
    "set1 = {1, 2, 3, 4, 5}\n",
    "set2 = {3, 4, 5, 6}\n",
    "set3 = set2 - set1\n",
    "print(set3)"
   ]
  },
  {
   "cell_type": "code",
   "execution_count": 91,
   "id": "70feccb0",
   "metadata": {},
   "outputs": [
    {
     "name": "stdout",
     "output_type": "stream",
     "text": [
      "{1, 2, 6}\n",
      "{1, 2, 6}\n"
     ]
    }
   ],
   "source": [
    "#110.\n",
    "set1 = {1, 2, 3, 4, 5}\n",
    "set2 = {3, 4, 5, 6}\n",
    "set3 = set1.symmetric_difference(set2)\n",
    "print(set1 ^ set2)\n",
    "print(set3)\n",
    "#The symmetric_difference() method returns all the items present in given sets, except the items in their intersections."
   ]
  }
 ],
 "metadata": {
  "kernelspec": {
   "display_name": "Python 3 (ipykernel)",
   "language": "python",
   "name": "python3"
  },
  "language_info": {
   "codemirror_mode": {
    "name": "ipython",
    "version": 3
   },
   "file_extension": ".py",
   "mimetype": "text/x-python",
   "name": "python",
   "nbconvert_exporter": "python",
   "pygments_lexer": "ipython3",
   "version": "3.9.13"
  }
 },
 "nbformat": 4,
 "nbformat_minor": 5
}
